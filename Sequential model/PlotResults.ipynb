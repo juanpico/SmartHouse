{
 "cells": [
  {
   "cell_type": "code",
   "execution_count": 2,
   "metadata": {},
   "outputs": [],
   "source": [
    "import pandas as pd\n",
    "import numpy as np\n",
    "import plotly.express as px\n",
    "import plotly.graph_objects as go\n",
    "from plotly.subplots import make_subplots\n",
    "from LoadResults import loadResults"
   ]
  },
  {
   "cell_type": "code",
   "execution_count": 3,
   "metadata": {},
   "outputs": [],
   "source": [
    "# Load results\n",
    "results, decisions = loadResults(folder=\"Final Results\")"
   ]
  },
  {
   "cell_type": "code",
   "execution_count": 4,
   "metadata": {},
   "outputs": [
    {
     "data": {
      "text/html": [
       "<div>\n",
       "<style scoped>\n",
       "    .dataframe tbody tr th:only-of-type {\n",
       "        vertical-align: middle;\n",
       "    }\n",
       "\n",
       "    .dataframe tbody tr th {\n",
       "        vertical-align: top;\n",
       "    }\n",
       "\n",
       "    .dataframe thead th {\n",
       "        text-align: right;\n",
       "    }\n",
       "</style>\n",
       "<table border=\"1\" class=\"dataframe\">\n",
       "  <thead>\n",
       "    <tr style=\"text-align: right;\">\n",
       "      <th></th>\n",
       "      <th>instance</th>\n",
       "      <th>theta</th>\n",
       "      <th>policy</th>\n",
       "      <th>objective</th>\n",
       "      <th>electricity cost</th>\n",
       "      <th>discomfort index</th>\n",
       "    </tr>\n",
       "  </thead>\n",
       "  <tbody>\n",
       "    <tr>\n",
       "      <th>0</th>\n",
       "      <td>0</td>\n",
       "      <td>0.005</td>\n",
       "      <td>Deterministic</td>\n",
       "      <td>1.407174</td>\n",
       "      <td>125.077679</td>\n",
       "      <td>0.785714</td>\n",
       "    </tr>\n",
       "    <tr>\n",
       "      <th>1</th>\n",
       "      <td>0</td>\n",
       "      <td>0.005</td>\n",
       "      <td>Lookahead</td>\n",
       "      <td>1.130398</td>\n",
       "      <td>69.722535</td>\n",
       "      <td>0.785714</td>\n",
       "    </tr>\n",
       "    <tr>\n",
       "      <th>2</th>\n",
       "      <td>0</td>\n",
       "      <td>0.005</td>\n",
       "      <td>Oracle</td>\n",
       "      <td>0.628394</td>\n",
       "      <td>-30.678251</td>\n",
       "      <td>0.785714</td>\n",
       "    </tr>\n",
       "    <tr>\n",
       "      <th>3</th>\n",
       "      <td>0</td>\n",
       "      <td>0.005</td>\n",
       "      <td>Real</td>\n",
       "      <td>2.791272</td>\n",
       "      <td>558.254341</td>\n",
       "      <td>0.000000</td>\n",
       "    </tr>\n",
       "    <tr>\n",
       "      <th>4</th>\n",
       "      <td>0</td>\n",
       "      <td>0.010</td>\n",
       "      <td>Deterministic</td>\n",
       "      <td>2.028134</td>\n",
       "      <td>125.027650</td>\n",
       "      <td>0.785714</td>\n",
       "    </tr>\n",
       "  </tbody>\n",
       "</table>\n",
       "</div>"
      ],
      "text/plain": [
       "   instance  theta         policy  objective  electricity cost  \\\n",
       "0         0  0.005  Deterministic   1.407174        125.077679   \n",
       "1         0  0.005      Lookahead   1.130398         69.722535   \n",
       "2         0  0.005         Oracle   0.628394        -30.678251   \n",
       "3         0  0.005           Real   2.791272        558.254341   \n",
       "4         0  0.010  Deterministic   2.028134        125.027650   \n",
       "\n",
       "   discomfort index  \n",
       "0          0.785714  \n",
       "1          0.785714  \n",
       "2          0.785714  \n",
       "3          0.000000  \n",
       "4          0.785714  "
      ]
     },
     "execution_count": 4,
     "metadata": {},
     "output_type": "execute_result"
    }
   ],
   "source": [
    "results['instance'] = results['instance'].astype(int)\n",
    "results['theta'] = results['theta'].astype(float)\n",
    "results_sum = results.groupby(['instance','theta', 'date', 'policy'])[['objective', 'electricity cost', 'discomfort index']].sum().reset_index()\n",
    "results_mean = results_sum.groupby(['instance','theta', 'policy'])[['objective', 'electricity cost', 'discomfort index']].mean().reset_index()\n",
    "results_mean.head()"
   ]
  },
  {
   "cell_type": "code",
   "execution_count": 5,
   "metadata": {},
   "outputs": [
    {
     "data": {
      "application/vnd.plotly.v1+json": {
       "config": {
        "plotlyServerURL": "https://plot.ly"
       },
       "data": [
        {
         "legendgroup": "Deterministic",
         "line": {
          "color": "#636EFA",
          "width": 2
         },
         "marker": {
          "size": 5
         },
         "name": "Deterministic",
         "showlegend": true,
         "type": "scatter",
         "x": [
          0.005,
          0.01,
          0.02,
          0.05,
          0.1,
          0.2
         ],
         "xaxis": "x",
         "y": [
          1.4071741101048252,
          2.028133646167916,
          3.2420252963246217,
          7.0113293519661815,
          9.775821007697417,
          14.53067735352111
         ],
         "yaxis": "y"
        },
        {
         "legendgroup": "Lookahead",
         "line": {
          "color": "#EF553B",
          "width": 2
         },
         "marker": {
          "size": 5
         },
         "name": "Lookahead",
         "showlegend": true,
         "type": "scatter",
         "x": [
          0.005,
          0.01,
          0.02,
          0.05,
          0.1,
          0.2
         ],
         "xaxis": "x",
         "y": [
          1.130398389364604,
          1.398554564010496,
          2.058500395215489,
          3.153656876254039,
          1.9194406162894095,
          -0.8691822584568156
         ],
         "yaxis": "y"
        },
        {
         "legendgroup": "Oracle",
         "line": {
          "color": "#00CC96",
          "width": 2
         },
         "marker": {
          "size": 5
         },
         "name": "Oracle",
         "showlegend": true,
         "type": "scatter",
         "x": [
          0.005,
          0.01,
          0.02,
          0.05,
          0.1,
          0.2
         ],
         "xaxis": "x",
         "y": [
          0.6283944581436712,
          0.4682838964121547,
          0.05340890509333262,
          -2.3163486639818553,
          -8.16784095221905,
          -21.021507470796173
         ],
         "yaxis": "y"
        },
        {
         "legendgroup": "Real",
         "line": {
          "color": "#AB63FA",
          "width": 2
         },
         "marker": {
          "size": 5
         },
         "name": "Real",
         "showlegend": true,
         "type": "scatter",
         "x": [
          0.005,
          0.01,
          0.02,
          0.05,
          0.1,
          0.2
         ],
         "xaxis": "x",
         "y": [
          2.791271703554413,
          5.58254340710883,
          11.165086814217663,
          27.912717035544162,
          55.825434071088324,
          111.65086814217665
         ],
         "yaxis": "y"
        },
        {
         "legendgroup": "Deterministic",
         "line": {
          "color": "#636EFA",
          "width": 2
         },
         "marker": {
          "size": 5
         },
         "name": "Deterministic",
         "showlegend": false,
         "type": "scatter",
         "x": [
          0.005,
          0.01,
          0.02,
          0.05,
          0.1,
          0.2
         ],
         "xaxis": "x2",
         "y": [
          -0.6036433257635707,
          -1.6887681330086228,
          -3.859017747498727,
          -10.4141828623309,
          -21.294818407177182,
          -43.586836817576106
         ],
         "yaxis": "y2"
        },
        {
         "legendgroup": "Lookahead",
         "line": {
          "color": "#EF553B",
          "width": 2
         },
         "marker": {
          "size": 5
         },
         "name": "Lookahead",
         "showlegend": false,
         "type": "scatter",
         "x": [
          0.005,
          0.01,
          0.02,
          0.05,
          0.1,
          0.2
         ],
         "xaxis": "x2",
         "y": [
          -0.9604110787367807,
          -2.4680004371496618,
          -5.417482355780805,
          -14.265928111674235,
          -28.98811132156106,
          -58.60111848739459
         ],
         "yaxis": "y2"
        },
        {
         "legendgroup": "Oracle",
         "line": {
          "color": "#00CC96",
          "width": 2
         },
         "marker": {
          "size": 5
         },
         "name": "Oracle",
         "showlegend": false,
         "type": "scatter",
         "x": [
          0.005,
          0.01,
          0.02,
          0.05,
          0.1,
          0.2
         ],
         "xaxis": "x2",
         "y": [
          -1.4203279267379916,
          -3.3221373349574645,
          -7.12575615139641,
          -18.536612600713248,
          -37.581077845494576,
          -75.9674411467453
         ],
         "yaxis": "y2"
        },
        {
         "legendgroup": "Real",
         "line": {
          "color": "#AB63FA",
          "width": 2
         },
         "marker": {
          "size": 5
         },
         "name": "Real",
         "showlegend": false,
         "type": "scatter",
         "x": [
          0.005,
          0.01,
          0.02,
          0.05,
          0.1,
          0.2
         ],
         "xaxis": "x2",
         "y": [
          1.9192303654930398,
          3.8384607309860828,
          7.676921461972168,
          19.192303654930427,
          38.38460730986086,
          76.76921461972172
         ],
         "yaxis": "y2"
        },
        {
         "legendgroup": "Deterministic",
         "line": {
          "color": "#636EFA",
          "width": 2
         },
         "marker": {
          "size": 5
         },
         "name": "Deterministic",
         "showlegend": false,
         "type": "scatter",
         "x": [
          0.005,
          0.01,
          0.02,
          0.05,
          0.1,
          0.2
         ],
         "xaxis": "x3",
         "y": [
          -1.0141843008763234,
          -3.147557749518059,
          -7.407426701750851,
          -20.581877255448457,
          -43.20191677432354,
          -88.49648206500154
         ],
         "yaxis": "y3"
        },
        {
         "legendgroup": "Lookahead",
         "line": {
          "color": "#EF553B",
          "width": 2
         },
         "marker": {
          "size": 5
         },
         "name": "Lookahead",
         "showlegend": false,
         "type": "scatter",
         "x": [
          0.005,
          0.01,
          0.02,
          0.05,
          0.1,
          0.2
         ],
         "xaxis": "x3",
         "y": [
          -1.6390205315377595,
          -4.469469828933071,
          -10.054669615469338,
          -26.93638287920986,
          -55.55028011032908,
          -113.30525677521922
         ],
         "yaxis": "y3"
        },
        {
         "legendgroup": "Oracle",
         "line": {
          "color": "#00CC96",
          "width": 2
         },
         "marker": {
          "size": 5
         },
         "name": "Oracle",
         "showlegend": false,
         "type": "scatter",
         "x": [
          0.005,
          0.01,
          0.02,
          0.05,
          0.1,
          0.2
         ],
         "xaxis": "x3",
         "y": [
          -2.1259215550202164,
          -5.367869821730519,
          -11.870197130827433,
          -31.549802578284513,
          -64.80166519654817,
          -131.762940647876
         ],
         "yaxis": "y3"
        },
        {
         "legendgroup": "Real",
         "line": {
          "color": "#AB63FA",
          "width": 2
         },
         "marker": {
          "size": 5
         },
         "name": "Real",
         "showlegend": false,
         "type": "scatter",
         "x": [
          0.005,
          0.01,
          0.02,
          0.05,
          0.1,
          0.2
         ],
         "xaxis": "x3",
         "y": [
          4.40808137584377,
          8.816162751687543,
          17.63232550337509,
          44.08081375843772,
          88.16162751687546,
          176.3232550337509
         ],
         "yaxis": "y3"
        },
        {
         "legendgroup": "Deterministic",
         "line": {
          "color": "#636EFA",
          "width": 2
         },
         "marker": {
          "size": 5
         },
         "name": "Deterministic",
         "showlegend": false,
         "type": "scatter",
         "x": [
          0.005,
          0.01,
          0.02,
          0.05,
          0.1,
          0.2
         ],
         "xaxis": "x4",
         "y": [
          -2.5638272201239833,
          -5.4480326973354,
          -11.212847701096948,
          -28.55679192295061,
          -57.515400052488054,
          -115.53651567355647
         ],
         "yaxis": "y4"
        },
        {
         "legendgroup": "Lookahead",
         "line": {
          "color": "#EF553B",
          "width": 2
         },
         "marker": {
          "size": 5
         },
         "name": "Lookahead",
         "showlegend": false,
         "type": "scatter",
         "x": [
          0.005,
          0.01,
          0.02,
          0.05,
          0.1,
          0.2
         ],
         "xaxis": "x4",
         "y": [
          -3.2413648257889047,
          -6.91210222917151,
          -14.140194615598126,
          -35.8870813485869,
          -72.1496289232867,
          -144.85095166005866
         ],
         "yaxis": "y4"
        },
        {
         "legendgroup": "Oracle",
         "line": {
          "color": "#00CC96",
          "width": 2
         },
         "marker": {
          "size": 5
         },
         "name": "Oracle",
         "showlegend": false,
         "type": "scatter",
         "x": [
          0.005,
          0.01,
          0.02,
          0.05,
          0.1,
          0.2
         ],
         "xaxis": "x4",
         "y": [
          -4.105249659208535,
          -8.528471668647486,
          -17.38331229358006,
          -43.98458598243153,
          -88.3733401117526,
          -177.51958637065383
         ],
         "yaxis": "y4"
        },
        {
         "legendgroup": "Real",
         "line": {
          "color": "#AB63FA",
          "width": 2
         },
         "marker": {
          "size": 5
         },
         "name": "Real",
         "showlegend": false,
         "type": "scatter",
         "x": [
          0.005,
          0.01,
          0.02,
          0.05,
          0.1,
          0.2
         ],
         "xaxis": "x4",
         "y": [
          8.202324810056435,
          16.404649620112874,
          32.809299240225755,
          82.0232481005644,
          164.0464962011288,
          328.0929924022576
         ],
         "yaxis": "y4"
        },
        {
         "legendgroup": "Deterministic",
         "line": {
          "color": "#636EFA",
          "width": 2
         },
         "marker": {
          "size": 5
         },
         "name": "Deterministic",
         "showlegend": false,
         "type": "scatter",
         "x": [
          0.005,
          0.01,
          0.02,
          0.05,
          0.1,
          0.2
         ],
         "xaxis": "x5",
         "y": [
          -0.42248829081626954,
          -1.3147121355782654,
          -3.103916739123611,
          -8.47705546368396,
          -17.4298298730641,
          -35.39819601034164
         ],
         "yaxis": "y5"
        },
        {
         "legendgroup": "Lookahead",
         "line": {
          "color": "#EF553B",
          "width": 2
         },
         "marker": {
          "size": 5
         },
         "name": "Lookahead",
         "showlegend": false,
         "type": "scatter",
         "x": [
          0.005,
          0.01,
          0.02,
          0.05,
          0.1,
          0.2
         ],
         "xaxis": "x5",
         "y": [
          -0.8150863593413954,
          -2.188445535496532,
          -4.847448922232734,
          -12.816282888076596,
          -26.10934857269295,
          -52.714280463159334
         ],
         "yaxis": "y5"
        },
        {
         "legendgroup": "Oracle",
         "line": {
          "color": "#00CC96",
          "width": 2
         },
         "marker": {
          "size": 5
         },
         "name": "Oracle",
         "showlegend": false,
         "type": "scatter",
         "x": [
          0.005,
          0.01,
          0.02,
          0.05,
          0.1,
          0.2
         ],
         "xaxis": "x5",
         "y": [
          -1.3329894821782575,
          -3.1375842016854403,
          -6.747332446033441,
          -17.58009812965831,
          -35.65467719144108,
          -71.98281192447567
         ],
         "yaxis": "y5"
        },
        {
         "legendgroup": "Real",
         "line": {
          "color": "#AB63FA",
          "width": 2
         },
         "marker": {
          "size": 5
         },
         "name": "Real",
         "showlegend": false,
         "type": "scatter",
         "x": [
          0.005,
          0.01,
          0.02,
          0.05,
          0.1,
          0.2
         ],
         "xaxis": "x5",
         "y": [
          3.3514349694122187,
          6.70286993882444,
          13.405739877648884,
          33.51434969412222,
          67.02869938824443,
          134.05739877648887
         ],
         "yaxis": "y5"
        },
        {
         "legendgroup": "Deterministic",
         "line": {
          "color": "#636EFA",
          "width": 2
         },
         "marker": {
          "size": 5
         },
         "name": "Deterministic",
         "showlegend": false,
         "type": "scatter",
         "x": [
          0.005,
          0.01,
          0.02,
          0.05,
          0.1,
          0.2
         ],
         "xaxis": "x6",
         "y": [
          -0.19377603248173209,
          -1.024830708443067,
          -2.646084072243146,
          -7.808674511701318,
          -19.68969283081868,
          -45.19914728203174
         ],
         "yaxis": "y6"
        },
        {
         "legendgroup": "Lookahead",
         "line": {
          "color": "#EF553B",
          "width": 2
         },
         "marker": {
          "size": 5
         },
         "name": "Lookahead",
         "showlegend": false,
         "type": "scatter",
         "x": [
          0.005,
          0.01,
          0.02,
          0.05,
          0.1,
          0.2
         ],
         "xaxis": "x6",
         "y": [
          -0.5655395975671279,
          -1.8371982699620597,
          -4.310247003638854,
          -12.592525118532063,
          -29.414145216710985,
          -64.38340227631387
         ],
         "yaxis": "y6"
        },
        {
         "legendgroup": "Oracle",
         "line": {
          "color": "#00CC96",
          "width": 2
         },
         "marker": {
          "size": 5
         },
         "name": "Oracle",
         "showlegend": false,
         "type": "scatter",
         "x": [
          0.005,
          0.01,
          0.02,
          0.05,
          0.1,
          0.2
         ],
         "xaxis": "x6",
         "y": [
          -1.0295799064146214,
          -2.7083984820264524,
          -6.206537143348685,
          -17.934437752436324,
          -39.66465303262781,
          -84.71889838761602
         ],
         "yaxis": "y6"
        },
        {
         "legendgroup": "Real",
         "line": {
          "color": "#AB63FA",
          "width": 2
         },
         "marker": {
          "size": 5
         },
         "name": "Real",
         "showlegend": false,
         "type": "scatter",
         "x": [
          0.005,
          0.01,
          0.02,
          0.05,
          0.1,
          0.2
         ],
         "xaxis": "x6",
         "y": [
          3.1182146789694447,
          6.236429357938893,
          12.472858715877788,
          31.182146789694475,
          62.364293579388956,
          124.72858715877791
         ],
         "yaxis": "y6"
        },
        {
         "legendgroup": "Deterministic",
         "line": {
          "color": "#636EFA",
          "width": 2
         },
         "marker": {
          "size": 5
         },
         "name": "Deterministic",
         "showlegend": false,
         "type": "scatter",
         "x": [
          0.005,
          0.01,
          0.02,
          0.05,
          0.1,
          0.2
         ],
         "xaxis": "x7",
         "y": [
          7.004520824305785,
          6.304795860239628,
          4.923180871570656,
          0.7192891247447066,
          -6.264111094307053,
          -20.35978584239587
         ],
         "yaxis": "y7"
        },
        {
         "legendgroup": "Lookahead",
         "line": {
          "color": "#EF553B",
          "width": 2
         },
         "marker": {
          "size": 5
         },
         "name": "Lookahead",
         "showlegend": false,
         "type": "scatter",
         "x": [
          0.005,
          0.01,
          0.02,
          0.05,
          0.1,
          0.2
         ],
         "xaxis": "x7",
         "y": [
          6.683819596653056,
          5.590218419264782,
          3.4753677141056034,
          -2.8691844013719363,
          -13.443437927167833,
          -34.59194497875963
         ],
         "yaxis": "y7"
        },
        {
         "legendgroup": "Oracle",
         "line": {
          "color": "#00CC96",
          "width": 2
         },
         "marker": {
          "size": 5
         },
         "name": "Oracle",
         "showlegend": false,
         "type": "scatter",
         "x": [
          0.005,
          0.01,
          0.02,
          0.05,
          0.1,
          0.2
         ],
         "xaxis": "x7",
         "y": [
          6.254576624440008,
          4.804084124456055,
          1.9030991244881479,
          -6.799855875415574,
          -21.304780875255112,
          -50.31473757723681
         ],
         "yaxis": "y7"
        },
        {
         "legendgroup": "Real",
         "line": {
          "color": "#AB63FA",
          "width": 2
         },
         "marker": {
          "size": 5
         },
         "name": "Real",
         "showlegend": false,
         "type": "scatter",
         "x": [
          0.005,
          0.01,
          0.02,
          0.05,
          0.1,
          0.2
         ],
         "xaxis": "x7",
         "y": [
          1.5586890568827383,
          3.1173781137654797,
          6.234756227530962,
          15.58689056882741,
          31.173781137654824,
          62.347562275309656
         ],
         "yaxis": "y7"
        },
        {
         "legendgroup": "Deterministic",
         "line": {
          "color": "#636EFA",
          "width": 2
         },
         "marker": {
          "size": 5
         },
         "name": "Deterministic",
         "showlegend": false,
         "type": "scatter",
         "x": [
          0.005,
          0.01,
          0.02,
          0.05,
          0.1,
          0.2
         ],
         "xaxis": "x8",
         "y": [
          1.187657794008532,
          0.5536761560141141,
          -0.7279048989597695,
          -4.5266083216393085,
          -11.160533066116818,
          -24.85850209016985
         ],
         "yaxis": "y8"
        },
        {
         "legendgroup": "Lookahead",
         "line": {
          "color": "#EF553B",
          "width": 2
         },
         "marker": {
          "size": 5
         },
         "name": "Lookahead",
         "showlegend": false,
         "type": "scatter",
         "x": [
          0.005,
          0.01,
          0.02,
          0.05,
          0.1,
          0.2
         ],
         "xaxis": "x8",
         "y": [
          0.746948421478704,
          -0.40432880074897465,
          -2.6315782157776524,
          -9.319244201708878,
          -20.699303860154018,
          -43.76559094359474
         ],
         "yaxis": "y8"
        },
        {
         "legendgroup": "Oracle",
         "line": {
          "color": "#00CC96",
          "width": 2
         },
         "marker": {
          "size": 5
         },
         "name": "Oracle",
         "showlegend": false,
         "type": "scatter",
         "x": [
          0.005,
          0.01,
          0.02,
          0.05,
          0.1,
          0.2
         ],
         "xaxis": "x8",
         "y": [
          0.2770635441923567,
          -1.2705157687581425,
          -4.365674394659141,
          -13.679306404749914,
          -29.470050909231208,
          -61.44607456112864
         ],
         "yaxis": "y8"
        },
        {
         "legendgroup": "Real",
         "line": {
          "color": "#AB63FA",
          "width": 2
         },
         "marker": {
          "size": 5
         },
         "name": "Real",
         "showlegend": false,
         "type": "scatter",
         "x": [
          0.005,
          0.01,
          0.02,
          0.05,
          0.1,
          0.2
         ],
         "xaxis": "x8",
         "y": [
          3.528725718710794,
          7.057451437421593,
          14.114902874843189,
          35.287257187107976,
          70.57451437421595,
          141.1490287484319
         ],
         "yaxis": "y8"
        },
        {
         "legendgroup": "Deterministic",
         "line": {
          "color": "#636EFA",
          "width": 2
         },
         "marker": {
          "size": 5
         },
         "name": "Deterministic",
         "showlegend": false,
         "type": "scatter",
         "x": [
          0.005,
          0.01,
          0.02,
          0.05,
          0.1,
          0.2
         ],
         "xaxis": "x9",
         "y": [
          3.5977334921035276,
          3.98761293772869,
          4.801452585450608,
          7.070663671635142,
          11.034251075849532,
          17.813039059297655
         ],
         "yaxis": "y9"
        },
        {
         "legendgroup": "Lookahead",
         "line": {
          "color": "#EF553B",
          "width": 2
         },
         "marker": {
          "size": 5
         },
         "name": "Lookahead",
         "showlegend": false,
         "type": "scatter",
         "x": [
          0.005,
          0.01,
          0.02,
          0.05,
          0.1,
          0.2
         ],
         "xaxis": "x9",
         "y": [
          3.25831165212808,
          3.232731819925987,
          3.2582715018843493,
          3.2324410907800445,
          2.919377063398774,
          1.7141945976785191
         ],
         "yaxis": "y9"
        },
        {
         "legendgroup": "Oracle",
         "line": {
          "color": "#00CC96",
          "width": 2
         },
         "marker": {
          "size": 5
         },
         "name": "Oracle",
         "showlegend": false,
         "type": "scatter",
         "x": [
          0.005,
          0.01,
          0.02,
          0.05,
          0.1,
          0.2
         ],
         "xaxis": "x9",
         "y": [
          2.8086032617048975,
          2.40267747357676,
          1.5817927288662879,
          -0.9568452194039654,
          -5.574240576237698,
          -16.433018115795655
         ],
         "yaxis": "y9"
        },
        {
         "legendgroup": "Real",
         "line": {
          "color": "#AB63FA",
          "width": 2
         },
         "marker": {
          "size": 5
         },
         "name": "Real",
         "showlegend": false,
         "type": "scatter",
         "x": [
          0.005,
          0.01,
          0.02,
          0.05,
          0.1,
          0.2
         ],
         "xaxis": "x9",
         "y": [
          2.2691532885575847,
          4.538306577115173,
          9.076613154230348,
          22.691532885575874,
          45.38306577115175,
          90.76613154230351
         ],
         "yaxis": "y9"
        },
        {
         "legendgroup": "Deterministic",
         "line": {
          "color": "#636EFA",
          "width": 2
         },
         "marker": {
          "size": 5
         },
         "name": "Deterministic",
         "showlegend": false,
         "type": "scatter",
         "x": [
          0.005,
          0.01,
          0.02,
          0.05,
          0.1,
          0.2
         ],
         "xaxis": "x10",
         "y": [
          0.9404587029421546,
          1.0161787376641949,
          1.1770493329430451,
          1.5878734421769534,
          2.1941292803516657,
          3.366320331828392
         ],
         "yaxis": "y10"
        },
        {
         "legendgroup": "Lookahead",
         "line": {
          "color": "#EF553B",
          "width": 2
         },
         "marker": {
          "size": 5
         },
         "name": "Lookahead",
         "showlegend": false,
         "type": "scatter",
         "x": [
          0.005,
          0.01,
          0.02,
          0.05,
          0.1,
          0.2
         ],
         "xaxis": "x10",
         "y": [
          0.6013709671399051,
          0.2553966454628188,
          -0.3464029758092781,
          -2.28145949095041,
          -5.572184774507867,
          -12.20296474675138
         ],
         "yaxis": "y10"
        },
        {
         "legendgroup": "Oracle",
         "line": {
          "color": "#00CC96",
          "width": 2
         },
         "marker": {
          "size": 5
         },
         "name": "Oracle",
         "showlegend": false,
         "type": "scatter",
         "x": [
          0.005,
          0.01,
          0.02,
          0.05,
          0.1,
          0.2
         ],
         "xaxis": "x10",
         "y": [
          0.11758263683837832,
          -0.6311000376858388,
          -2.1428948486205632,
          -6.756283058649791,
          -14.518172082309386,
          -30.06901117418329
         ],
         "yaxis": "y10"
        },
        {
         "legendgroup": "Real",
         "line": {
          "color": "#AB63FA",
          "width": 2
         },
         "marker": {
          "size": 5
         },
         "name": "Real",
         "showlegend": false,
         "type": "scatter",
         "x": [
          0.005,
          0.01,
          0.02,
          0.05,
          0.1,
          0.2
         ],
         "xaxis": "x10",
         "y": [
          2.526641451487558,
          5.053282902975119,
          10.106565805950241,
          25.266414514875606,
          50.53282902975121,
          101.06565805950244
         ],
         "yaxis": "y10"
        },
        {
         "legendgroup": "Deterministic",
         "line": {
          "color": "#636EFA",
          "width": 2
         },
         "marker": {
          "size": 5
         },
         "name": "Deterministic",
         "showlegend": false,
         "type": "scatter",
         "x": [
          0.005,
          0.01,
          0.02,
          0.05,
          0.1,
          0.2
         ],
         "xaxis": "x11",
         "y": [
          -0.6773220965101068,
          -3.6683553586939004,
          -9.63950708665304,
          -27.17987232831013,
          -58.10180675105746,
          -125.52782403197541
         ],
         "yaxis": "y11"
        },
        {
         "legendgroup": "Lookahead",
         "line": {
          "color": "#EF553B",
          "width": 2
         },
         "marker": {
          "size": 5
         },
         "name": "Lookahead",
         "showlegend": false,
         "type": "scatter",
         "x": [
          0.005,
          0.01,
          0.02,
          0.05,
          0.1,
          0.2
         ],
         "xaxis": "x11",
         "y": [
          -1.254370352518121,
          -4.89109538874461,
          -12.204094564479785,
          -33.71836532553983,
          -70.96316747178076,
          -151.68016664491725
         ],
         "yaxis": "y11"
        },
        {
         "legendgroup": "Oracle",
         "line": {
          "color": "#00CC96",
          "width": 2
         },
         "marker": {
          "size": 5
         },
         "name": "Oracle",
         "showlegend": false,
         "type": "scatter",
         "x": [
          0.005,
          0.01,
          0.02,
          0.05,
          0.1,
          0.2
         ],
         "xaxis": "x11",
         "y": [
          -1.7454360075066568,
          -5.8184103492083175,
          -14.011817417713985,
          -38.877958961439674,
          -82.16281256913858,
          -172.07856862052463
         ],
         "yaxis": "y11"
        },
        {
         "legendgroup": "Real",
         "line": {
          "color": "#AB63FA",
          "width": 2
         },
         "marker": {
          "size": 5
         },
         "name": "Real",
         "showlegend": false,
         "type": "scatter",
         "x": [
          0.005,
          0.01,
          0.02,
          0.05,
          0.1,
          0.2
         ],
         "xaxis": "x11",
         "y": [
          5.356140979087522,
          10.712281958175048,
          21.4245639163501,
          53.56140979087526,
          107.12281958175052,
          214.24563916350107
         ],
         "yaxis": "y11"
        },
        {
         "legendgroup": "Deterministic",
         "line": {
          "color": "#636EFA",
          "width": 2
         },
         "marker": {
          "size": 5
         },
         "name": "Deterministic",
         "showlegend": false,
         "type": "scatter",
         "x": [
          0.005,
          0.01,
          0.02,
          0.05,
          0.1,
          0.2
         ],
         "xaxis": "x12",
         "y": [
          -0.9584350996307968,
          -2.3416708075297414,
          -5.108306888790671,
          -13.451879194826033,
          -27.32856356692738,
          -55.12991219836699
         ],
         "yaxis": "y12"
        },
        {
         "legendgroup": "Lookahead",
         "line": {
          "color": "#EF553B",
          "width": 2
         },
         "marker": {
          "size": 5
         },
         "name": "Lookahead",
         "showlegend": false,
         "type": "scatter",
         "x": [
          0.005,
          0.01,
          0.02,
          0.05,
          0.1,
          0.2
         ],
         "xaxis": "x12",
         "y": [
          -1.3803305034521982,
          -3.2589368762654325,
          -6.942873752530864,
          -17.99468438132716,
          -36.41804765427509,
          -73.26998886059845
         ],
         "yaxis": "y12"
        },
        {
         "legendgroup": "Oracle",
         "line": {
          "color": "#00CC96",
          "width": 2
         },
         "marker": {
          "size": 5
         },
         "name": "Oracle",
         "showlegend": false,
         "type": "scatter",
         "x": [
          0.005,
          0.01,
          0.02,
          0.05,
          0.1,
          0.2
         ],
         "xaxis": "x12",
         "y": [
          -1.8263485504859596,
          -4.0776971009719185,
          -8.580394201943836,
          -22.088485504859587,
          -44.60552294325295,
          -89.75664934078434
         ],
         "yaxis": "y12"
        },
        {
         "legendgroup": "Real",
         "line": {
          "color": "#AB63FA",
          "width": 2
         },
         "marker": {
          "size": 5
         },
         "name": "Real",
         "showlegend": false,
         "type": "scatter",
         "x": [
          0.005,
          0.01,
          0.02,
          0.05,
          0.1,
          0.2
         ],
         "xaxis": "x12",
         "y": [
          2.5224289171033027,
          5.044857834206608,
          10.089715668413222,
          25.224289171033057,
          50.44857834206612,
          100.89715668413224
         ],
         "yaxis": "y12"
        },
        {
         "legendgroup": "Deterministic",
         "line": {
          "color": "#636EFA",
          "width": 2
         },
         "marker": {
          "size": 5
         },
         "name": "Deterministic",
         "showlegend": false,
         "type": "scatter",
         "x": [
          0.005,
          0.01,
          0.02,
          0.05,
          0.1,
          0.2
         ],
         "xaxis": "x13",
         "y": [
          -0.9284530863019497,
          -2.224381370625065,
          -4.810245935911568,
          -12.605930974642515,
          -26.305038832844737,
          -54.31669097176442
         ],
         "yaxis": "y13"
        },
        {
         "legendgroup": "Lookahead",
         "line": {
          "color": "#EF553B",
          "width": 2
         },
         "marker": {
          "size": 5
         },
         "name": "Lookahead",
         "showlegend": false,
         "type": "scatter",
         "x": [
          0.005,
          0.01,
          0.02,
          0.05,
          0.1,
          0.2
         ],
         "xaxis": "x13",
         "y": [
          -1.504513257060462,
          -3.453069945445436,
          -7.281956621385173,
          -18.80425944207613,
          -38.27233570361479,
          -78.14410812515041
         ],
         "yaxis": "y13"
        },
        {
         "legendgroup": "Oracle",
         "line": {
          "color": "#00CC96",
          "width": 2
         },
         "marker": {
          "size": 5
         },
         "name": "Oracle",
         "showlegend": false,
         "type": "scatter",
         "x": [
          0.005,
          0.01,
          0.02,
          0.05,
          0.1,
          0.2
         ],
         "xaxis": "x13",
         "y": [
          -1.9995732513544409,
          -4.368377271939651,
          -9.113577968300953,
          -23.397476010504796,
          -47.7166665726748,
          -97.11579417680092
         ],
         "yaxis": "y13"
        },
        {
         "legendgroup": "Real",
         "line": {
          "color": "#AB63FA",
          "width": 2
         },
         "marker": {
          "size": 5
         },
         "name": "Real",
         "showlegend": false,
         "type": "scatter",
         "x": [
          0.005,
          0.01,
          0.02,
          0.05,
          0.1,
          0.2
         ],
         "xaxis": "x13",
         "y": [
          4.068882327377714,
          8.137764654755431,
          16.275529309510866,
          40.68882327377717,
          81.37764654755435,
          162.7552930951087
         ],
         "yaxis": "y13"
        }
       ],
       "layout": {
        "annotations": [
         {
          "font": {
           "size": 16
          },
          "showarrow": false,
          "text": "House: 0",
          "x": 0.08399999999999999,
          "xanchor": "center",
          "xref": "paper",
          "y": 1,
          "yanchor": "bottom",
          "yref": "paper"
         },
         {
          "font": {
           "size": 16
          },
          "showarrow": false,
          "text": "House: 1",
          "x": 0.292,
          "xanchor": "center",
          "xref": "paper",
          "y": 1,
          "yanchor": "bottom",
          "yref": "paper"
         },
         {
          "font": {
           "size": 16
          },
          "showarrow": false,
          "text": "House: 2",
          "x": 0.5,
          "xanchor": "center",
          "xref": "paper",
          "y": 1,
          "yanchor": "bottom",
          "yref": "paper"
         },
         {
          "font": {
           "size": 16
          },
          "showarrow": false,
          "text": "House: 3",
          "x": 0.708,
          "xanchor": "center",
          "xref": "paper",
          "y": 1,
          "yanchor": "bottom",
          "yref": "paper"
         },
         {
          "font": {
           "size": 16
          },
          "showarrow": false,
          "text": "House: 4",
          "x": 0.9159999999999999,
          "xanchor": "center",
          "xref": "paper",
          "y": 1,
          "yanchor": "bottom",
          "yref": "paper"
         },
         {
          "font": {
           "size": 16
          },
          "showarrow": false,
          "text": "House: 5",
          "x": 0.08399999999999999,
          "xanchor": "center",
          "xref": "paper",
          "y": 0.6111111111111112,
          "yanchor": "bottom",
          "yref": "paper"
         },
         {
          "font": {
           "size": 16
          },
          "showarrow": false,
          "text": "House: 6",
          "x": 0.292,
          "xanchor": "center",
          "xref": "paper",
          "y": 0.6111111111111112,
          "yanchor": "bottom",
          "yref": "paper"
         },
         {
          "font": {
           "size": 16
          },
          "showarrow": false,
          "text": "House: 7",
          "x": 0.5,
          "xanchor": "center",
          "xref": "paper",
          "y": 0.6111111111111112,
          "yanchor": "bottom",
          "yref": "paper"
         },
         {
          "font": {
           "size": 16
          },
          "showarrow": false,
          "text": "House: 8",
          "x": 0.708,
          "xanchor": "center",
          "xref": "paper",
          "y": 0.6111111111111112,
          "yanchor": "bottom",
          "yref": "paper"
         },
         {
          "font": {
           "size": 16
          },
          "showarrow": false,
          "text": "House: 9",
          "x": 0.9159999999999999,
          "xanchor": "center",
          "xref": "paper",
          "y": 0.6111111111111112,
          "yanchor": "bottom",
          "yref": "paper"
         },
         {
          "font": {
           "size": 16
          },
          "showarrow": false,
          "text": "House: 10",
          "x": 0.08399999999999999,
          "xanchor": "center",
          "xref": "paper",
          "y": 0.22222222222222224,
          "yanchor": "bottom",
          "yref": "paper"
         },
         {
          "font": {
           "size": 16
          },
          "showarrow": false,
          "text": "House: 11",
          "x": 0.292,
          "xanchor": "center",
          "xref": "paper",
          "y": 0.22222222222222224,
          "yanchor": "bottom",
          "yref": "paper"
         },
         {
          "font": {
           "size": 16
          },
          "showarrow": false,
          "text": "House: 12",
          "x": 0.5,
          "xanchor": "center",
          "xref": "paper",
          "y": 0.22222222222222224,
          "yanchor": "bottom",
          "yref": "paper"
         },
         {
          "font": {
           "size": 16
          },
          "showarrow": false,
          "text": "Theta",
          "x": 0.5,
          "xanchor": "center",
          "xref": "paper",
          "y": 0,
          "yanchor": "top",
          "yref": "paper",
          "yshift": -30
         },
         {
          "font": {
           "size": 16
          },
          "showarrow": false,
          "text": "Weighted objective",
          "textangle": -90,
          "x": 0,
          "xanchor": "right",
          "xref": "paper",
          "xshift": -40,
          "y": 0.5,
          "yanchor": "middle",
          "yref": "paper"
         }
        ],
        "height": 560,
        "legend": {
         "orientation": "h",
         "x": 1,
         "xanchor": "right",
         "y": 1.05,
         "yanchor": "bottom"
        },
        "template": {
         "data": {
          "bar": [
           {
            "error_x": {
             "color": "#2a3f5f"
            },
            "error_y": {
             "color": "#2a3f5f"
            },
            "marker": {
             "line": {
              "color": "#E5ECF6",
              "width": 0.5
             },
             "pattern": {
              "fillmode": "overlay",
              "size": 10,
              "solidity": 0.2
             }
            },
            "type": "bar"
           }
          ],
          "barpolar": [
           {
            "marker": {
             "line": {
              "color": "#E5ECF6",
              "width": 0.5
             },
             "pattern": {
              "fillmode": "overlay",
              "size": 10,
              "solidity": 0.2
             }
            },
            "type": "barpolar"
           }
          ],
          "carpet": [
           {
            "aaxis": {
             "endlinecolor": "#2a3f5f",
             "gridcolor": "white",
             "linecolor": "white",
             "minorgridcolor": "white",
             "startlinecolor": "#2a3f5f"
            },
            "baxis": {
             "endlinecolor": "#2a3f5f",
             "gridcolor": "white",
             "linecolor": "white",
             "minorgridcolor": "white",
             "startlinecolor": "#2a3f5f"
            },
            "type": "carpet"
           }
          ],
          "choropleth": [
           {
            "colorbar": {
             "outlinewidth": 0,
             "ticks": ""
            },
            "type": "choropleth"
           }
          ],
          "contour": [
           {
            "colorbar": {
             "outlinewidth": 0,
             "ticks": ""
            },
            "colorscale": [
             [
              0,
              "#0d0887"
             ],
             [
              0.1111111111111111,
              "#46039f"
             ],
             [
              0.2222222222222222,
              "#7201a8"
             ],
             [
              0.3333333333333333,
              "#9c179e"
             ],
             [
              0.4444444444444444,
              "#bd3786"
             ],
             [
              0.5555555555555556,
              "#d8576b"
             ],
             [
              0.6666666666666666,
              "#ed7953"
             ],
             [
              0.7777777777777778,
              "#fb9f3a"
             ],
             [
              0.8888888888888888,
              "#fdca26"
             ],
             [
              1,
              "#f0f921"
             ]
            ],
            "type": "contour"
           }
          ],
          "contourcarpet": [
           {
            "colorbar": {
             "outlinewidth": 0,
             "ticks": ""
            },
            "type": "contourcarpet"
           }
          ],
          "heatmap": [
           {
            "colorbar": {
             "outlinewidth": 0,
             "ticks": ""
            },
            "colorscale": [
             [
              0,
              "#0d0887"
             ],
             [
              0.1111111111111111,
              "#46039f"
             ],
             [
              0.2222222222222222,
              "#7201a8"
             ],
             [
              0.3333333333333333,
              "#9c179e"
             ],
             [
              0.4444444444444444,
              "#bd3786"
             ],
             [
              0.5555555555555556,
              "#d8576b"
             ],
             [
              0.6666666666666666,
              "#ed7953"
             ],
             [
              0.7777777777777778,
              "#fb9f3a"
             ],
             [
              0.8888888888888888,
              "#fdca26"
             ],
             [
              1,
              "#f0f921"
             ]
            ],
            "type": "heatmap"
           }
          ],
          "heatmapgl": [
           {
            "colorbar": {
             "outlinewidth": 0,
             "ticks": ""
            },
            "colorscale": [
             [
              0,
              "#0d0887"
             ],
             [
              0.1111111111111111,
              "#46039f"
             ],
             [
              0.2222222222222222,
              "#7201a8"
             ],
             [
              0.3333333333333333,
              "#9c179e"
             ],
             [
              0.4444444444444444,
              "#bd3786"
             ],
             [
              0.5555555555555556,
              "#d8576b"
             ],
             [
              0.6666666666666666,
              "#ed7953"
             ],
             [
              0.7777777777777778,
              "#fb9f3a"
             ],
             [
              0.8888888888888888,
              "#fdca26"
             ],
             [
              1,
              "#f0f921"
             ]
            ],
            "type": "heatmapgl"
           }
          ],
          "histogram": [
           {
            "marker": {
             "pattern": {
              "fillmode": "overlay",
              "size": 10,
              "solidity": 0.2
             }
            },
            "type": "histogram"
           }
          ],
          "histogram2d": [
           {
            "colorbar": {
             "outlinewidth": 0,
             "ticks": ""
            },
            "colorscale": [
             [
              0,
              "#0d0887"
             ],
             [
              0.1111111111111111,
              "#46039f"
             ],
             [
              0.2222222222222222,
              "#7201a8"
             ],
             [
              0.3333333333333333,
              "#9c179e"
             ],
             [
              0.4444444444444444,
              "#bd3786"
             ],
             [
              0.5555555555555556,
              "#d8576b"
             ],
             [
              0.6666666666666666,
              "#ed7953"
             ],
             [
              0.7777777777777778,
              "#fb9f3a"
             ],
             [
              0.8888888888888888,
              "#fdca26"
             ],
             [
              1,
              "#f0f921"
             ]
            ],
            "type": "histogram2d"
           }
          ],
          "histogram2dcontour": [
           {
            "colorbar": {
             "outlinewidth": 0,
             "ticks": ""
            },
            "colorscale": [
             [
              0,
              "#0d0887"
             ],
             [
              0.1111111111111111,
              "#46039f"
             ],
             [
              0.2222222222222222,
              "#7201a8"
             ],
             [
              0.3333333333333333,
              "#9c179e"
             ],
             [
              0.4444444444444444,
              "#bd3786"
             ],
             [
              0.5555555555555556,
              "#d8576b"
             ],
             [
              0.6666666666666666,
              "#ed7953"
             ],
             [
              0.7777777777777778,
              "#fb9f3a"
             ],
             [
              0.8888888888888888,
              "#fdca26"
             ],
             [
              1,
              "#f0f921"
             ]
            ],
            "type": "histogram2dcontour"
           }
          ],
          "mesh3d": [
           {
            "colorbar": {
             "outlinewidth": 0,
             "ticks": ""
            },
            "type": "mesh3d"
           }
          ],
          "parcoords": [
           {
            "line": {
             "colorbar": {
              "outlinewidth": 0,
              "ticks": ""
             }
            },
            "type": "parcoords"
           }
          ],
          "pie": [
           {
            "automargin": true,
            "type": "pie"
           }
          ],
          "scatter": [
           {
            "fillpattern": {
             "fillmode": "overlay",
             "size": 10,
             "solidity": 0.2
            },
            "type": "scatter"
           }
          ],
          "scatter3d": [
           {
            "line": {
             "colorbar": {
              "outlinewidth": 0,
              "ticks": ""
             }
            },
            "marker": {
             "colorbar": {
              "outlinewidth": 0,
              "ticks": ""
             }
            },
            "type": "scatter3d"
           }
          ],
          "scattercarpet": [
           {
            "marker": {
             "colorbar": {
              "outlinewidth": 0,
              "ticks": ""
             }
            },
            "type": "scattercarpet"
           }
          ],
          "scattergeo": [
           {
            "marker": {
             "colorbar": {
              "outlinewidth": 0,
              "ticks": ""
             }
            },
            "type": "scattergeo"
           }
          ],
          "scattergl": [
           {
            "marker": {
             "colorbar": {
              "outlinewidth": 0,
              "ticks": ""
             }
            },
            "type": "scattergl"
           }
          ],
          "scattermapbox": [
           {
            "marker": {
             "colorbar": {
              "outlinewidth": 0,
              "ticks": ""
             }
            },
            "type": "scattermapbox"
           }
          ],
          "scatterpolar": [
           {
            "marker": {
             "colorbar": {
              "outlinewidth": 0,
              "ticks": ""
             }
            },
            "type": "scatterpolar"
           }
          ],
          "scatterpolargl": [
           {
            "marker": {
             "colorbar": {
              "outlinewidth": 0,
              "ticks": ""
             }
            },
            "type": "scatterpolargl"
           }
          ],
          "scatterternary": [
           {
            "marker": {
             "colorbar": {
              "outlinewidth": 0,
              "ticks": ""
             }
            },
            "type": "scatterternary"
           }
          ],
          "surface": [
           {
            "colorbar": {
             "outlinewidth": 0,
             "ticks": ""
            },
            "colorscale": [
             [
              0,
              "#0d0887"
             ],
             [
              0.1111111111111111,
              "#46039f"
             ],
             [
              0.2222222222222222,
              "#7201a8"
             ],
             [
              0.3333333333333333,
              "#9c179e"
             ],
             [
              0.4444444444444444,
              "#bd3786"
             ],
             [
              0.5555555555555556,
              "#d8576b"
             ],
             [
              0.6666666666666666,
              "#ed7953"
             ],
             [
              0.7777777777777778,
              "#fb9f3a"
             ],
             [
              0.8888888888888888,
              "#fdca26"
             ],
             [
              1,
              "#f0f921"
             ]
            ],
            "type": "surface"
           }
          ],
          "table": [
           {
            "cells": {
             "fill": {
              "color": "#EBF0F8"
             },
             "line": {
              "color": "white"
             }
            },
            "header": {
             "fill": {
              "color": "#C8D4E3"
             },
             "line": {
              "color": "white"
             }
            },
            "type": "table"
           }
          ]
         },
         "layout": {
          "annotationdefaults": {
           "arrowcolor": "#2a3f5f",
           "arrowhead": 0,
           "arrowwidth": 1
          },
          "autotypenumbers": "strict",
          "coloraxis": {
           "colorbar": {
            "outlinewidth": 0,
            "ticks": ""
           }
          },
          "colorscale": {
           "diverging": [
            [
             0,
             "#8e0152"
            ],
            [
             0.1,
             "#c51b7d"
            ],
            [
             0.2,
             "#de77ae"
            ],
            [
             0.3,
             "#f1b6da"
            ],
            [
             0.4,
             "#fde0ef"
            ],
            [
             0.5,
             "#f7f7f7"
            ],
            [
             0.6,
             "#e6f5d0"
            ],
            [
             0.7,
             "#b8e186"
            ],
            [
             0.8,
             "#7fbc41"
            ],
            [
             0.9,
             "#4d9221"
            ],
            [
             1,
             "#276419"
            ]
           ],
           "sequential": [
            [
             0,
             "#0d0887"
            ],
            [
             0.1111111111111111,
             "#46039f"
            ],
            [
             0.2222222222222222,
             "#7201a8"
            ],
            [
             0.3333333333333333,
             "#9c179e"
            ],
            [
             0.4444444444444444,
             "#bd3786"
            ],
            [
             0.5555555555555556,
             "#d8576b"
            ],
            [
             0.6666666666666666,
             "#ed7953"
            ],
            [
             0.7777777777777778,
             "#fb9f3a"
            ],
            [
             0.8888888888888888,
             "#fdca26"
            ],
            [
             1,
             "#f0f921"
            ]
           ],
           "sequentialminus": [
            [
             0,
             "#0d0887"
            ],
            [
             0.1111111111111111,
             "#46039f"
            ],
            [
             0.2222222222222222,
             "#7201a8"
            ],
            [
             0.3333333333333333,
             "#9c179e"
            ],
            [
             0.4444444444444444,
             "#bd3786"
            ],
            [
             0.5555555555555556,
             "#d8576b"
            ],
            [
             0.6666666666666666,
             "#ed7953"
            ],
            [
             0.7777777777777778,
             "#fb9f3a"
            ],
            [
             0.8888888888888888,
             "#fdca26"
            ],
            [
             1,
             "#f0f921"
            ]
           ]
          },
          "colorway": [
           "#636efa",
           "#EF553B",
           "#00cc96",
           "#ab63fa",
           "#FFA15A",
           "#19d3f3",
           "#FF6692",
           "#B6E880",
           "#FF97FF",
           "#FECB52"
          ],
          "font": {
           "color": "#2a3f5f"
          },
          "geo": {
           "bgcolor": "white",
           "lakecolor": "white",
           "landcolor": "#E5ECF6",
           "showlakes": true,
           "showland": true,
           "subunitcolor": "white"
          },
          "hoverlabel": {
           "align": "left"
          },
          "hovermode": "closest",
          "mapbox": {
           "style": "light"
          },
          "paper_bgcolor": "white",
          "plot_bgcolor": "#E5ECF6",
          "polar": {
           "angularaxis": {
            "gridcolor": "white",
            "linecolor": "white",
            "ticks": ""
           },
           "bgcolor": "#E5ECF6",
           "radialaxis": {
            "gridcolor": "white",
            "linecolor": "white",
            "ticks": ""
           }
          },
          "scene": {
           "xaxis": {
            "backgroundcolor": "#E5ECF6",
            "gridcolor": "white",
            "gridwidth": 2,
            "linecolor": "white",
            "showbackground": true,
            "ticks": "",
            "zerolinecolor": "white"
           },
           "yaxis": {
            "backgroundcolor": "#E5ECF6",
            "gridcolor": "white",
            "gridwidth": 2,
            "linecolor": "white",
            "showbackground": true,
            "ticks": "",
            "zerolinecolor": "white"
           },
           "zaxis": {
            "backgroundcolor": "#E5ECF6",
            "gridcolor": "white",
            "gridwidth": 2,
            "linecolor": "white",
            "showbackground": true,
            "ticks": "",
            "zerolinecolor": "white"
           }
          },
          "shapedefaults": {
           "line": {
            "color": "#2a3f5f"
           }
          },
          "ternary": {
           "aaxis": {
            "gridcolor": "white",
            "linecolor": "white",
            "ticks": ""
           },
           "baxis": {
            "gridcolor": "white",
            "linecolor": "white",
            "ticks": ""
           },
           "bgcolor": "#E5ECF6",
           "caxis": {
            "gridcolor": "white",
            "linecolor": "white",
            "ticks": ""
           }
          },
          "title": {
           "x": 0.05
          },
          "xaxis": {
           "automargin": true,
           "gridcolor": "white",
           "linecolor": "white",
           "ticks": "",
           "title": {
            "standoff": 15
           },
           "zerolinecolor": "white",
           "zerolinewidth": 2
          },
          "yaxis": {
           "automargin": true,
           "gridcolor": "white",
           "linecolor": "white",
           "ticks": "",
           "title": {
            "standoff": 15
           },
           "zerolinecolor": "white",
           "zerolinewidth": 2
          }
         }
        },
        "title": {
         "text": "Weighted objective for each policy"
        },
        "width": 1050,
        "xaxis": {
         "anchor": "y",
         "domain": [
          0,
          0.16799999999999998
         ],
         "title": {
          "font": {
           "size": 12
          }
         }
        },
        "xaxis10": {
         "anchor": "y10",
         "domain": [
          0.832,
          1
         ],
         "title": {
          "font": {
           "size": 12
          }
         }
        },
        "xaxis11": {
         "anchor": "y11",
         "domain": [
          0,
          0.16799999999999998
         ],
         "title": {
          "font": {
           "size": 12
          }
         }
        },
        "xaxis12": {
         "anchor": "y12",
         "domain": [
          0.208,
          0.376
         ],
         "title": {
          "font": {
           "size": 12
          }
         }
        },
        "xaxis13": {
         "anchor": "y13",
         "domain": [
          0.416,
          0.584
         ],
         "title": {
          "font": {
           "size": 12
          }
         }
        },
        "xaxis14": {
         "anchor": "y14",
         "domain": [
          0.624,
          0.792
         ],
         "title": {
          "font": {
           "size": 12
          }
         }
        },
        "xaxis15": {
         "anchor": "y15",
         "domain": [
          0.832,
          1
         ],
         "title": {
          "font": {
           "size": 12
          }
         }
        },
        "xaxis2": {
         "anchor": "y2",
         "domain": [
          0.208,
          0.376
         ],
         "title": {
          "font": {
           "size": 12
          }
         }
        },
        "xaxis3": {
         "anchor": "y3",
         "domain": [
          0.416,
          0.584
         ],
         "title": {
          "font": {
           "size": 12
          }
         }
        },
        "xaxis4": {
         "anchor": "y4",
         "domain": [
          0.624,
          0.792
         ],
         "title": {
          "font": {
           "size": 12
          }
         }
        },
        "xaxis5": {
         "anchor": "y5",
         "domain": [
          0.832,
          1
         ],
         "title": {
          "font": {
           "size": 12
          }
         }
        },
        "xaxis6": {
         "anchor": "y6",
         "domain": [
          0,
          0.16799999999999998
         ],
         "title": {
          "font": {
           "size": 12
          }
         }
        },
        "xaxis7": {
         "anchor": "y7",
         "domain": [
          0.208,
          0.376
         ],
         "title": {
          "font": {
           "size": 12
          }
         }
        },
        "xaxis8": {
         "anchor": "y8",
         "domain": [
          0.416,
          0.584
         ],
         "title": {
          "font": {
           "size": 12
          }
         }
        },
        "xaxis9": {
         "anchor": "y9",
         "domain": [
          0.624,
          0.792
         ],
         "title": {
          "font": {
           "size": 12
          }
         }
        },
        "yaxis": {
         "anchor": "x",
         "domain": [
          0.7777777777777778,
          1
         ],
         "title": {
          "font": {
           "size": 12
          }
         }
        },
        "yaxis10": {
         "anchor": "x10",
         "domain": [
          0.3888888888888889,
          0.6111111111111112
         ],
         "title": {
          "font": {
           "size": 12
          }
         }
        },
        "yaxis11": {
         "anchor": "x11",
         "domain": [
          0,
          0.22222222222222224
         ],
         "title": {
          "font": {
           "size": 12
          }
         }
        },
        "yaxis12": {
         "anchor": "x12",
         "domain": [
          0,
          0.22222222222222224
         ],
         "title": {
          "font": {
           "size": 12
          }
         }
        },
        "yaxis13": {
         "anchor": "x13",
         "domain": [
          0,
          0.22222222222222224
         ],
         "title": {
          "font": {
           "size": 12
          }
         }
        },
        "yaxis14": {
         "anchor": "x14",
         "domain": [
          0,
          0.22222222222222224
         ],
         "title": {
          "font": {
           "size": 12
          }
         }
        },
        "yaxis15": {
         "anchor": "x15",
         "domain": [
          0,
          0.22222222222222224
         ],
         "title": {
          "font": {
           "size": 12
          }
         }
        },
        "yaxis2": {
         "anchor": "x2",
         "domain": [
          0.7777777777777778,
          1
         ],
         "title": {
          "font": {
           "size": 12
          }
         }
        },
        "yaxis3": {
         "anchor": "x3",
         "domain": [
          0.7777777777777778,
          1
         ],
         "title": {
          "font": {
           "size": 12
          }
         }
        },
        "yaxis4": {
         "anchor": "x4",
         "domain": [
          0.7777777777777778,
          1
         ],
         "title": {
          "font": {
           "size": 12
          }
         }
        },
        "yaxis5": {
         "anchor": "x5",
         "domain": [
          0.7777777777777778,
          1
         ],
         "title": {
          "font": {
           "size": 12
          }
         }
        },
        "yaxis6": {
         "anchor": "x6",
         "domain": [
          0.3888888888888889,
          0.6111111111111112
         ],
         "title": {
          "font": {
           "size": 12
          }
         }
        },
        "yaxis7": {
         "anchor": "x7",
         "domain": [
          0.3888888888888889,
          0.6111111111111112
         ],
         "title": {
          "font": {
           "size": 12
          }
         }
        },
        "yaxis8": {
         "anchor": "x8",
         "domain": [
          0.3888888888888889,
          0.6111111111111112
         ],
         "title": {
          "font": {
           "size": 12
          }
         }
        },
        "yaxis9": {
         "anchor": "x9",
         "domain": [
          0.3888888888888889,
          0.6111111111111112
         ],
         "title": {
          "font": {
           "size": 12
          }
         }
        }
       }
      }
     },
     "metadata": {},
     "output_type": "display_data"
    }
   ],
   "source": [
    "fig = make_subplots(rows=3, cols=5, subplot_titles=['House: {}'.format(i) for i in range(len(results_mean.instance.unique()))],\n",
    "                    x_title=\"Theta\", y_title=\"Weighted objective\")\n",
    "\n",
    "i=0\n",
    "colors = px.colors.qualitative.Plotly\n",
    "color_map = {p: colors[i] for i,p in enumerate(results_mean.policy.unique())}\n",
    "for row in range(1,4):\n",
    "    for col in range(1,6):\n",
    "        \n",
    "        if i > 12:\n",
    "            continue\n",
    "        \n",
    "        data = results_mean[results_mean.instance==i].drop(columns=['instance'])\n",
    "        \n",
    "        for p in data.policy.unique():\n",
    "            data2 = data[data.policy == p]\n",
    "            \n",
    "            fig.add_trace(\n",
    "                go.Scatter(x=data2.theta, y=data2.objective, legendgroup=p, name=p, line_color=color_map[p], showlegend= not i, line_width=2, marker_size=5),\n",
    "                row=row, col=col\n",
    "            )\n",
    "\n",
    "    \n",
    "            #fig.update_yaxes(type=\"log\")\n",
    "        i += 1\n",
    "\n",
    "fig.update_layout(height=800*0.7, width=1500*0.7, title_text=\"Weighted objective for each policy\", )\n",
    "fig.update_layout(legend=dict(\n",
    "        orientation=\"h\",\n",
    "        yanchor=\"bottom\",\n",
    "        y=1.05,\n",
    "        xanchor=\"right\",\n",
    "        x=1\n",
    "    ))\n",
    "fig.for_each_xaxis(lambda axis: axis.title.update(font=dict(size=12)))\n",
    "fig.for_each_yaxis(lambda axis: axis.title.update(font=dict(size=12)))\n",
    "\n",
    "fig.show()\n",
    "fig.write_image(\"../Soportes documento/Graficas ppt/objective_thetas.png\", scale=2, height = 700, width=1300)\n",
    "fig.write_image(\"../Soportes documento/Graficas documento/objective_thetas.png\", scale=2, height = 800*0.7, width=1500*0.7)"
   ]
  },
  {
   "cell_type": "code",
   "execution_count": 6,
   "metadata": {},
   "outputs": [
    {
     "data": {
      "application/vnd.plotly.v1+json": {
       "config": {
        "plotlyServerURL": "https://plot.ly"
       },
       "data": [
        {
         "legendgroup": "Deterministic",
         "line": {
          "color": "#636EFA",
          "width": 2
         },
         "marker": {
          "size": 5
         },
         "name": "Deterministic",
         "showlegend": true,
         "type": "scatter",
         "x": [
          0.785714285714286,
          0.785714285714286,
          0.785714285714286,
          3.791090629800307,
          5.21121351766513,
          5.28494623655914
         ],
         "xaxis": "x",
         "y": [
          125.07767916382217,
          125.02765033107731,
          123.60126481623107,
          68.19586507311779,
          50.85728841798798,
          51.513601821368965
         ],
         "yaxis": "y"
        },
        {
         "legendgroup": "Lookahead",
         "line": {
          "color": "#EF553B",
          "width": 2
         },
         "marker": {
          "size": 5
         },
         "name": "Lookahead",
         "showlegend": true,
         "type": "scatter",
         "x": [
          0.785714285714286,
          0.785714285714286,
          0.9239631336405533,
          3.821428571428571,
          5.0664362519201225,
          5.256912442396314
         ],
         "xaxis": "x",
         "y": [
          69.72253501577805,
          62.069742115335345,
          57.65082621238737,
          -9.534005332062069,
          -26.40352010438701,
          -25.373561061869328
         ],
         "yaxis": "y"
        },
        {
         "legendgroup": "Oracle",
         "line": {
          "color": "#00CC96",
          "width": 2
         },
         "marker": {
          "size": 5
         },
         "name": "Oracle",
         "showlegend": true,
         "type": "scatter",
         "x": [
          0.785714285714286,
          0.817972350230415,
          1.1313364055299542,
          3.085253456221198,
          4.260752688172043,
          4.946236559139784
         ],
         "xaxis": "x",
         "y": [
          -30.678251228408524,
          -34.15087303159554,
          -52.76503861630109,
          -104.94678894783986,
          -120.02518371573889,
          -124.89248359053998
         ],
         "yaxis": "y"
        },
        {
         "legendgroup": "Deterministic",
         "line": {
          "color": "#636EFA",
          "width": 2
         },
         "marker": {
          "size": 5
         },
         "name": "Deterministic",
         "showlegend": false,
         "type": "scatter",
         "x": [
          0.4814814814814816,
          0.4814814814814816,
          0.4814814814814816,
          0.4814814814814816,
          0.5197132616487457,
          1.4372759856630828
         ],
         "xaxis": "x2",
         "y": [
          -216.54347996752892,
          -216.54347996752892,
          -216.54347996752892,
          -217.43180539476614,
          -217.6256034266105,
          -223.68328803053285
         ],
         "yaxis": "y2"
        },
        {
         "legendgroup": "Lookahead",
         "line": {
          "color": "#EF553B",
          "width": 2
         },
         "marker": {
          "size": 5
         },
         "name": "Lookahead",
         "showlegend": false,
         "type": "scatter",
         "x": [
          0.4814814814814816,
          0.4814814814814816,
          0.4814814814814816,
          0.4814814814814816,
          0.6344086021505377,
          1.4790919952210277
         ],
         "xaxis": "x2",
         "y": [
          -287.897030562171,
          -294.4667103816329,
          -294.4667103816329,
          -294.4667103816329,
          -295.59079063496546,
          -298.92196041785706
         ],
         "yaxis": "y2"
        },
        {
         "legendgroup": "Oracle",
         "line": {
          "color": "#00CC96",
          "width": 2
         },
         "marker": {
          "size": 5
         },
         "name": "Oracle",
         "showlegend": false,
         "type": "scatter",
         "x": [
          0.48148148148148157,
          0.4814814814814816,
          0.48148148148148157,
          0.4814814814814816,
          0.5698924731182797,
          1.1027479091995223
         ],
         "xaxis": "x2",
         "y": [
          -379.8804001624131,
          -379.8804001624131,
          -379.8804001624131,
          -379.8804001624131,
          -380.93981071301033,
          -384.2481973705246
         ],
         "yaxis": "y2"
        },
        {
         "legendgroup": "Deterministic",
         "line": {
          "color": "#636EFA",
          "width": 2
         },
         "marker": {
          "size": 5
         },
         "name": "Deterministic",
         "showlegend": false,
         "type": "scatter",
         "x": [
          1.115403186866247,
          1.115403186866247,
          1.115403186866247,
          1.787729163097147,
          2.0768845111446854,
          2.4248259372906955
         ],
         "xaxis": "x3",
         "y": [
          -424.8020943616478,
          -425.1806904515644,
          -425.0260912439886,
          -445.6043992078149,
          -450.71112834353755,
          -452.18171407417043
         ],
         "yaxis": "y3"
        },
        {
         "legendgroup": "Lookahead",
         "line": {
          "color": "#EF553B",
          "width": 2
         },
         "marker": {
          "size": 5
         },
         "name": "Lookahead",
         "showlegend": false,
         "type": "scatter",
         "x": [
          1.115403186866247,
          1.115403186866247,
          1.115403186866247,
          1.786880266662512,
          2.222576361738913,
          2.6480856995996938
         ],
         "xaxis": "x3",
         "y": [
          -549.7693404939351,
          -557.3718983930656,
          -557.3882369299131,
          -572.6783826507849,
          -575.5059883589411,
          -577.1186266744949
         ],
         "yaxis": "y3"
        },
        {
         "legendgroup": "Oracle",
         "line": {
          "color": "#00CC96",
          "width": 2
         },
         "marker": {
          "size": 5
         },
         "name": "Oracle",
         "showlegend": false,
         "type": "scatter",
         "x": [
          1.115403186866247,
          1.1171009797355171,
          1.1629413872058056,
          1.4473216928085222,
          1.9039218625878092,
          2.5743378218407806
         ],
         "xaxis": "x3",
         "y": [
          -647.1495451904266,
          -647.3799791668681,
          -650.4939845144561,
          -658.4951637290521,
          -665.1519487287719,
          -669.1120545267431
         ],
         "yaxis": "y3"
        },
        {
         "legendgroup": "Deterministic",
         "line": {
          "color": "#636EFA",
          "width": 2
         },
         "marker": {
          "size": 5
         },
         "name": "Deterministic",
         "showlegend": false,
         "type": "scatter",
         "x": [
          0.3174603174603177,
          0.3174603174603177,
          0.3174603174603177,
          0.4249871991807478,
          0.47107014848950357,
          0.5430107526881723
         ],
         "xaxis": "x4",
         "y": [
          -575.9400471993998,
          -576.2318411621113,
          -576.1979406104028,
          -579.2105952434463,
          -579.393631861286,
          -579.854621378535
         ],
         "yaxis": "y4"
        },
        {
         "legendgroup": "Lookahead",
         "line": {
          "color": "#EF553B",
          "width": 2
         },
         "marker": {
          "size": 5
         },
         "name": "Lookahead",
         "showlegend": false,
         "type": "scatter",
         "x": [
          0.3174603174603177,
          0.3174603174603177,
          0.32334869431643654,
          0.4214029697900668,
          0.48028673835125474,
          1.145161290322581
         ],
         "xaxis": "x4",
         "y": [
          -711.4475683323841,
          -722.6387943457223,
          -722.8538168014117,
          -725.7482833977491,
          -725.8188698780282,
          -728.8354034615836
         ],
         "yaxis": "y4"
        },
        {
         "legendgroup": "Oracle",
         "line": {
          "color": "#00CC96",
          "width": 2
         },
         "marker": {
          "size": 5
         },
         "name": "Oracle",
         "showlegend": false,
         "type": "scatter",
         "x": [
          0.317972350230415,
          0.317972350230415,
          0.33666154633896594,
          0.37992831541218663,
          0.45673323092677953,
          1.1779313876088073
         ],
         "xaxis": "x4",
         "y": [
          -884.3264295375594,
          -884.3264295375594,
          -885.6620304496125,
          -886.9103576414623,
          -887.844000195867,
          -892.3096574037044
         ],
         "yaxis": "y4"
        },
        {
         "legendgroup": "Deterministic",
         "line": {
          "color": "#636EFA",
          "width": 2
         },
         "marker": {
          "size": 5
         },
         "name": "Deterministic",
         "showlegend": false,
         "type": "scatter",
         "x": [
          0.4705578512396694,
          0.4705578512396694,
          0.4705578512396694,
          0.4705578512396694,
          0.4705578512396694,
          1.0753965609170888
         ],
         "xaxis": "x5",
         "y": [
          -178.138670559948,
          -178.05644083055373,
          -178.25317166692435,
          -178.48170844723293,
          -178.53331939179802,
          -181.29256629537653
         ],
         "yaxis": "y5"
        },
        {
         "legendgroup": "Lookahead",
         "line": {
          "color": "#EF553B",
          "width": 2
         },
         "marker": {
          "size": 5
         },
         "name": "Lookahead",
         "showlegend": false,
         "type": "scatter",
         "x": [
          0.4705578512396694,
          0.4705578512396694,
          0.4705578512396694,
          0.4766062383364436,
          0.4847540655825113,
          1.3136496934150892
         ],
         "xaxis": "x5",
         "y": [
          -256.65828426497313,
          -265.42978082238045,
          -265.42978082238045,
          -265.3811762899243,
          -265.456272317172,
          -268.82600108945695
         ],
         "yaxis": "y5"
        },
        {
         "legendgroup": "Oracle",
         "line": {
          "color": "#00CC96",
          "width": 2
         },
         "marker": {
          "size": 5
         },
         "name": "Oracle",
         "showlegend": false,
         "type": "scatter",
         "x": [
          0.4712591135117592,
          0.47213569135187133,
          0.4730122691919835,
          0.47778201175338747,
          0.5468469277757815,
          0.9999927555550404
         ],
         "xaxis": "x5",
         "y": [
          -360.3784600244915,
          -360.4998536123792,
          -360.5442234920792,
          -360.6798208164805,
          -361.46839426439277,
          -363.9140306445985
         ],
         "yaxis": "y5"
        },
        {
         "legendgroup": "Deterministic",
         "line": {
          "color": "#636EFA",
          "width": 2
         },
         "marker": {
          "size": 5
         },
         "name": "Deterministic",
         "showlegend": false,
         "type": "scatter",
         "x": [
          0.6390313390313388,
          0.6390313390313388,
          0.6936219097509417,
          3.1981159819869496,
          5.598924731182795,
          6.343828692215789
         ],
         "xaxis": "x6",
         "y": [
          -165.92244296358277,
          -165.74717340840922,
          -166.29167718995342,
          -216.93769389177837,
          -247.28725088883195,
          -251.37105117902178
         ],
         "yaxis": "y6"
        },
        {
         "legendgroup": "Lookahead",
         "line": {
          "color": "#EF553B",
          "width": 2
         },
         "marker": {
          "size": 5
         },
         "name": "Lookahead",
         "showlegend": false,
         "type": "scatter",
         "x": [
          0.6402720338204206,
          0.6415127286095026,
          0.7251447477253926,
          3.5516312838893485,
          5.855698005698006,
          6.647206139141622
         ],
         "xaxis": "x6",
         "y": [
          -240.52205424368924,
          -247.22958712854674,
          -251.04444282048695,
          -319.3314967645388,
          -346.84273421839185,
          -348.5058359381359
         ],
         "yaxis": "y6"
        },
        {
         "legendgroup": "Oracle",
         "line": {
          "color": "#00CC96",
          "width": 2
         },
         "marker": {
          "size": 5
         },
         "name": "Oracle",
         "showlegend": false,
         "type": "scatter",
         "x": [
          0.6438562632111017,
          0.6619152651410714,
          1.0248047054498666,
          2.863817663817664,
          4.63339766565573,
          6.130810587181554
         ],
         "xaxis": "x6",
         "y": [
          -334.0433776619335,
          -336.36945945161125,
          -360.54228773447767,
          -413.101290661262,
          -438.34710931717973,
          -448.11773428680635
         ],
         "yaxis": "y6"
        },
        {
         "legendgroup": "Deterministic",
         "line": {
          "color": "#636EFA",
          "width": 2
         },
         "marker": {
          "size": 5
         },
         "name": "Deterministic",
         "showlegend": false,
         "type": "scatter",
         "x": [
          7.705069124423963,
          7.705069124423963,
          7.705069124423963,
          7.705069124423963,
          7.705069124423963,
          7.705069124423963
         ],
         "xaxis": "x7",
         "y": [
          -132.40459089921146,
          -132.32225729400946,
          -131.38934351824133,
          -132.01053086916113,
          -131.98673306288617,
          -132.61920570967519
         ],
         "yaxis": "y7"
        },
        {
         "legendgroup": "Lookahead",
         "line": {
          "color": "#EF553B",
          "width": 2
         },
         "marker": {
          "size": 5
         },
         "name": "Lookahead",
         "showlegend": false,
         "type": "scatter",
         "x": [
          7.705069124423963,
          7.705069124423963,
          7.705069124423963,
          7.705069124423963,
          7.705069124423963,
          7.705069124423963
         ],
         "xaxis": "x7",
         "y": [
          -196.54483642975742,
          -203.78000139149398,
          -203.78000139149398,
          -203.78000139149398,
          -203.78000139149398,
          -203.78000139149398
         ],
         "yaxis": "y7"
        },
        {
         "legendgroup": "Oracle",
         "line": {
          "color": "#00CC96",
          "width": 2
         },
         "marker": {
          "size": 5
         },
         "name": "Oracle",
         "showlegend": false,
         "type": "scatter",
         "x": [
          7.705069124423963,
          7.705069124423963,
          7.705069124423963,
          7.705069124423963,
          7.705069124423962,
          7.710272038055596
         ],
         "xaxis": "x7",
         "y": [
          -282.39343087236676,
          -282.39343087236676,
          -282.39343087236676,
          -282.39343087236676,
          -282.39343087236676,
          -282.4147760384064
         ],
         "yaxis": "y7"
        },
        {
         "legendgroup": "Deterministic",
         "line": {
          "color": "#636EFA",
          "width": 2
         },
         "marker": {
          "size": 5
         },
         "name": "Deterministic",
         "showlegend": false,
         "type": "scatter",
         "x": [
          1.8246428571428568,
          1.8246428571428568,
          1.8246428571428568,
          1.8384677419354833,
          2.272569124423963,
          3.008052995391705
         ],
         "xaxis": "x8",
         "y": [
          -125.57236976972199,
          -125.27202725573136,
          -125.80274494798843,
          -125.46305352956034,
          -132.05845278098383,
          -136.32472243241605
         ],
         "yaxis": "y8"
        },
        {
         "legendgroup": "Lookahead",
         "line": {
          "color": "#EF553B",
          "width": 2
         },
         "marker": {
          "size": 5
         },
         "name": "Lookahead",
         "showlegend": false,
         "type": "scatter",
         "x": [
          1.8246428571428568,
          1.8246428571428568,
          1.8246428571428568,
          1.866117511520737,
          2.4080529998656184,
          3.0016013824884786
         ],
         "xaxis": "x8",
         "y": [
          -213.7142442756876,
          -221.07252293204027,
          -220.98641078888258,
          -221.84111675307153,
          -228.66551560033074,
          -230.83436024792755
         ],
         "yaxis": "y8"
        },
        {
         "legendgroup": "Oracle",
         "line": {
          "color": "#00CC96",
          "width": 2
         },
         "marker": {
          "size": 5
         },
         "name": "Oracle",
         "showlegend": false,
         "type": "scatter",
         "x": [
          1.8246428571428568,
          1.8246428571428568,
          1.8246428571428568,
          1.9339516129032253,
          2.2943202764976958,
          2.883709677419355
         ],
         "xaxis": "x8",
         "y": [
          -307.69121973295705,
          -307.691219732957,
          -307.691219732957,
          -310.3312087401595,
          -315.34939158079135,
          -318.76521151532063
         ],
         "yaxis": "y8"
        },
        {
         "legendgroup": "Deterministic",
         "line": {
          "color": "#636EFA",
          "width": 2
         },
         "marker": {
          "size": 5
         },
         "name": "Deterministic",
         "showlegend": false,
         "type": "scatter",
         "x": [
          3.2087272554515645,
          3.2120528291130213,
          3.2333365005463435,
          3.29718751484631,
          3.7068744358401817,
          7.7873533184474315
         ],
         "xaxis": "x9",
         "y": [
          81.00997458584426,
          80.76806369067998,
          81.63914074575955,
          78.76671065062294,
          76.98064083593368,
          57.915782022698544
         ],
         "yaxis": "y9"
        },
        {
         "legendgroup": "Lookahead",
         "line": {
          "color": "#EF553B",
          "width": 2
         },
         "marker": {
          "size": 5
         },
         "name": "Lookahead",
         "showlegend": false,
         "type": "scatter",
         "x": [
          3.2087272554515645,
          3.214048173309895,
          3.235996959475509,
          3.347071119768159,
          4.044420162478026,
          8.12595478275558
         ],
         "xaxis": "x9",
         "y": [
          13.125606590754625,
          5.082412834919104,
          4.349724079917528,
          1.0544705400058558,
          -7.20601082831451,
          -23.932846142629728
         ],
         "yaxis": "y9"
        },
        {
         "legendgroup": "Oracle",
         "line": {
          "color": "#00CC96",
          "width": 2
         },
         "marker": {
          "size": 5
         },
         "name": "Oracle",
         "showlegend": false,
         "type": "scatter",
         "x": [
          3.211720271746875,
          3.2177063043374976,
          3.2419829920661303,
          3.3688773813482817,
          4.2080621407192735,
          7.88879387249856
         ],
         "xaxis": "x9",
         "y": [
          -77.41168173664859,
          -78.28517677173619,
          -79.767530167926,
          -83.14557463369665,
          -93.61496502885043,
          -113.72026606897252
         ],
         "yaxis": "y9"
        },
        {
         "legendgroup": "Deterministic",
         "line": {
          "color": "#636EFA",
          "width": 2
         },
         "marker": {
          "size": 5
         },
         "name": "Deterministic",
         "showlegend": false,
         "type": "scatter",
         "x": [
          0.8645833333333331,
          0.8645833333333331,
          0.8766801075268815,
          0.9976478494623654,
          1.0530913978494623,
          1.0631720430107525
         ],
         "xaxis": "x10",
         "y": [
          16.039657255097715,
          16.02412376641954,
          15.89514137833509,
          12.802159703754121,
          12.463470222871502,
          12.578913487098951
         ],
         "yaxis": "y10"
        },
        {
         "legendgroup": "Lookahead",
         "line": {
          "color": "#EF553B",
          "width": 2
         },
         "marker": {
          "size": 5
         },
         "name": "Lookahead",
         "showlegend": false,
         "type": "scatter",
         "x": [
          0.8645833333333331,
          0.8645833333333331,
          0.8776881720430106,
          1.0117607526881718,
          1.0540994623655913,
          1.0611559139784945
         ],
         "xaxis": "x10",
         "y": [
          -51.777889905352126,
          -60.05408545371804,
          -60.326869220571396,
          -64.85264412008345,
          -65.208742906369,
          -65.25944738967088
         ],
         "yaxis": "y10"
        },
        {
         "legendgroup": "Oracle",
         "line": {
          "color": "#00CC96",
          "width": 2
         },
         "marker": {
          "size": 5
         },
         "name": "Oracle",
         "showlegend": false,
         "type": "scatter",
         "x": [
          0.8645833333333331,
          0.8686155913978493,
          0.8887768817204299,
          0.9895833333333331,
          1.0238575268817203,
          1.081317204301075
         ],
         "xaxis": "x10",
         "y": [
          -148.53555596565752,
          -149.1029473169709,
          -150.69480963532922,
          -153.92774450632913,
          -154.39643856502934,
          -154.67032468812076
         ],
         "yaxis": "y10"
        },
        {
         "legendgroup": "Deterministic",
         "line": {
          "color": "#636EFA",
          "width": 2
         },
         "marker": {
          "size": 5
         },
         "name": "Deterministic",
         "showlegend": false,
         "type": "scatter",
         "x": [
          2.3081882656350734,
          2.3081882656350734,
          2.3136790000207976,
          2.659803248684511,
          8.542043634699777,
          11.355121133815283
         ],
         "xaxis": "x11",
         "y": [
          -594.793884163401,
          -595.3461741672622,
          -595.345625333671,
          -594.1337082912082,
          -657.8964602228725,
          -673.0596046951382
         ],
         "yaxis": "y11"
        },
        {
         "legendgroup": "Lookahead",
         "line": {
          "color": "#EF553B",
          "width": 2
         },
         "marker": {
          "size": 5
         },
         "name": "Lookahead",
         "showlegend": false,
         "type": "scatter",
         "x": [
          2.3081882656350734,
          2.3136790000207976,
          2.367213660281607,
          2.9611072981011204,
          8.065826417919759,
          11.184417961356877
         ],
         "xaxis": "x11",
         "y": [
          -710.2035353650037,
          -718.16375987652,
          -726.198197577788,
          -730.6283451747179,
          -782.2241124790855,
          -803.1385050700136
         ],
         "yaxis": "y11"
        },
        {
         "legendgroup": "Oracle",
         "line": {
          "color": "#00CC96",
          "width": 2
         },
         "marker": {
          "size": 5
         },
         "name": "Oracle",
         "showlegend": false,
         "type": "scatter",
         "x": [
          2.3191697344065214,
          2.33015120317797,
          2.415943927954909,
          3.2320700166374516,
          6.825639633846481,
          9.015664398856003
         ],
         "xaxis": "x11",
         "y": [
          -810.6019786482292,
          -812.5260040354508,
          -818.9721233554898,
          -838.968509544905,
          -883.058882396004,
          -896.4555006980472
         ],
         "yaxis": "y11"
        },
        {
         "legendgroup": "Deterministic",
         "line": {
          "color": "#636EFA",
          "width": 2
         },
         "marker": {
          "size": 5
         },
         "name": "Deterministic",
         "showlegend": false,
         "type": "scatter",
         "x": [
          0.42499999999999977,
          0.42499999999999977,
          0.42499999999999977,
          0.42499999999999977,
          0.42499999999999977,
          0.7395161290322578
         ],
         "xaxis": "x12",
         "y": [
          -276.2620199261592,
          -276.24208075297406,
          -276.2403444395335,
          -277.1125838965206,
          -277.1106356692738,
          -278.607625507964
         ],
         "yaxis": "y12"
        },
        {
         "legendgroup": "Lookahead",
         "line": {
          "color": "#EF553B",
          "width": 2
         },
         "marker": {
          "size": 5
         },
         "name": "Lookahead",
         "showlegend": false,
         "type": "scatter",
         "x": [
          0.42499999999999977,
          0.42499999999999977,
          0.42499999999999977,
          0.42499999999999977,
          0.431048387096774,
          0.9491935483870966
         ],
         "xaxis": "x12",
         "y": [
          -360.64110069043954,
          -367.96868762654316,
          -367.96868762654316,
          -367.96868762654316,
          -368.0599120266219,
          -370.1467184965406
         ],
         "yaxis": "y12"
        },
        {
         "legendgroup": "Oracle",
         "line": {
          "color": "#00CC96",
          "width": 2
         },
         "marker": {
          "size": 5
         },
         "name": "Oracle",
         "showlegend": false,
         "type": "scatter",
         "x": [
          0.42499999999999977,
          0.42499999999999977,
          0.42499999999999977,
          0.42499999999999977,
          0.431048387096774,
          0.804032258064516
         ],
         "xaxis": "x12",
         "y": [
          -449.84471009719175,
          -449.84471009719175,
          -449.84471009719175,
          -449.84471009719175,
          -449.93466491640044,
          -451.99937573617973
         ],
         "yaxis": "y12"
        },
        {
         "legendgroup": "Deterministic",
         "line": {
          "color": "#636EFA",
          "width": 2
         },
         "marker": {
          "size": 5
         },
         "name": "Deterministic",
         "showlegend": false,
         "type": "scatter",
         "x": [
          0.3692307692307689,
          0.3692307692307689,
          0.3692307692307689,
          0.5095533498759302,
          1.5531017369727043,
          2.267617866004963
         ],
         "xaxis": "x13",
         "y": [
          -259.1675403373128,
          -258.99198321635254,
          -258.60460448788604,
          -261.80013314049296,
          -277.02830396120174,
          -280.653926322842
         ],
         "yaxis": "y13"
        },
        {
         "legendgroup": "Lookahead",
         "line": {
          "color": "#EF553B",
          "width": 2
         },
         "marker": {
          "size": 5
         },
         "name": "Lookahead",
         "showlegend": false,
         "type": "scatter",
         "x": [
          0.3692307692307689,
          0.3740694789081882,
          0.39019851116625276,
          0.6321339950372206,
          1.7853598014888332,
          2.5466501240694783
         ],
         "xaxis": "x13",
         "y": [
          -374.3795744890154,
          -382.3398729564542,
          -383.217558116405,
          -388.09573474722976,
          -398.7915952495474,
          -400.90714112202994
         ],
         "yaxis": "y13"
        },
        {
         "legendgroup": "Oracle",
         "line": {
          "color": "#00CC96",
          "width": 2
         },
         "marker": {
          "size": 5
         },
         "name": "Oracle",
         "showlegend": false,
         "type": "scatter",
         "x": [
          0.3692307692307689,
          0.3692307692307689,
          0.38374689826302694,
          0.6240694789081883,
          1.4143920595533495,
          2.120843672456575
         ],
         "xaxis": "x13",
         "y": [
          -473.3915733478111,
          -473.3915733478111,
          -474.4824964299359,
          -479.80684030935146,
          -489.8961942627281,
          -494.06234557383084
         ],
         "yaxis": "y13"
        }
       ],
       "layout": {
        "annotations": [
         {
          "font": {
           "size": 16
          },
          "showarrow": false,
          "text": "House: 0",
          "x": 0.08399999999999999,
          "xanchor": "center",
          "xref": "paper",
          "y": 1,
          "yanchor": "bottom",
          "yref": "paper"
         },
         {
          "font": {
           "size": 16
          },
          "showarrow": false,
          "text": "House: 1",
          "x": 0.292,
          "xanchor": "center",
          "xref": "paper",
          "y": 1,
          "yanchor": "bottom",
          "yref": "paper"
         },
         {
          "font": {
           "size": 16
          },
          "showarrow": false,
          "text": "House: 2",
          "x": 0.5,
          "xanchor": "center",
          "xref": "paper",
          "y": 1,
          "yanchor": "bottom",
          "yref": "paper"
         },
         {
          "font": {
           "size": 16
          },
          "showarrow": false,
          "text": "House: 3",
          "x": 0.708,
          "xanchor": "center",
          "xref": "paper",
          "y": 1,
          "yanchor": "bottom",
          "yref": "paper"
         },
         {
          "font": {
           "size": 16
          },
          "showarrow": false,
          "text": "House: 4",
          "x": 0.9159999999999999,
          "xanchor": "center",
          "xref": "paper",
          "y": 1,
          "yanchor": "bottom",
          "yref": "paper"
         },
         {
          "font": {
           "size": 16
          },
          "showarrow": false,
          "text": "House: 5",
          "x": 0.08399999999999999,
          "xanchor": "center",
          "xref": "paper",
          "y": 0.6111111111111112,
          "yanchor": "bottom",
          "yref": "paper"
         },
         {
          "font": {
           "size": 16
          },
          "showarrow": false,
          "text": "House: 6",
          "x": 0.292,
          "xanchor": "center",
          "xref": "paper",
          "y": 0.6111111111111112,
          "yanchor": "bottom",
          "yref": "paper"
         },
         {
          "font": {
           "size": 16
          },
          "showarrow": false,
          "text": "House: 7",
          "x": 0.5,
          "xanchor": "center",
          "xref": "paper",
          "y": 0.6111111111111112,
          "yanchor": "bottom",
          "yref": "paper"
         },
         {
          "font": {
           "size": 16
          },
          "showarrow": false,
          "text": "House: 8",
          "x": 0.708,
          "xanchor": "center",
          "xref": "paper",
          "y": 0.6111111111111112,
          "yanchor": "bottom",
          "yref": "paper"
         },
         {
          "font": {
           "size": 16
          },
          "showarrow": false,
          "text": "House: 9",
          "x": 0.9159999999999999,
          "xanchor": "center",
          "xref": "paper",
          "y": 0.6111111111111112,
          "yanchor": "bottom",
          "yref": "paper"
         },
         {
          "font": {
           "size": 16
          },
          "showarrow": false,
          "text": "House: 10",
          "x": 0.08399999999999999,
          "xanchor": "center",
          "xref": "paper",
          "y": 0.22222222222222224,
          "yanchor": "bottom",
          "yref": "paper"
         },
         {
          "font": {
           "size": 16
          },
          "showarrow": false,
          "text": "House: 11",
          "x": 0.292,
          "xanchor": "center",
          "xref": "paper",
          "y": 0.22222222222222224,
          "yanchor": "bottom",
          "yref": "paper"
         },
         {
          "font": {
           "size": 16
          },
          "showarrow": false,
          "text": "House: 12",
          "x": 0.5,
          "xanchor": "center",
          "xref": "paper",
          "y": 0.22222222222222224,
          "yanchor": "bottom",
          "yref": "paper"
         },
         {
          "font": {
           "size": 16
          },
          "showarrow": false,
          "text": "Discomfort index",
          "x": 0.5,
          "xanchor": "center",
          "xref": "paper",
          "y": 0,
          "yanchor": "top",
          "yref": "paper",
          "yshift": -30
         },
         {
          "font": {
           "size": 16
          },
          "showarrow": false,
          "text": "Electricity cost [cents/day]",
          "textangle": -90,
          "x": 0,
          "xanchor": "right",
          "xref": "paper",
          "xshift": -40,
          "y": 0.5,
          "yanchor": "middle",
          "yref": "paper"
         }
        ],
        "height": 560,
        "legend": {
         "orientation": "h",
         "x": 1,
         "xanchor": "right",
         "y": 1.05,
         "yanchor": "bottom"
        },
        "template": {
         "data": {
          "bar": [
           {
            "error_x": {
             "color": "#2a3f5f"
            },
            "error_y": {
             "color": "#2a3f5f"
            },
            "marker": {
             "line": {
              "color": "#E5ECF6",
              "width": 0.5
             },
             "pattern": {
              "fillmode": "overlay",
              "size": 10,
              "solidity": 0.2
             }
            },
            "type": "bar"
           }
          ],
          "barpolar": [
           {
            "marker": {
             "line": {
              "color": "#E5ECF6",
              "width": 0.5
             },
             "pattern": {
              "fillmode": "overlay",
              "size": 10,
              "solidity": 0.2
             }
            },
            "type": "barpolar"
           }
          ],
          "carpet": [
           {
            "aaxis": {
             "endlinecolor": "#2a3f5f",
             "gridcolor": "white",
             "linecolor": "white",
             "minorgridcolor": "white",
             "startlinecolor": "#2a3f5f"
            },
            "baxis": {
             "endlinecolor": "#2a3f5f",
             "gridcolor": "white",
             "linecolor": "white",
             "minorgridcolor": "white",
             "startlinecolor": "#2a3f5f"
            },
            "type": "carpet"
           }
          ],
          "choropleth": [
           {
            "colorbar": {
             "outlinewidth": 0,
             "ticks": ""
            },
            "type": "choropleth"
           }
          ],
          "contour": [
           {
            "colorbar": {
             "outlinewidth": 0,
             "ticks": ""
            },
            "colorscale": [
             [
              0,
              "#0d0887"
             ],
             [
              0.1111111111111111,
              "#46039f"
             ],
             [
              0.2222222222222222,
              "#7201a8"
             ],
             [
              0.3333333333333333,
              "#9c179e"
             ],
             [
              0.4444444444444444,
              "#bd3786"
             ],
             [
              0.5555555555555556,
              "#d8576b"
             ],
             [
              0.6666666666666666,
              "#ed7953"
             ],
             [
              0.7777777777777778,
              "#fb9f3a"
             ],
             [
              0.8888888888888888,
              "#fdca26"
             ],
             [
              1,
              "#f0f921"
             ]
            ],
            "type": "contour"
           }
          ],
          "contourcarpet": [
           {
            "colorbar": {
             "outlinewidth": 0,
             "ticks": ""
            },
            "type": "contourcarpet"
           }
          ],
          "heatmap": [
           {
            "colorbar": {
             "outlinewidth": 0,
             "ticks": ""
            },
            "colorscale": [
             [
              0,
              "#0d0887"
             ],
             [
              0.1111111111111111,
              "#46039f"
             ],
             [
              0.2222222222222222,
              "#7201a8"
             ],
             [
              0.3333333333333333,
              "#9c179e"
             ],
             [
              0.4444444444444444,
              "#bd3786"
             ],
             [
              0.5555555555555556,
              "#d8576b"
             ],
             [
              0.6666666666666666,
              "#ed7953"
             ],
             [
              0.7777777777777778,
              "#fb9f3a"
             ],
             [
              0.8888888888888888,
              "#fdca26"
             ],
             [
              1,
              "#f0f921"
             ]
            ],
            "type": "heatmap"
           }
          ],
          "heatmapgl": [
           {
            "colorbar": {
             "outlinewidth": 0,
             "ticks": ""
            },
            "colorscale": [
             [
              0,
              "#0d0887"
             ],
             [
              0.1111111111111111,
              "#46039f"
             ],
             [
              0.2222222222222222,
              "#7201a8"
             ],
             [
              0.3333333333333333,
              "#9c179e"
             ],
             [
              0.4444444444444444,
              "#bd3786"
             ],
             [
              0.5555555555555556,
              "#d8576b"
             ],
             [
              0.6666666666666666,
              "#ed7953"
             ],
             [
              0.7777777777777778,
              "#fb9f3a"
             ],
             [
              0.8888888888888888,
              "#fdca26"
             ],
             [
              1,
              "#f0f921"
             ]
            ],
            "type": "heatmapgl"
           }
          ],
          "histogram": [
           {
            "marker": {
             "pattern": {
              "fillmode": "overlay",
              "size": 10,
              "solidity": 0.2
             }
            },
            "type": "histogram"
           }
          ],
          "histogram2d": [
           {
            "colorbar": {
             "outlinewidth": 0,
             "ticks": ""
            },
            "colorscale": [
             [
              0,
              "#0d0887"
             ],
             [
              0.1111111111111111,
              "#46039f"
             ],
             [
              0.2222222222222222,
              "#7201a8"
             ],
             [
              0.3333333333333333,
              "#9c179e"
             ],
             [
              0.4444444444444444,
              "#bd3786"
             ],
             [
              0.5555555555555556,
              "#d8576b"
             ],
             [
              0.6666666666666666,
              "#ed7953"
             ],
             [
              0.7777777777777778,
              "#fb9f3a"
             ],
             [
              0.8888888888888888,
              "#fdca26"
             ],
             [
              1,
              "#f0f921"
             ]
            ],
            "type": "histogram2d"
           }
          ],
          "histogram2dcontour": [
           {
            "colorbar": {
             "outlinewidth": 0,
             "ticks": ""
            },
            "colorscale": [
             [
              0,
              "#0d0887"
             ],
             [
              0.1111111111111111,
              "#46039f"
             ],
             [
              0.2222222222222222,
              "#7201a8"
             ],
             [
              0.3333333333333333,
              "#9c179e"
             ],
             [
              0.4444444444444444,
              "#bd3786"
             ],
             [
              0.5555555555555556,
              "#d8576b"
             ],
             [
              0.6666666666666666,
              "#ed7953"
             ],
             [
              0.7777777777777778,
              "#fb9f3a"
             ],
             [
              0.8888888888888888,
              "#fdca26"
             ],
             [
              1,
              "#f0f921"
             ]
            ],
            "type": "histogram2dcontour"
           }
          ],
          "mesh3d": [
           {
            "colorbar": {
             "outlinewidth": 0,
             "ticks": ""
            },
            "type": "mesh3d"
           }
          ],
          "parcoords": [
           {
            "line": {
             "colorbar": {
              "outlinewidth": 0,
              "ticks": ""
             }
            },
            "type": "parcoords"
           }
          ],
          "pie": [
           {
            "automargin": true,
            "type": "pie"
           }
          ],
          "scatter": [
           {
            "fillpattern": {
             "fillmode": "overlay",
             "size": 10,
             "solidity": 0.2
            },
            "type": "scatter"
           }
          ],
          "scatter3d": [
           {
            "line": {
             "colorbar": {
              "outlinewidth": 0,
              "ticks": ""
             }
            },
            "marker": {
             "colorbar": {
              "outlinewidth": 0,
              "ticks": ""
             }
            },
            "type": "scatter3d"
           }
          ],
          "scattercarpet": [
           {
            "marker": {
             "colorbar": {
              "outlinewidth": 0,
              "ticks": ""
             }
            },
            "type": "scattercarpet"
           }
          ],
          "scattergeo": [
           {
            "marker": {
             "colorbar": {
              "outlinewidth": 0,
              "ticks": ""
             }
            },
            "type": "scattergeo"
           }
          ],
          "scattergl": [
           {
            "marker": {
             "colorbar": {
              "outlinewidth": 0,
              "ticks": ""
             }
            },
            "type": "scattergl"
           }
          ],
          "scattermapbox": [
           {
            "marker": {
             "colorbar": {
              "outlinewidth": 0,
              "ticks": ""
             }
            },
            "type": "scattermapbox"
           }
          ],
          "scatterpolar": [
           {
            "marker": {
             "colorbar": {
              "outlinewidth": 0,
              "ticks": ""
             }
            },
            "type": "scatterpolar"
           }
          ],
          "scatterpolargl": [
           {
            "marker": {
             "colorbar": {
              "outlinewidth": 0,
              "ticks": ""
             }
            },
            "type": "scatterpolargl"
           }
          ],
          "scatterternary": [
           {
            "marker": {
             "colorbar": {
              "outlinewidth": 0,
              "ticks": ""
             }
            },
            "type": "scatterternary"
           }
          ],
          "surface": [
           {
            "colorbar": {
             "outlinewidth": 0,
             "ticks": ""
            },
            "colorscale": [
             [
              0,
              "#0d0887"
             ],
             [
              0.1111111111111111,
              "#46039f"
             ],
             [
              0.2222222222222222,
              "#7201a8"
             ],
             [
              0.3333333333333333,
              "#9c179e"
             ],
             [
              0.4444444444444444,
              "#bd3786"
             ],
             [
              0.5555555555555556,
              "#d8576b"
             ],
             [
              0.6666666666666666,
              "#ed7953"
             ],
             [
              0.7777777777777778,
              "#fb9f3a"
             ],
             [
              0.8888888888888888,
              "#fdca26"
             ],
             [
              1,
              "#f0f921"
             ]
            ],
            "type": "surface"
           }
          ],
          "table": [
           {
            "cells": {
             "fill": {
              "color": "#EBF0F8"
             },
             "line": {
              "color": "white"
             }
            },
            "header": {
             "fill": {
              "color": "#C8D4E3"
             },
             "line": {
              "color": "white"
             }
            },
            "type": "table"
           }
          ]
         },
         "layout": {
          "annotationdefaults": {
           "arrowcolor": "#2a3f5f",
           "arrowhead": 0,
           "arrowwidth": 1
          },
          "autotypenumbers": "strict",
          "coloraxis": {
           "colorbar": {
            "outlinewidth": 0,
            "ticks": ""
           }
          },
          "colorscale": {
           "diverging": [
            [
             0,
             "#8e0152"
            ],
            [
             0.1,
             "#c51b7d"
            ],
            [
             0.2,
             "#de77ae"
            ],
            [
             0.3,
             "#f1b6da"
            ],
            [
             0.4,
             "#fde0ef"
            ],
            [
             0.5,
             "#f7f7f7"
            ],
            [
             0.6,
             "#e6f5d0"
            ],
            [
             0.7,
             "#b8e186"
            ],
            [
             0.8,
             "#7fbc41"
            ],
            [
             0.9,
             "#4d9221"
            ],
            [
             1,
             "#276419"
            ]
           ],
           "sequential": [
            [
             0,
             "#0d0887"
            ],
            [
             0.1111111111111111,
             "#46039f"
            ],
            [
             0.2222222222222222,
             "#7201a8"
            ],
            [
             0.3333333333333333,
             "#9c179e"
            ],
            [
             0.4444444444444444,
             "#bd3786"
            ],
            [
             0.5555555555555556,
             "#d8576b"
            ],
            [
             0.6666666666666666,
             "#ed7953"
            ],
            [
             0.7777777777777778,
             "#fb9f3a"
            ],
            [
             0.8888888888888888,
             "#fdca26"
            ],
            [
             1,
             "#f0f921"
            ]
           ],
           "sequentialminus": [
            [
             0,
             "#0d0887"
            ],
            [
             0.1111111111111111,
             "#46039f"
            ],
            [
             0.2222222222222222,
             "#7201a8"
            ],
            [
             0.3333333333333333,
             "#9c179e"
            ],
            [
             0.4444444444444444,
             "#bd3786"
            ],
            [
             0.5555555555555556,
             "#d8576b"
            ],
            [
             0.6666666666666666,
             "#ed7953"
            ],
            [
             0.7777777777777778,
             "#fb9f3a"
            ],
            [
             0.8888888888888888,
             "#fdca26"
            ],
            [
             1,
             "#f0f921"
            ]
           ]
          },
          "colorway": [
           "#636efa",
           "#EF553B",
           "#00cc96",
           "#ab63fa",
           "#FFA15A",
           "#19d3f3",
           "#FF6692",
           "#B6E880",
           "#FF97FF",
           "#FECB52"
          ],
          "font": {
           "color": "#2a3f5f"
          },
          "geo": {
           "bgcolor": "white",
           "lakecolor": "white",
           "landcolor": "#E5ECF6",
           "showlakes": true,
           "showland": true,
           "subunitcolor": "white"
          },
          "hoverlabel": {
           "align": "left"
          },
          "hovermode": "closest",
          "mapbox": {
           "style": "light"
          },
          "paper_bgcolor": "white",
          "plot_bgcolor": "#E5ECF6",
          "polar": {
           "angularaxis": {
            "gridcolor": "white",
            "linecolor": "white",
            "ticks": ""
           },
           "bgcolor": "#E5ECF6",
           "radialaxis": {
            "gridcolor": "white",
            "linecolor": "white",
            "ticks": ""
           }
          },
          "scene": {
           "xaxis": {
            "backgroundcolor": "#E5ECF6",
            "gridcolor": "white",
            "gridwidth": 2,
            "linecolor": "white",
            "showbackground": true,
            "ticks": "",
            "zerolinecolor": "white"
           },
           "yaxis": {
            "backgroundcolor": "#E5ECF6",
            "gridcolor": "white",
            "gridwidth": 2,
            "linecolor": "white",
            "showbackground": true,
            "ticks": "",
            "zerolinecolor": "white"
           },
           "zaxis": {
            "backgroundcolor": "#E5ECF6",
            "gridcolor": "white",
            "gridwidth": 2,
            "linecolor": "white",
            "showbackground": true,
            "ticks": "",
            "zerolinecolor": "white"
           }
          },
          "shapedefaults": {
           "line": {
            "color": "#2a3f5f"
           }
          },
          "ternary": {
           "aaxis": {
            "gridcolor": "white",
            "linecolor": "white",
            "ticks": ""
           },
           "baxis": {
            "gridcolor": "white",
            "linecolor": "white",
            "ticks": ""
           },
           "bgcolor": "#E5ECF6",
           "caxis": {
            "gridcolor": "white",
            "linecolor": "white",
            "ticks": ""
           }
          },
          "title": {
           "x": 0.05
          },
          "xaxis": {
           "automargin": true,
           "gridcolor": "white",
           "linecolor": "white",
           "ticks": "",
           "title": {
            "standoff": 15
           },
           "zerolinecolor": "white",
           "zerolinewidth": 2
          },
          "yaxis": {
           "automargin": true,
           "gridcolor": "white",
           "linecolor": "white",
           "ticks": "",
           "title": {
            "standoff": 15
           },
           "zerolinecolor": "white",
           "zerolinewidth": 2
          }
         }
        },
        "title": {
         "text": "Electricity cost and discomfort index for each policy"
        },
        "width": 1050,
        "xaxis": {
         "anchor": "y",
         "domain": [
          0,
          0.16799999999999998
         ],
         "title": {
          "font": {
           "size": 12
          }
         }
        },
        "xaxis10": {
         "anchor": "y10",
         "domain": [
          0.832,
          1
         ],
         "title": {
          "font": {
           "size": 12
          }
         }
        },
        "xaxis11": {
         "anchor": "y11",
         "domain": [
          0,
          0.16799999999999998
         ],
         "title": {
          "font": {
           "size": 12
          }
         }
        },
        "xaxis12": {
         "anchor": "y12",
         "domain": [
          0.208,
          0.376
         ],
         "title": {
          "font": {
           "size": 12
          }
         }
        },
        "xaxis13": {
         "anchor": "y13",
         "domain": [
          0.416,
          0.584
         ],
         "title": {
          "font": {
           "size": 12
          }
         }
        },
        "xaxis14": {
         "anchor": "y14",
         "domain": [
          0.624,
          0.792
         ],
         "title": {
          "font": {
           "size": 12
          }
         }
        },
        "xaxis15": {
         "anchor": "y15",
         "domain": [
          0.832,
          1
         ],
         "title": {
          "font": {
           "size": 12
          }
         }
        },
        "xaxis2": {
         "anchor": "y2",
         "domain": [
          0.208,
          0.376
         ],
         "title": {
          "font": {
           "size": 12
          }
         }
        },
        "xaxis3": {
         "anchor": "y3",
         "domain": [
          0.416,
          0.584
         ],
         "title": {
          "font": {
           "size": 12
          }
         }
        },
        "xaxis4": {
         "anchor": "y4",
         "domain": [
          0.624,
          0.792
         ],
         "title": {
          "font": {
           "size": 12
          }
         }
        },
        "xaxis5": {
         "anchor": "y5",
         "domain": [
          0.832,
          1
         ],
         "title": {
          "font": {
           "size": 12
          }
         }
        },
        "xaxis6": {
         "anchor": "y6",
         "domain": [
          0,
          0.16799999999999998
         ],
         "title": {
          "font": {
           "size": 12
          }
         }
        },
        "xaxis7": {
         "anchor": "y7",
         "domain": [
          0.208,
          0.376
         ],
         "title": {
          "font": {
           "size": 12
          }
         }
        },
        "xaxis8": {
         "anchor": "y8",
         "domain": [
          0.416,
          0.584
         ],
         "title": {
          "font": {
           "size": 12
          }
         }
        },
        "xaxis9": {
         "anchor": "y9",
         "domain": [
          0.624,
          0.792
         ],
         "title": {
          "font": {
           "size": 12
          }
         }
        },
        "yaxis": {
         "anchor": "x",
         "domain": [
          0.7777777777777778,
          1
         ],
         "title": {
          "font": {
           "size": 12
          }
         }
        },
        "yaxis10": {
         "anchor": "x10",
         "domain": [
          0.3888888888888889,
          0.6111111111111112
         ],
         "title": {
          "font": {
           "size": 12
          }
         }
        },
        "yaxis11": {
         "anchor": "x11",
         "domain": [
          0,
          0.22222222222222224
         ],
         "title": {
          "font": {
           "size": 12
          }
         }
        },
        "yaxis12": {
         "anchor": "x12",
         "domain": [
          0,
          0.22222222222222224
         ],
         "title": {
          "font": {
           "size": 12
          }
         }
        },
        "yaxis13": {
         "anchor": "x13",
         "domain": [
          0,
          0.22222222222222224
         ],
         "title": {
          "font": {
           "size": 12
          }
         }
        },
        "yaxis14": {
         "anchor": "x14",
         "domain": [
          0,
          0.22222222222222224
         ],
         "title": {
          "font": {
           "size": 12
          }
         }
        },
        "yaxis15": {
         "anchor": "x15",
         "domain": [
          0,
          0.22222222222222224
         ],
         "title": {
          "font": {
           "size": 12
          }
         }
        },
        "yaxis2": {
         "anchor": "x2",
         "domain": [
          0.7777777777777778,
          1
         ],
         "title": {
          "font": {
           "size": 12
          }
         }
        },
        "yaxis3": {
         "anchor": "x3",
         "domain": [
          0.7777777777777778,
          1
         ],
         "title": {
          "font": {
           "size": 12
          }
         }
        },
        "yaxis4": {
         "anchor": "x4",
         "domain": [
          0.7777777777777778,
          1
         ],
         "title": {
          "font": {
           "size": 12
          }
         }
        },
        "yaxis5": {
         "anchor": "x5",
         "domain": [
          0.7777777777777778,
          1
         ],
         "title": {
          "font": {
           "size": 12
          }
         }
        },
        "yaxis6": {
         "anchor": "x6",
         "domain": [
          0.3888888888888889,
          0.6111111111111112
         ],
         "title": {
          "font": {
           "size": 12
          }
         }
        },
        "yaxis7": {
         "anchor": "x7",
         "domain": [
          0.3888888888888889,
          0.6111111111111112
         ],
         "title": {
          "font": {
           "size": 12
          }
         }
        },
        "yaxis8": {
         "anchor": "x8",
         "domain": [
          0.3888888888888889,
          0.6111111111111112
         ],
         "title": {
          "font": {
           "size": 12
          }
         }
        },
        "yaxis9": {
         "anchor": "x9",
         "domain": [
          0.3888888888888889,
          0.6111111111111112
         ],
         "title": {
          "font": {
           "size": 12
          }
         }
        }
       }
      }
     },
     "metadata": {},
     "output_type": "display_data"
    }
   ],
   "source": [
    "fig = make_subplots(rows=3, cols=5, subplot_titles=['House: {}'.format(i) for i in range(len(results_mean.instance.unique()))],\n",
    "                    x_title=\"Discomfort index\", y_title=\"Electricity cost [cents/day]\")\n",
    "\n",
    "i=0\n",
    "colors = px.colors.qualitative.Plotly\n",
    "color_map = {p: colors[i] for i,p in enumerate(results_mean.policy.unique())}\n",
    "for row in range(1,4):\n",
    "    for col in range(1,6):\n",
    "        \n",
    "        if i > 12:\n",
    "            continue\n",
    "        \n",
    "        data = results_mean[results_mean.instance==i].drop(columns=['instance'])\n",
    "        \n",
    "        for p in data.policy.unique():\n",
    "\n",
    "            if p == 'Real':\n",
    "                continue\n",
    "                #pass\n",
    "            data2 = data[data.policy == p]\n",
    "            \n",
    "            fig.add_trace(\n",
    "                go.Scatter(x=data2['discomfort index'], y=data2['electricity cost'], legendgroup=p, name=p, line_color=color_map[p], showlegend= not i, line_width=2, marker_size=5),\n",
    "                row=row, col=col\n",
    "            )\n",
    "       \n",
    "        i += 1\n",
    "\n",
    "fig.update_layout(height=800*0.7, width=1500*0.7,title_text=\"Electricity cost and discomfort index for each policy\")\n",
    "fig.update_layout(legend=dict(\n",
    "        orientation=\"h\",\n",
    "        yanchor=\"bottom\",\n",
    "        y=1.05,\n",
    "        xanchor=\"right\",\n",
    "        x=1\n",
    "    ))\n",
    "fig.for_each_xaxis(lambda axis: axis.title.update(font=dict(size=12)))\n",
    "fig.for_each_yaxis(lambda axis: axis.title.update(font=dict(size=12)))\n",
    "fig.show()\n",
    "fig.write_image(\"../Soportes documento/Graficas ppt/objectives_thetas.png\", scale=2, height = 700, width=1300)\n",
    "fig.write_image(\"../Soportes documento/Graficas documento/both_objectives.png\", scale=2, height=800*0.7, width=1500*0.7)"
   ]
  },
  {
   "cell_type": "code",
   "execution_count": 7,
   "metadata": {},
   "outputs": [
    {
     "data": {
      "application/vnd.plotly.v1+json": {
       "config": {
        "plotlyServerURL": "https://plot.ly"
       },
       "data": [
        {
         "alignmentgroup": "True",
         "hovertemplate": "policy=Deterministic<br>instance=%{x}<br>electricity cost=%{y}<extra></extra>",
         "legendgroup": "Deterministic",
         "marker": {
          "color": "#636efa",
          "pattern": {
           "shape": ""
          }
         },
         "name": "Deterministic",
         "offsetgroup": "Deterministic",
         "orientation": "v",
         "showlegend": true,
         "textposition": "auto",
         "texttemplate": "%{y:.2s}",
         "type": "bar",
         "x": [
          0,
          1,
          2,
          3,
          4,
          5,
          6,
          7,
          8,
          9,
          10,
          11,
          12
         ],
         "xaxis": "x",
         "y": [
          90.71222493726755,
          -218.0618561257494,
          -437.25101961378726,
          -577.8047795758636,
          -178.79264619863895,
          -202.25954825359625,
          -132.1221102255308,
          -128.415561786067,
          76.18005208858982,
          14.300577635596154,
          -618.4292428122588,
          -276.9292150320709,
          -266.0410819110147
         ],
         "yaxis": "y"
        },
        {
         "alignmentgroup": "True",
         "hovertemplate": "policy=Lookahead<br>instance=%{x}<br>electricity cost=%{y}<extra></extra>",
         "legendgroup": "Lookahead",
         "marker": {
          "color": "#EF553B",
          "pattern": {
           "shape": ""
          }
         },
         "name": "Lookahead",
         "offsetgroup": "Lookahead",
         "orientation": "v",
         "showlegend": true,
         "textposition": "auto",
         "texttemplate": "%{y:.2s}",
         "type": "bar",
         "x": [
          0,
          1,
          2,
          3,
          4,
          5,
          6,
          7,
          8,
          9,
          10,
          11,
          12
         ],
         "xaxis": "x",
         "y": [
          21.355336140863727,
          -294.30165212664866,
          -564.9720789168558,
          -722.8904560361465,
          -264.5302159343812,
          -292.2460251856316,
          -202.57414056453788,
          -222.85236176632338,
          -1.2544404875578543,
          -61.24661316596082,
          -745.0927425905214,
          -367.12563234887193,
          -387.95524611344695
         ],
         "yaxis": "y"
        },
        {
         "alignmentgroup": "True",
         "hovertemplate": "policy=Oracle<br>instance=%{x}<br>electricity cost=%{y}<extra></extra>",
         "legendgroup": "Oracle",
         "marker": {
          "color": "#00cc96",
          "pattern": {
           "shape": ""
          }
         },
         "name": "Oracle",
         "offsetgroup": "Oracle",
         "orientation": "v",
         "showlegend": true,
         "textposition": "auto",
         "texttemplate": "%{y:.2s}",
         "type": "bar",
         "x": [
          0,
          1,
          2,
          3,
          4,
          5,
          6,
          7,
          8,
          9,
          10,
          11,
          12
         ],
         "xaxis": "x",
         "y": [
          -77.90976985507065,
          -380.7849347888646,
          -656.2971126427196,
          -886.8964841276274,
          -361.24746380907027,
          -388.4202098522117,
          -282.39698840004,
          -311.25324517252375,
          -87.65753240130506,
          -151.88797011290615,
          -843.4304997796877,
          -450.2188135068912,
          -480.83850387857814
         ],
         "yaxis": "y"
        },
        {
         "alignmentgroup": "True",
         "hovertemplate": "policy=Real<br>instance=%{x}<br>electricity cost=%{y}<extra></extra>",
         "legendgroup": "Real",
         "marker": {
          "color": "#ab63fa",
          "pattern": {
           "shape": ""
          }
         },
         "name": "Real",
         "offsetgroup": "Real",
         "orientation": "v",
         "showlegend": true,
         "textposition": "auto",
         "texttemplate": "%{y:.2s}",
         "type": "bar",
         "x": [
          0,
          1,
          2,
          3,
          4,
          5,
          6,
          7,
          8,
          9,
          10,
          11,
          12
         ],
         "xaxis": "x",
         "y": [
          558.2543407108832,
          383.84607309860854,
          881.6162751687547,
          1640.464962011288,
          670.2869938824443,
          623.6429357938896,
          311.7378113765483,
          705.7451437421595,
          453.8306577115175,
          505.3282902975122,
          1071.2281958175054,
          504.48578342066116,
          813.7764654755434
         ],
         "yaxis": "y"
        }
       ],
       "layout": {
        "barmode": "group",
        "legend": {
         "title": {
          "text": "policy"
         },
         "tracegroupgap": 0
        },
        "margin": {
         "t": 60
        },
        "template": {
         "data": {
          "bar": [
           {
            "error_x": {
             "color": "#2a3f5f"
            },
            "error_y": {
             "color": "#2a3f5f"
            },
            "marker": {
             "line": {
              "color": "#E5ECF6",
              "width": 0.5
             },
             "pattern": {
              "fillmode": "overlay",
              "size": 10,
              "solidity": 0.2
             }
            },
            "type": "bar"
           }
          ],
          "barpolar": [
           {
            "marker": {
             "line": {
              "color": "#E5ECF6",
              "width": 0.5
             },
             "pattern": {
              "fillmode": "overlay",
              "size": 10,
              "solidity": 0.2
             }
            },
            "type": "barpolar"
           }
          ],
          "carpet": [
           {
            "aaxis": {
             "endlinecolor": "#2a3f5f",
             "gridcolor": "white",
             "linecolor": "white",
             "minorgridcolor": "white",
             "startlinecolor": "#2a3f5f"
            },
            "baxis": {
             "endlinecolor": "#2a3f5f",
             "gridcolor": "white",
             "linecolor": "white",
             "minorgridcolor": "white",
             "startlinecolor": "#2a3f5f"
            },
            "type": "carpet"
           }
          ],
          "choropleth": [
           {
            "colorbar": {
             "outlinewidth": 0,
             "ticks": ""
            },
            "type": "choropleth"
           }
          ],
          "contour": [
           {
            "colorbar": {
             "outlinewidth": 0,
             "ticks": ""
            },
            "colorscale": [
             [
              0,
              "#0d0887"
             ],
             [
              0.1111111111111111,
              "#46039f"
             ],
             [
              0.2222222222222222,
              "#7201a8"
             ],
             [
              0.3333333333333333,
              "#9c179e"
             ],
             [
              0.4444444444444444,
              "#bd3786"
             ],
             [
              0.5555555555555556,
              "#d8576b"
             ],
             [
              0.6666666666666666,
              "#ed7953"
             ],
             [
              0.7777777777777778,
              "#fb9f3a"
             ],
             [
              0.8888888888888888,
              "#fdca26"
             ],
             [
              1,
              "#f0f921"
             ]
            ],
            "type": "contour"
           }
          ],
          "contourcarpet": [
           {
            "colorbar": {
             "outlinewidth": 0,
             "ticks": ""
            },
            "type": "contourcarpet"
           }
          ],
          "heatmap": [
           {
            "colorbar": {
             "outlinewidth": 0,
             "ticks": ""
            },
            "colorscale": [
             [
              0,
              "#0d0887"
             ],
             [
              0.1111111111111111,
              "#46039f"
             ],
             [
              0.2222222222222222,
              "#7201a8"
             ],
             [
              0.3333333333333333,
              "#9c179e"
             ],
             [
              0.4444444444444444,
              "#bd3786"
             ],
             [
              0.5555555555555556,
              "#d8576b"
             ],
             [
              0.6666666666666666,
              "#ed7953"
             ],
             [
              0.7777777777777778,
              "#fb9f3a"
             ],
             [
              0.8888888888888888,
              "#fdca26"
             ],
             [
              1,
              "#f0f921"
             ]
            ],
            "type": "heatmap"
           }
          ],
          "heatmapgl": [
           {
            "colorbar": {
             "outlinewidth": 0,
             "ticks": ""
            },
            "colorscale": [
             [
              0,
              "#0d0887"
             ],
             [
              0.1111111111111111,
              "#46039f"
             ],
             [
              0.2222222222222222,
              "#7201a8"
             ],
             [
              0.3333333333333333,
              "#9c179e"
             ],
             [
              0.4444444444444444,
              "#bd3786"
             ],
             [
              0.5555555555555556,
              "#d8576b"
             ],
             [
              0.6666666666666666,
              "#ed7953"
             ],
             [
              0.7777777777777778,
              "#fb9f3a"
             ],
             [
              0.8888888888888888,
              "#fdca26"
             ],
             [
              1,
              "#f0f921"
             ]
            ],
            "type": "heatmapgl"
           }
          ],
          "histogram": [
           {
            "marker": {
             "pattern": {
              "fillmode": "overlay",
              "size": 10,
              "solidity": 0.2
             }
            },
            "type": "histogram"
           }
          ],
          "histogram2d": [
           {
            "colorbar": {
             "outlinewidth": 0,
             "ticks": ""
            },
            "colorscale": [
             [
              0,
              "#0d0887"
             ],
             [
              0.1111111111111111,
              "#46039f"
             ],
             [
              0.2222222222222222,
              "#7201a8"
             ],
             [
              0.3333333333333333,
              "#9c179e"
             ],
             [
              0.4444444444444444,
              "#bd3786"
             ],
             [
              0.5555555555555556,
              "#d8576b"
             ],
             [
              0.6666666666666666,
              "#ed7953"
             ],
             [
              0.7777777777777778,
              "#fb9f3a"
             ],
             [
              0.8888888888888888,
              "#fdca26"
             ],
             [
              1,
              "#f0f921"
             ]
            ],
            "type": "histogram2d"
           }
          ],
          "histogram2dcontour": [
           {
            "colorbar": {
             "outlinewidth": 0,
             "ticks": ""
            },
            "colorscale": [
             [
              0,
              "#0d0887"
             ],
             [
              0.1111111111111111,
              "#46039f"
             ],
             [
              0.2222222222222222,
              "#7201a8"
             ],
             [
              0.3333333333333333,
              "#9c179e"
             ],
             [
              0.4444444444444444,
              "#bd3786"
             ],
             [
              0.5555555555555556,
              "#d8576b"
             ],
             [
              0.6666666666666666,
              "#ed7953"
             ],
             [
              0.7777777777777778,
              "#fb9f3a"
             ],
             [
              0.8888888888888888,
              "#fdca26"
             ],
             [
              1,
              "#f0f921"
             ]
            ],
            "type": "histogram2dcontour"
           }
          ],
          "mesh3d": [
           {
            "colorbar": {
             "outlinewidth": 0,
             "ticks": ""
            },
            "type": "mesh3d"
           }
          ],
          "parcoords": [
           {
            "line": {
             "colorbar": {
              "outlinewidth": 0,
              "ticks": ""
             }
            },
            "type": "parcoords"
           }
          ],
          "pie": [
           {
            "automargin": true,
            "type": "pie"
           }
          ],
          "scatter": [
           {
            "fillpattern": {
             "fillmode": "overlay",
             "size": 10,
             "solidity": 0.2
            },
            "type": "scatter"
           }
          ],
          "scatter3d": [
           {
            "line": {
             "colorbar": {
              "outlinewidth": 0,
              "ticks": ""
             }
            },
            "marker": {
             "colorbar": {
              "outlinewidth": 0,
              "ticks": ""
             }
            },
            "type": "scatter3d"
           }
          ],
          "scattercarpet": [
           {
            "marker": {
             "colorbar": {
              "outlinewidth": 0,
              "ticks": ""
             }
            },
            "type": "scattercarpet"
           }
          ],
          "scattergeo": [
           {
            "marker": {
             "colorbar": {
              "outlinewidth": 0,
              "ticks": ""
             }
            },
            "type": "scattergeo"
           }
          ],
          "scattergl": [
           {
            "marker": {
             "colorbar": {
              "outlinewidth": 0,
              "ticks": ""
             }
            },
            "type": "scattergl"
           }
          ],
          "scattermapbox": [
           {
            "marker": {
             "colorbar": {
              "outlinewidth": 0,
              "ticks": ""
             }
            },
            "type": "scattermapbox"
           }
          ],
          "scatterpolar": [
           {
            "marker": {
             "colorbar": {
              "outlinewidth": 0,
              "ticks": ""
             }
            },
            "type": "scatterpolar"
           }
          ],
          "scatterpolargl": [
           {
            "marker": {
             "colorbar": {
              "outlinewidth": 0,
              "ticks": ""
             }
            },
            "type": "scatterpolargl"
           }
          ],
          "scatterternary": [
           {
            "marker": {
             "colorbar": {
              "outlinewidth": 0,
              "ticks": ""
             }
            },
            "type": "scatterternary"
           }
          ],
          "surface": [
           {
            "colorbar": {
             "outlinewidth": 0,
             "ticks": ""
            },
            "colorscale": [
             [
              0,
              "#0d0887"
             ],
             [
              0.1111111111111111,
              "#46039f"
             ],
             [
              0.2222222222222222,
              "#7201a8"
             ],
             [
              0.3333333333333333,
              "#9c179e"
             ],
             [
              0.4444444444444444,
              "#bd3786"
             ],
             [
              0.5555555555555556,
              "#d8576b"
             ],
             [
              0.6666666666666666,
              "#ed7953"
             ],
             [
              0.7777777777777778,
              "#fb9f3a"
             ],
             [
              0.8888888888888888,
              "#fdca26"
             ],
             [
              1,
              "#f0f921"
             ]
            ],
            "type": "surface"
           }
          ],
          "table": [
           {
            "cells": {
             "fill": {
              "color": "#EBF0F8"
             },
             "line": {
              "color": "white"
             }
            },
            "header": {
             "fill": {
              "color": "#C8D4E3"
             },
             "line": {
              "color": "white"
             }
            },
            "type": "table"
           }
          ]
         },
         "layout": {
          "annotationdefaults": {
           "arrowcolor": "#2a3f5f",
           "arrowhead": 0,
           "arrowwidth": 1
          },
          "autotypenumbers": "strict",
          "coloraxis": {
           "colorbar": {
            "outlinewidth": 0,
            "ticks": ""
           }
          },
          "colorscale": {
           "diverging": [
            [
             0,
             "#8e0152"
            ],
            [
             0.1,
             "#c51b7d"
            ],
            [
             0.2,
             "#de77ae"
            ],
            [
             0.3,
             "#f1b6da"
            ],
            [
             0.4,
             "#fde0ef"
            ],
            [
             0.5,
             "#f7f7f7"
            ],
            [
             0.6,
             "#e6f5d0"
            ],
            [
             0.7,
             "#b8e186"
            ],
            [
             0.8,
             "#7fbc41"
            ],
            [
             0.9,
             "#4d9221"
            ],
            [
             1,
             "#276419"
            ]
           ],
           "sequential": [
            [
             0,
             "#0d0887"
            ],
            [
             0.1111111111111111,
             "#46039f"
            ],
            [
             0.2222222222222222,
             "#7201a8"
            ],
            [
             0.3333333333333333,
             "#9c179e"
            ],
            [
             0.4444444444444444,
             "#bd3786"
            ],
            [
             0.5555555555555556,
             "#d8576b"
            ],
            [
             0.6666666666666666,
             "#ed7953"
            ],
            [
             0.7777777777777778,
             "#fb9f3a"
            ],
            [
             0.8888888888888888,
             "#fdca26"
            ],
            [
             1,
             "#f0f921"
            ]
           ],
           "sequentialminus": [
            [
             0,
             "#0d0887"
            ],
            [
             0.1111111111111111,
             "#46039f"
            ],
            [
             0.2222222222222222,
             "#7201a8"
            ],
            [
             0.3333333333333333,
             "#9c179e"
            ],
            [
             0.4444444444444444,
             "#bd3786"
            ],
            [
             0.5555555555555556,
             "#d8576b"
            ],
            [
             0.6666666666666666,
             "#ed7953"
            ],
            [
             0.7777777777777778,
             "#fb9f3a"
            ],
            [
             0.8888888888888888,
             "#fdca26"
            ],
            [
             1,
             "#f0f921"
            ]
           ]
          },
          "colorway": [
           "#636efa",
           "#EF553B",
           "#00cc96",
           "#ab63fa",
           "#FFA15A",
           "#19d3f3",
           "#FF6692",
           "#B6E880",
           "#FF97FF",
           "#FECB52"
          ],
          "font": {
           "color": "#2a3f5f"
          },
          "geo": {
           "bgcolor": "white",
           "lakecolor": "white",
           "landcolor": "#E5ECF6",
           "showlakes": true,
           "showland": true,
           "subunitcolor": "white"
          },
          "hoverlabel": {
           "align": "left"
          },
          "hovermode": "closest",
          "mapbox": {
           "style": "light"
          },
          "paper_bgcolor": "white",
          "plot_bgcolor": "#E5ECF6",
          "polar": {
           "angularaxis": {
            "gridcolor": "white",
            "linecolor": "white",
            "ticks": ""
           },
           "bgcolor": "#E5ECF6",
           "radialaxis": {
            "gridcolor": "white",
            "linecolor": "white",
            "ticks": ""
           }
          },
          "scene": {
           "xaxis": {
            "backgroundcolor": "#E5ECF6",
            "gridcolor": "white",
            "gridwidth": 2,
            "linecolor": "white",
            "showbackground": true,
            "ticks": "",
            "zerolinecolor": "white"
           },
           "yaxis": {
            "backgroundcolor": "#E5ECF6",
            "gridcolor": "white",
            "gridwidth": 2,
            "linecolor": "white",
            "showbackground": true,
            "ticks": "",
            "zerolinecolor": "white"
           },
           "zaxis": {
            "backgroundcolor": "#E5ECF6",
            "gridcolor": "white",
            "gridwidth": 2,
            "linecolor": "white",
            "showbackground": true,
            "ticks": "",
            "zerolinecolor": "white"
           }
          },
          "shapedefaults": {
           "line": {
            "color": "#2a3f5f"
           }
          },
          "ternary": {
           "aaxis": {
            "gridcolor": "white",
            "linecolor": "white",
            "ticks": ""
           },
           "baxis": {
            "gridcolor": "white",
            "linecolor": "white",
            "ticks": ""
           },
           "bgcolor": "#E5ECF6",
           "caxis": {
            "gridcolor": "white",
            "linecolor": "white",
            "ticks": ""
           }
          },
          "title": {
           "x": 0.05
          },
          "xaxis": {
           "automargin": true,
           "gridcolor": "white",
           "linecolor": "white",
           "ticks": "",
           "title": {
            "standoff": 15
           },
           "zerolinecolor": "white",
           "zerolinewidth": 2
          },
          "yaxis": {
           "automargin": true,
           "gridcolor": "white",
           "linecolor": "white",
           "ticks": "",
           "title": {
            "standoff": 15
           },
           "zerolinecolor": "white",
           "zerolinewidth": 2
          }
         }
        },
        "title": {
         "text": "Electricity cost for each house"
        },
        "xaxis": {
         "anchor": "y",
         "domain": [
          0,
          1
         ],
         "dtick": 1,
         "title": {
          "text": "House"
         }
        },
        "yaxis": {
         "anchor": "x",
         "domain": [
          0,
          1
         ],
         "title": {
          "text": "Electricity cost [cents/kWh]"
         }
        }
       }
      }
     },
     "metadata": {},
     "output_type": "display_data"
    }
   ],
   "source": [
    "df = results_mean.groupby(['instance', 'policy'])['electricity cost'].mean().reset_index()\n",
    "fig = px.bar(df, y=\"electricity cost\", x=\"instance\", color='policy', barmode='group', text_auto='.2s')\n",
    "fig.update_layout(title_text=\"Electricity cost for each house\",xaxis=dict(title='House',dtick= 1))\n",
    "fig.update_yaxes(title=\"Electricity cost [cents/kWh]\")\n",
    "fig.show()"
   ]
  },
  {
   "cell_type": "code",
   "execution_count": 30,
   "metadata": {},
   "outputs": [
    {
     "name": "stderr",
     "output_type": "stream",
     "text": [
      "/var/folders/zj/tfzbsc3d4pjfr_d6pw0fdtgr0000gn/T/ipykernel_8433/3281569146.py:1: UserWarning:\n",
      "\n",
      "Pandas requires version '1.4.3' or newer of 'xlsxwriter' (version '1.3.8' currently installed).\n",
      "\n"
     ]
    }
   ],
   "source": [
    "df.pivot(index=['policy'], columns='instance', values='electricity cost').reset_index().to_excel(\"tabla.xlsx\")"
   ]
  },
  {
   "cell_type": "code",
   "execution_count": 8,
   "metadata": {},
   "outputs": [
    {
     "data": {
      "application/vnd.plotly.v1+json": {
       "config": {
        "plotlyServerURL": "https://plot.ly"
       },
       "data": [
        {
         "alignmentgroup": "True",
         "hovertemplate": "policy=Deterministic<br>instance=%{x}<br>objective=%{y}<extra></extra>",
         "legendgroup": "Deterministic",
         "marker": {
          "color": "#636efa",
          "pattern": {
           "shape": ""
          }
         },
         "name": "Deterministic",
         "offsetgroup": "Deterministic",
         "orientation": "v",
         "showlegend": true,
         "textposition": "auto",
         "texttemplate": "%{y:.2s}",
         "type": "bar",
         "x": [
          0,
          1,
          2,
          3,
          4,
          5,
          6,
          7,
          8,
          9,
          10,
          11,
          12
         ],
         "xaxis": "x",
         "y": [
          6.332526794297013,
          -13.574544548892518,
          -27.308240807819796,
          -36.80556921125858,
          -11.024366418767976,
          -12.760367572953278,
          -1.2786850426403575,
          -6.588702404477183,
          8.050792137010859,
          1.7136683046510675,
          -37.46578127553334,
          -17.3864612926786,
          -16.86512352868171
         ],
         "yaxis": "y"
        },
        {
         "alignmentgroup": "True",
         "hovertemplate": "policy=Lookahead<br>instance=%{x}<br>objective=%{y}<extra></extra>",
         "legendgroup": "Lookahead",
         "marker": {
          "color": "#EF553B",
          "pattern": {
           "shape": ""
          }
         },
         "name": "Lookahead",
         "offsetgroup": "Lookahead",
         "orientation": "v",
         "showlegend": true,
         "textposition": "auto",
         "texttemplate": "%{y:.2s}",
         "type": "bar",
         "x": [
          0,
          1,
          2,
          3,
          4,
          5,
          6,
          7,
          8,
          9,
          10,
          11,
          12
         ],
         "xaxis": "x",
         "y": [
          1.4652280971128704,
          -18.45017529871619,
          -35.32584662344972,
          -46.1968872670818,
          -16.581815456833258,
          -18.850509580454162,
          -5.859193596212659,
          -12.678849600084257,
          2.9358879542992926,
          -3.257707395902702,
          -45.78520995799673,
          -23.210810338074864,
          -24.576707182455397
         ],
         "yaxis": "y"
        },
        {
         "alignmentgroup": "True",
         "hovertemplate": "policy=Oracle<br>instance=%{x}<br>objective=%{y}<extra></extra>",
         "legendgroup": "Oracle",
         "marker": {
          "color": "#00cc96",
          "pattern": {
           "shape": ""
          }
         },
         "name": "Oracle",
         "offsetgroup": "Oracle",
         "orientation": "v",
         "showlegend": true,
         "textposition": "auto",
         "texttemplate": "%{y:.2s}",
         "type": "bar",
         "x": [
          0,
          1,
          2,
          3,
          4,
          5,
          6,
          7,
          8,
          9,
          10,
          11,
          12
         ],
         "xaxis": "x",
         "y": [
          -5.059268304557986,
          -23.9922255010075,
          -41.246399488381144,
          -56.649091014379,
          -22.73924889591203,
          -25.377084117411652,
          -10.909602409087213,
          -18.32575974905578,
          -2.6951717412148954,
          -8.999979760768415,
          -52.44916732092198,
          -28.4891829403831,
          -30.61857754192926
         ],
         "yaxis": "y"
        },
        {
         "alignmentgroup": "True",
         "hovertemplate": "policy=Real<br>instance=%{x}<br>objective=%{y}<extra></extra>",
         "legendgroup": "Real",
         "marker": {
          "color": "#ab63fa",
          "pattern": {
           "shape": ""
          }
         },
         "name": "Real",
         "offsetgroup": "Real",
         "orientation": "v",
         "showlegend": true,
         "textposition": "auto",
         "texttemplate": "%{y:.2s}",
         "type": "bar",
         "x": [
          0,
          1,
          2,
          3,
          4,
          5,
          6,
          7,
          8,
          9,
          10,
          11,
          12
         ],
         "xaxis": "x",
         "y": [
          35.82132019561501,
          24.630123023827384,
          56.57037765666175,
          105.26316839572432,
          43.010082107456846,
          40.017088380107914,
          20.00317622999518,
          45.28531339012191,
          29.120800536489043,
          32.42523196075703,
          68.73714256495659,
          32.37117110282576,
          52.21732320134737
         ],
         "yaxis": "y"
        }
       ],
       "layout": {
        "barmode": "group",
        "legend": {
         "title": {
          "text": "policy"
         },
         "tracegroupgap": 0
        },
        "margin": {
         "t": 60
        },
        "template": {
         "data": {
          "bar": [
           {
            "error_x": {
             "color": "#2a3f5f"
            },
            "error_y": {
             "color": "#2a3f5f"
            },
            "marker": {
             "line": {
              "color": "#E5ECF6",
              "width": 0.5
             },
             "pattern": {
              "fillmode": "overlay",
              "size": 10,
              "solidity": 0.2
             }
            },
            "type": "bar"
           }
          ],
          "barpolar": [
           {
            "marker": {
             "line": {
              "color": "#E5ECF6",
              "width": 0.5
             },
             "pattern": {
              "fillmode": "overlay",
              "size": 10,
              "solidity": 0.2
             }
            },
            "type": "barpolar"
           }
          ],
          "carpet": [
           {
            "aaxis": {
             "endlinecolor": "#2a3f5f",
             "gridcolor": "white",
             "linecolor": "white",
             "minorgridcolor": "white",
             "startlinecolor": "#2a3f5f"
            },
            "baxis": {
             "endlinecolor": "#2a3f5f",
             "gridcolor": "white",
             "linecolor": "white",
             "minorgridcolor": "white",
             "startlinecolor": "#2a3f5f"
            },
            "type": "carpet"
           }
          ],
          "choropleth": [
           {
            "colorbar": {
             "outlinewidth": 0,
             "ticks": ""
            },
            "type": "choropleth"
           }
          ],
          "contour": [
           {
            "colorbar": {
             "outlinewidth": 0,
             "ticks": ""
            },
            "colorscale": [
             [
              0,
              "#0d0887"
             ],
             [
              0.1111111111111111,
              "#46039f"
             ],
             [
              0.2222222222222222,
              "#7201a8"
             ],
             [
              0.3333333333333333,
              "#9c179e"
             ],
             [
              0.4444444444444444,
              "#bd3786"
             ],
             [
              0.5555555555555556,
              "#d8576b"
             ],
             [
              0.6666666666666666,
              "#ed7953"
             ],
             [
              0.7777777777777778,
              "#fb9f3a"
             ],
             [
              0.8888888888888888,
              "#fdca26"
             ],
             [
              1,
              "#f0f921"
             ]
            ],
            "type": "contour"
           }
          ],
          "contourcarpet": [
           {
            "colorbar": {
             "outlinewidth": 0,
             "ticks": ""
            },
            "type": "contourcarpet"
           }
          ],
          "heatmap": [
           {
            "colorbar": {
             "outlinewidth": 0,
             "ticks": ""
            },
            "colorscale": [
             [
              0,
              "#0d0887"
             ],
             [
              0.1111111111111111,
              "#46039f"
             ],
             [
              0.2222222222222222,
              "#7201a8"
             ],
             [
              0.3333333333333333,
              "#9c179e"
             ],
             [
              0.4444444444444444,
              "#bd3786"
             ],
             [
              0.5555555555555556,
              "#d8576b"
             ],
             [
              0.6666666666666666,
              "#ed7953"
             ],
             [
              0.7777777777777778,
              "#fb9f3a"
             ],
             [
              0.8888888888888888,
              "#fdca26"
             ],
             [
              1,
              "#f0f921"
             ]
            ],
            "type": "heatmap"
           }
          ],
          "heatmapgl": [
           {
            "colorbar": {
             "outlinewidth": 0,
             "ticks": ""
            },
            "colorscale": [
             [
              0,
              "#0d0887"
             ],
             [
              0.1111111111111111,
              "#46039f"
             ],
             [
              0.2222222222222222,
              "#7201a8"
             ],
             [
              0.3333333333333333,
              "#9c179e"
             ],
             [
              0.4444444444444444,
              "#bd3786"
             ],
             [
              0.5555555555555556,
              "#d8576b"
             ],
             [
              0.6666666666666666,
              "#ed7953"
             ],
             [
              0.7777777777777778,
              "#fb9f3a"
             ],
             [
              0.8888888888888888,
              "#fdca26"
             ],
             [
              1,
              "#f0f921"
             ]
            ],
            "type": "heatmapgl"
           }
          ],
          "histogram": [
           {
            "marker": {
             "pattern": {
              "fillmode": "overlay",
              "size": 10,
              "solidity": 0.2
             }
            },
            "type": "histogram"
           }
          ],
          "histogram2d": [
           {
            "colorbar": {
             "outlinewidth": 0,
             "ticks": ""
            },
            "colorscale": [
             [
              0,
              "#0d0887"
             ],
             [
              0.1111111111111111,
              "#46039f"
             ],
             [
              0.2222222222222222,
              "#7201a8"
             ],
             [
              0.3333333333333333,
              "#9c179e"
             ],
             [
              0.4444444444444444,
              "#bd3786"
             ],
             [
              0.5555555555555556,
              "#d8576b"
             ],
             [
              0.6666666666666666,
              "#ed7953"
             ],
             [
              0.7777777777777778,
              "#fb9f3a"
             ],
             [
              0.8888888888888888,
              "#fdca26"
             ],
             [
              1,
              "#f0f921"
             ]
            ],
            "type": "histogram2d"
           }
          ],
          "histogram2dcontour": [
           {
            "colorbar": {
             "outlinewidth": 0,
             "ticks": ""
            },
            "colorscale": [
             [
              0,
              "#0d0887"
             ],
             [
              0.1111111111111111,
              "#46039f"
             ],
             [
              0.2222222222222222,
              "#7201a8"
             ],
             [
              0.3333333333333333,
              "#9c179e"
             ],
             [
              0.4444444444444444,
              "#bd3786"
             ],
             [
              0.5555555555555556,
              "#d8576b"
             ],
             [
              0.6666666666666666,
              "#ed7953"
             ],
             [
              0.7777777777777778,
              "#fb9f3a"
             ],
             [
              0.8888888888888888,
              "#fdca26"
             ],
             [
              1,
              "#f0f921"
             ]
            ],
            "type": "histogram2dcontour"
           }
          ],
          "mesh3d": [
           {
            "colorbar": {
             "outlinewidth": 0,
             "ticks": ""
            },
            "type": "mesh3d"
           }
          ],
          "parcoords": [
           {
            "line": {
             "colorbar": {
              "outlinewidth": 0,
              "ticks": ""
             }
            },
            "type": "parcoords"
           }
          ],
          "pie": [
           {
            "automargin": true,
            "type": "pie"
           }
          ],
          "scatter": [
           {
            "fillpattern": {
             "fillmode": "overlay",
             "size": 10,
             "solidity": 0.2
            },
            "type": "scatter"
           }
          ],
          "scatter3d": [
           {
            "line": {
             "colorbar": {
              "outlinewidth": 0,
              "ticks": ""
             }
            },
            "marker": {
             "colorbar": {
              "outlinewidth": 0,
              "ticks": ""
             }
            },
            "type": "scatter3d"
           }
          ],
          "scattercarpet": [
           {
            "marker": {
             "colorbar": {
              "outlinewidth": 0,
              "ticks": ""
             }
            },
            "type": "scattercarpet"
           }
          ],
          "scattergeo": [
           {
            "marker": {
             "colorbar": {
              "outlinewidth": 0,
              "ticks": ""
             }
            },
            "type": "scattergeo"
           }
          ],
          "scattergl": [
           {
            "marker": {
             "colorbar": {
              "outlinewidth": 0,
              "ticks": ""
             }
            },
            "type": "scattergl"
           }
          ],
          "scattermapbox": [
           {
            "marker": {
             "colorbar": {
              "outlinewidth": 0,
              "ticks": ""
             }
            },
            "type": "scattermapbox"
           }
          ],
          "scatterpolar": [
           {
            "marker": {
             "colorbar": {
              "outlinewidth": 0,
              "ticks": ""
             }
            },
            "type": "scatterpolar"
           }
          ],
          "scatterpolargl": [
           {
            "marker": {
             "colorbar": {
              "outlinewidth": 0,
              "ticks": ""
             }
            },
            "type": "scatterpolargl"
           }
          ],
          "scatterternary": [
           {
            "marker": {
             "colorbar": {
              "outlinewidth": 0,
              "ticks": ""
             }
            },
            "type": "scatterternary"
           }
          ],
          "surface": [
           {
            "colorbar": {
             "outlinewidth": 0,
             "ticks": ""
            },
            "colorscale": [
             [
              0,
              "#0d0887"
             ],
             [
              0.1111111111111111,
              "#46039f"
             ],
             [
              0.2222222222222222,
              "#7201a8"
             ],
             [
              0.3333333333333333,
              "#9c179e"
             ],
             [
              0.4444444444444444,
              "#bd3786"
             ],
             [
              0.5555555555555556,
              "#d8576b"
             ],
             [
              0.6666666666666666,
              "#ed7953"
             ],
             [
              0.7777777777777778,
              "#fb9f3a"
             ],
             [
              0.8888888888888888,
              "#fdca26"
             ],
             [
              1,
              "#f0f921"
             ]
            ],
            "type": "surface"
           }
          ],
          "table": [
           {
            "cells": {
             "fill": {
              "color": "#EBF0F8"
             },
             "line": {
              "color": "white"
             }
            },
            "header": {
             "fill": {
              "color": "#C8D4E3"
             },
             "line": {
              "color": "white"
             }
            },
            "type": "table"
           }
          ]
         },
         "layout": {
          "annotationdefaults": {
           "arrowcolor": "#2a3f5f",
           "arrowhead": 0,
           "arrowwidth": 1
          },
          "autotypenumbers": "strict",
          "coloraxis": {
           "colorbar": {
            "outlinewidth": 0,
            "ticks": ""
           }
          },
          "colorscale": {
           "diverging": [
            [
             0,
             "#8e0152"
            ],
            [
             0.1,
             "#c51b7d"
            ],
            [
             0.2,
             "#de77ae"
            ],
            [
             0.3,
             "#f1b6da"
            ],
            [
             0.4,
             "#fde0ef"
            ],
            [
             0.5,
             "#f7f7f7"
            ],
            [
             0.6,
             "#e6f5d0"
            ],
            [
             0.7,
             "#b8e186"
            ],
            [
             0.8,
             "#7fbc41"
            ],
            [
             0.9,
             "#4d9221"
            ],
            [
             1,
             "#276419"
            ]
           ],
           "sequential": [
            [
             0,
             "#0d0887"
            ],
            [
             0.1111111111111111,
             "#46039f"
            ],
            [
             0.2222222222222222,
             "#7201a8"
            ],
            [
             0.3333333333333333,
             "#9c179e"
            ],
            [
             0.4444444444444444,
             "#bd3786"
            ],
            [
             0.5555555555555556,
             "#d8576b"
            ],
            [
             0.6666666666666666,
             "#ed7953"
            ],
            [
             0.7777777777777778,
             "#fb9f3a"
            ],
            [
             0.8888888888888888,
             "#fdca26"
            ],
            [
             1,
             "#f0f921"
            ]
           ],
           "sequentialminus": [
            [
             0,
             "#0d0887"
            ],
            [
             0.1111111111111111,
             "#46039f"
            ],
            [
             0.2222222222222222,
             "#7201a8"
            ],
            [
             0.3333333333333333,
             "#9c179e"
            ],
            [
             0.4444444444444444,
             "#bd3786"
            ],
            [
             0.5555555555555556,
             "#d8576b"
            ],
            [
             0.6666666666666666,
             "#ed7953"
            ],
            [
             0.7777777777777778,
             "#fb9f3a"
            ],
            [
             0.8888888888888888,
             "#fdca26"
            ],
            [
             1,
             "#f0f921"
            ]
           ]
          },
          "colorway": [
           "#636efa",
           "#EF553B",
           "#00cc96",
           "#ab63fa",
           "#FFA15A",
           "#19d3f3",
           "#FF6692",
           "#B6E880",
           "#FF97FF",
           "#FECB52"
          ],
          "font": {
           "color": "#2a3f5f"
          },
          "geo": {
           "bgcolor": "white",
           "lakecolor": "white",
           "landcolor": "#E5ECF6",
           "showlakes": true,
           "showland": true,
           "subunitcolor": "white"
          },
          "hoverlabel": {
           "align": "left"
          },
          "hovermode": "closest",
          "mapbox": {
           "style": "light"
          },
          "paper_bgcolor": "white",
          "plot_bgcolor": "#E5ECF6",
          "polar": {
           "angularaxis": {
            "gridcolor": "white",
            "linecolor": "white",
            "ticks": ""
           },
           "bgcolor": "#E5ECF6",
           "radialaxis": {
            "gridcolor": "white",
            "linecolor": "white",
            "ticks": ""
           }
          },
          "scene": {
           "xaxis": {
            "backgroundcolor": "#E5ECF6",
            "gridcolor": "white",
            "gridwidth": 2,
            "linecolor": "white",
            "showbackground": true,
            "ticks": "",
            "zerolinecolor": "white"
           },
           "yaxis": {
            "backgroundcolor": "#E5ECF6",
            "gridcolor": "white",
            "gridwidth": 2,
            "linecolor": "white",
            "showbackground": true,
            "ticks": "",
            "zerolinecolor": "white"
           },
           "zaxis": {
            "backgroundcolor": "#E5ECF6",
            "gridcolor": "white",
            "gridwidth": 2,
            "linecolor": "white",
            "showbackground": true,
            "ticks": "",
            "zerolinecolor": "white"
           }
          },
          "shapedefaults": {
           "line": {
            "color": "#2a3f5f"
           }
          },
          "ternary": {
           "aaxis": {
            "gridcolor": "white",
            "linecolor": "white",
            "ticks": ""
           },
           "baxis": {
            "gridcolor": "white",
            "linecolor": "white",
            "ticks": ""
           },
           "bgcolor": "#E5ECF6",
           "caxis": {
            "gridcolor": "white",
            "linecolor": "white",
            "ticks": ""
           }
          },
          "title": {
           "x": 0.05
          },
          "xaxis": {
           "automargin": true,
           "gridcolor": "white",
           "linecolor": "white",
           "ticks": "",
           "title": {
            "standoff": 15
           },
           "zerolinecolor": "white",
           "zerolinewidth": 2
          },
          "yaxis": {
           "automargin": true,
           "gridcolor": "white",
           "linecolor": "white",
           "ticks": "",
           "title": {
            "standoff": 15
           },
           "zerolinecolor": "white",
           "zerolinewidth": 2
          }
         }
        },
        "title": {
         "text": "Weighted objective for each house"
        },
        "xaxis": {
         "anchor": "y",
         "domain": [
          0,
          1
         ],
         "dtick": 1,
         "title": {
          "text": "House"
         }
        },
        "yaxis": {
         "anchor": "x",
         "domain": [
          0,
          1
         ],
         "title": {
          "text": "objective"
         }
        }
       }
      }
     },
     "metadata": {},
     "output_type": "display_data"
    }
   ],
   "source": [
    "df = results_mean.groupby(['instance', 'policy']).objective.mean().reset_index()\n",
    "fig = px.bar(df, y=\"objective\", x=\"instance\", color='policy', barmode='group', text_auto='.2s')\n",
    "fig.update_layout(title_text=\"Weighted objective for each house\",xaxis=dict(title='House',dtick= 1))\n",
    "fig.show()\n",
    "#fig.write_image(\"../Soportes documento/Graficas ppt/objective_houses.png\", scale=2, height = 500, width=1000)"
   ]
  },
  {
   "attachments": {},
   "cell_type": "markdown",
   "metadata": {},
   "source": [
    "Mejora con respecto al método determinístico"
   ]
  },
  {
   "cell_type": "code",
   "execution_count": 9,
   "metadata": {},
   "outputs": [
    {
     "data": {
      "text/html": [
       "<div>\n",
       "<style scoped>\n",
       "    .dataframe tbody tr th:only-of-type {\n",
       "        vertical-align: middle;\n",
       "    }\n",
       "\n",
       "    .dataframe tbody tr th {\n",
       "        vertical-align: top;\n",
       "    }\n",
       "\n",
       "    .dataframe thead th {\n",
       "        text-align: right;\n",
       "    }\n",
       "</style>\n",
       "<table border=\"1\" class=\"dataframe\">\n",
       "  <thead>\n",
       "    <tr style=\"text-align: right;\">\n",
       "      <th>policy</th>\n",
       "      <th>instance</th>\n",
       "      <th>Deterministic</th>\n",
       "      <th>Lookahead</th>\n",
       "      <th>Oracle</th>\n",
       "      <th>Real</th>\n",
       "      <th>gap_deterministic</th>\n",
       "      <th>gap_oracle</th>\n",
       "    </tr>\n",
       "  </thead>\n",
       "  <tbody>\n",
       "    <tr>\n",
       "      <th>0</th>\n",
       "      <td>0</td>\n",
       "      <td>90.712225</td>\n",
       "      <td>21.355336</td>\n",
       "      <td>-77.909770</td>\n",
       "      <td>558.254341</td>\n",
       "      <td>0.764581</td>\n",
       "      <td>1.274103</td>\n",
       "    </tr>\n",
       "    <tr>\n",
       "      <th>1</th>\n",
       "      <td>1</td>\n",
       "      <td>-218.061856</td>\n",
       "      <td>-294.301652</td>\n",
       "      <td>-380.784935</td>\n",
       "      <td>383.846073</td>\n",
       "      <td>0.349625</td>\n",
       "      <td>0.227118</td>\n",
       "    </tr>\n",
       "    <tr>\n",
       "      <th>2</th>\n",
       "      <td>2</td>\n",
       "      <td>-437.251020</td>\n",
       "      <td>-564.972079</td>\n",
       "      <td>-656.297113</td>\n",
       "      <td>881.616275</td>\n",
       "      <td>0.292100</td>\n",
       "      <td>0.139152</td>\n",
       "    </tr>\n",
       "    <tr>\n",
       "      <th>3</th>\n",
       "      <td>3</td>\n",
       "      <td>-577.804780</td>\n",
       "      <td>-722.890456</td>\n",
       "      <td>-886.896484</td>\n",
       "      <td>1640.464962</td>\n",
       "      <td>0.251098</td>\n",
       "      <td>0.184921</td>\n",
       "    </tr>\n",
       "    <tr>\n",
       "      <th>4</th>\n",
       "      <td>4</td>\n",
       "      <td>-178.792646</td>\n",
       "      <td>-264.530216</td>\n",
       "      <td>-361.247464</td>\n",
       "      <td>670.286994</td>\n",
       "      <td>0.479536</td>\n",
       "      <td>0.267731</td>\n",
       "    </tr>\n",
       "  </tbody>\n",
       "</table>\n",
       "</div>"
      ],
      "text/plain": [
       "policy  instance  Deterministic   Lookahead      Oracle         Real  \\\n",
       "0              0      90.712225   21.355336  -77.909770   558.254341   \n",
       "1              1    -218.061856 -294.301652 -380.784935   383.846073   \n",
       "2              2    -437.251020 -564.972079 -656.297113   881.616275   \n",
       "3              3    -577.804780 -722.890456 -886.896484  1640.464962   \n",
       "4              4    -178.792646 -264.530216 -361.247464   670.286994   \n",
       "\n",
       "policy  gap_deterministic  gap_oracle  \n",
       "0                0.764581    1.274103  \n",
       "1                0.349625    0.227118  \n",
       "2                0.292100    0.139152  \n",
       "3                0.251098    0.184921  \n",
       "4                0.479536    0.267731  "
      ]
     },
     "execution_count": 9,
     "metadata": {},
     "output_type": "execute_result"
    }
   ],
   "source": [
    "df = results_mean.groupby(['instance', 'policy'])['electricity cost'].mean().reset_index()\n",
    "results_policies=df.pivot(index=['instance'], columns='policy', values='electricity cost').reset_index()\n",
    "results_policies['gap_deterministic'] = (results_policies['Deterministic']-results_policies['Lookahead'])/abs(results_policies['Deterministic'])\n",
    "results_policies['gap_oracle'] = (results_policies['Lookahead']-results_policies['Oracle'])/abs(results_policies['Oracle'])\n",
    "results_policies.head()"
   ]
  },
  {
   "cell_type": "code",
   "execution_count": 10,
   "metadata": {},
   "outputs": [
    {
     "data": {
      "text/html": [
       "<div>\n",
       "<style scoped>\n",
       "    .dataframe tbody tr th:only-of-type {\n",
       "        vertical-align: middle;\n",
       "    }\n",
       "\n",
       "    .dataframe tbody tr th {\n",
       "        vertical-align: top;\n",
       "    }\n",
       "\n",
       "    .dataframe thead th {\n",
       "        text-align: right;\n",
       "    }\n",
       "</style>\n",
       "<table border=\"1\" class=\"dataframe\">\n",
       "  <thead>\n",
       "    <tr style=\"text-align: right;\">\n",
       "      <th></th>\n",
       "      <th>instance</th>\n",
       "      <th>policy</th>\n",
       "      <th>value</th>\n",
       "    </tr>\n",
       "  </thead>\n",
       "  <tbody>\n",
       "    <tr>\n",
       "      <th>0</th>\n",
       "      <td>0</td>\n",
       "      <td>gap_deterministic</td>\n",
       "      <td>76.458150</td>\n",
       "    </tr>\n",
       "    <tr>\n",
       "      <th>1</th>\n",
       "      <td>1</td>\n",
       "      <td>gap_deterministic</td>\n",
       "      <td>34.962463</td>\n",
       "    </tr>\n",
       "    <tr>\n",
       "      <th>2</th>\n",
       "      <td>2</td>\n",
       "      <td>gap_deterministic</td>\n",
       "      <td>29.210008</td>\n",
       "    </tr>\n",
       "    <tr>\n",
       "      <th>3</th>\n",
       "      <td>3</td>\n",
       "      <td>gap_deterministic</td>\n",
       "      <td>25.109809</td>\n",
       "    </tr>\n",
       "    <tr>\n",
       "      <th>4</th>\n",
       "      <td>4</td>\n",
       "      <td>gap_deterministic</td>\n",
       "      <td>47.953633</td>\n",
       "    </tr>\n",
       "  </tbody>\n",
       "</table>\n",
       "</div>"
      ],
      "text/plain": [
       "   instance             policy      value\n",
       "0         0  gap_deterministic  76.458150\n",
       "1         1  gap_deterministic  34.962463\n",
       "2         2  gap_deterministic  29.210008\n",
       "3         3  gap_deterministic  25.109809\n",
       "4         4  gap_deterministic  47.953633"
      ]
     },
     "execution_count": 10,
     "metadata": {},
     "output_type": "execute_result"
    }
   ],
   "source": [
    "gaps = results_policies[['instance', 'gap_deterministic', 'gap_oracle']].melt(id_vars=['instance'])\n",
    "#gaps['theta'] = gaps['theta'].astype(str)\n",
    "gaps['value'] = gaps['value']*100\n",
    "gaps.head()"
   ]
  },
  {
   "cell_type": "code",
   "execution_count": 11,
   "metadata": {},
   "outputs": [
    {
     "data": {
      "application/vnd.plotly.v1+json": {
       "config": {
        "plotlyServerURL": "https://plot.ly"
       },
       "data": [
        {
         "alignmentgroup": "True",
         "hovertemplate": "instance=%{x}<br>value=%{y}<extra></extra>",
         "legendgroup": "",
         "marker": {
          "color": "#636efa",
          "pattern": {
           "shape": ""
          }
         },
         "name": "",
         "offsetgroup": "",
         "orientation": "v",
         "showlegend": false,
         "textposition": "auto",
         "texttemplate": "%{y:.2s}",
         "type": "bar",
         "x": [
          0,
          1,
          2,
          3,
          4,
          5,
          6,
          7,
          8,
          9,
          10,
          11,
          12
         ],
         "xaxis": "x",
         "y": [
          76.45814976357144,
          34.96246310814404,
          29.210008341634364,
          25.109808985447085,
          47.95363319388859,
          44.49059523222551,
          53.32342196075005,
          73.53999676268418,
          101.64667843243144,
          528.280694155384,
          20.48148616036819,
          32.570206544064156,
          45.825315145579665
         ],
         "yaxis": "y"
        }
       ],
       "layout": {
        "barmode": "relative",
        "legend": {
         "tracegroupgap": 0
        },
        "margin": {
         "t": 60
        },
        "template": {
         "data": {
          "bar": [
           {
            "error_x": {
             "color": "#2a3f5f"
            },
            "error_y": {
             "color": "#2a3f5f"
            },
            "marker": {
             "line": {
              "color": "#E5ECF6",
              "width": 0.5
             },
             "pattern": {
              "fillmode": "overlay",
              "size": 10,
              "solidity": 0.2
             }
            },
            "type": "bar"
           }
          ],
          "barpolar": [
           {
            "marker": {
             "line": {
              "color": "#E5ECF6",
              "width": 0.5
             },
             "pattern": {
              "fillmode": "overlay",
              "size": 10,
              "solidity": 0.2
             }
            },
            "type": "barpolar"
           }
          ],
          "carpet": [
           {
            "aaxis": {
             "endlinecolor": "#2a3f5f",
             "gridcolor": "white",
             "linecolor": "white",
             "minorgridcolor": "white",
             "startlinecolor": "#2a3f5f"
            },
            "baxis": {
             "endlinecolor": "#2a3f5f",
             "gridcolor": "white",
             "linecolor": "white",
             "minorgridcolor": "white",
             "startlinecolor": "#2a3f5f"
            },
            "type": "carpet"
           }
          ],
          "choropleth": [
           {
            "colorbar": {
             "outlinewidth": 0,
             "ticks": ""
            },
            "type": "choropleth"
           }
          ],
          "contour": [
           {
            "colorbar": {
             "outlinewidth": 0,
             "ticks": ""
            },
            "colorscale": [
             [
              0,
              "#0d0887"
             ],
             [
              0.1111111111111111,
              "#46039f"
             ],
             [
              0.2222222222222222,
              "#7201a8"
             ],
             [
              0.3333333333333333,
              "#9c179e"
             ],
             [
              0.4444444444444444,
              "#bd3786"
             ],
             [
              0.5555555555555556,
              "#d8576b"
             ],
             [
              0.6666666666666666,
              "#ed7953"
             ],
             [
              0.7777777777777778,
              "#fb9f3a"
             ],
             [
              0.8888888888888888,
              "#fdca26"
             ],
             [
              1,
              "#f0f921"
             ]
            ],
            "type": "contour"
           }
          ],
          "contourcarpet": [
           {
            "colorbar": {
             "outlinewidth": 0,
             "ticks": ""
            },
            "type": "contourcarpet"
           }
          ],
          "heatmap": [
           {
            "colorbar": {
             "outlinewidth": 0,
             "ticks": ""
            },
            "colorscale": [
             [
              0,
              "#0d0887"
             ],
             [
              0.1111111111111111,
              "#46039f"
             ],
             [
              0.2222222222222222,
              "#7201a8"
             ],
             [
              0.3333333333333333,
              "#9c179e"
             ],
             [
              0.4444444444444444,
              "#bd3786"
             ],
             [
              0.5555555555555556,
              "#d8576b"
             ],
             [
              0.6666666666666666,
              "#ed7953"
             ],
             [
              0.7777777777777778,
              "#fb9f3a"
             ],
             [
              0.8888888888888888,
              "#fdca26"
             ],
             [
              1,
              "#f0f921"
             ]
            ],
            "type": "heatmap"
           }
          ],
          "heatmapgl": [
           {
            "colorbar": {
             "outlinewidth": 0,
             "ticks": ""
            },
            "colorscale": [
             [
              0,
              "#0d0887"
             ],
             [
              0.1111111111111111,
              "#46039f"
             ],
             [
              0.2222222222222222,
              "#7201a8"
             ],
             [
              0.3333333333333333,
              "#9c179e"
             ],
             [
              0.4444444444444444,
              "#bd3786"
             ],
             [
              0.5555555555555556,
              "#d8576b"
             ],
             [
              0.6666666666666666,
              "#ed7953"
             ],
             [
              0.7777777777777778,
              "#fb9f3a"
             ],
             [
              0.8888888888888888,
              "#fdca26"
             ],
             [
              1,
              "#f0f921"
             ]
            ],
            "type": "heatmapgl"
           }
          ],
          "histogram": [
           {
            "marker": {
             "pattern": {
              "fillmode": "overlay",
              "size": 10,
              "solidity": 0.2
             }
            },
            "type": "histogram"
           }
          ],
          "histogram2d": [
           {
            "colorbar": {
             "outlinewidth": 0,
             "ticks": ""
            },
            "colorscale": [
             [
              0,
              "#0d0887"
             ],
             [
              0.1111111111111111,
              "#46039f"
             ],
             [
              0.2222222222222222,
              "#7201a8"
             ],
             [
              0.3333333333333333,
              "#9c179e"
             ],
             [
              0.4444444444444444,
              "#bd3786"
             ],
             [
              0.5555555555555556,
              "#d8576b"
             ],
             [
              0.6666666666666666,
              "#ed7953"
             ],
             [
              0.7777777777777778,
              "#fb9f3a"
             ],
             [
              0.8888888888888888,
              "#fdca26"
             ],
             [
              1,
              "#f0f921"
             ]
            ],
            "type": "histogram2d"
           }
          ],
          "histogram2dcontour": [
           {
            "colorbar": {
             "outlinewidth": 0,
             "ticks": ""
            },
            "colorscale": [
             [
              0,
              "#0d0887"
             ],
             [
              0.1111111111111111,
              "#46039f"
             ],
             [
              0.2222222222222222,
              "#7201a8"
             ],
             [
              0.3333333333333333,
              "#9c179e"
             ],
             [
              0.4444444444444444,
              "#bd3786"
             ],
             [
              0.5555555555555556,
              "#d8576b"
             ],
             [
              0.6666666666666666,
              "#ed7953"
             ],
             [
              0.7777777777777778,
              "#fb9f3a"
             ],
             [
              0.8888888888888888,
              "#fdca26"
             ],
             [
              1,
              "#f0f921"
             ]
            ],
            "type": "histogram2dcontour"
           }
          ],
          "mesh3d": [
           {
            "colorbar": {
             "outlinewidth": 0,
             "ticks": ""
            },
            "type": "mesh3d"
           }
          ],
          "parcoords": [
           {
            "line": {
             "colorbar": {
              "outlinewidth": 0,
              "ticks": ""
             }
            },
            "type": "parcoords"
           }
          ],
          "pie": [
           {
            "automargin": true,
            "type": "pie"
           }
          ],
          "scatter": [
           {
            "fillpattern": {
             "fillmode": "overlay",
             "size": 10,
             "solidity": 0.2
            },
            "type": "scatter"
           }
          ],
          "scatter3d": [
           {
            "line": {
             "colorbar": {
              "outlinewidth": 0,
              "ticks": ""
             }
            },
            "marker": {
             "colorbar": {
              "outlinewidth": 0,
              "ticks": ""
             }
            },
            "type": "scatter3d"
           }
          ],
          "scattercarpet": [
           {
            "marker": {
             "colorbar": {
              "outlinewidth": 0,
              "ticks": ""
             }
            },
            "type": "scattercarpet"
           }
          ],
          "scattergeo": [
           {
            "marker": {
             "colorbar": {
              "outlinewidth": 0,
              "ticks": ""
             }
            },
            "type": "scattergeo"
           }
          ],
          "scattergl": [
           {
            "marker": {
             "colorbar": {
              "outlinewidth": 0,
              "ticks": ""
             }
            },
            "type": "scattergl"
           }
          ],
          "scattermapbox": [
           {
            "marker": {
             "colorbar": {
              "outlinewidth": 0,
              "ticks": ""
             }
            },
            "type": "scattermapbox"
           }
          ],
          "scatterpolar": [
           {
            "marker": {
             "colorbar": {
              "outlinewidth": 0,
              "ticks": ""
             }
            },
            "type": "scatterpolar"
           }
          ],
          "scatterpolargl": [
           {
            "marker": {
             "colorbar": {
              "outlinewidth": 0,
              "ticks": ""
             }
            },
            "type": "scatterpolargl"
           }
          ],
          "scatterternary": [
           {
            "marker": {
             "colorbar": {
              "outlinewidth": 0,
              "ticks": ""
             }
            },
            "type": "scatterternary"
           }
          ],
          "surface": [
           {
            "colorbar": {
             "outlinewidth": 0,
             "ticks": ""
            },
            "colorscale": [
             [
              0,
              "#0d0887"
             ],
             [
              0.1111111111111111,
              "#46039f"
             ],
             [
              0.2222222222222222,
              "#7201a8"
             ],
             [
              0.3333333333333333,
              "#9c179e"
             ],
             [
              0.4444444444444444,
              "#bd3786"
             ],
             [
              0.5555555555555556,
              "#d8576b"
             ],
             [
              0.6666666666666666,
              "#ed7953"
             ],
             [
              0.7777777777777778,
              "#fb9f3a"
             ],
             [
              0.8888888888888888,
              "#fdca26"
             ],
             [
              1,
              "#f0f921"
             ]
            ],
            "type": "surface"
           }
          ],
          "table": [
           {
            "cells": {
             "fill": {
              "color": "#EBF0F8"
             },
             "line": {
              "color": "white"
             }
            },
            "header": {
             "fill": {
              "color": "#C8D4E3"
             },
             "line": {
              "color": "white"
             }
            },
            "type": "table"
           }
          ]
         },
         "layout": {
          "annotationdefaults": {
           "arrowcolor": "#2a3f5f",
           "arrowhead": 0,
           "arrowwidth": 1
          },
          "autotypenumbers": "strict",
          "coloraxis": {
           "colorbar": {
            "outlinewidth": 0,
            "ticks": ""
           }
          },
          "colorscale": {
           "diverging": [
            [
             0,
             "#8e0152"
            ],
            [
             0.1,
             "#c51b7d"
            ],
            [
             0.2,
             "#de77ae"
            ],
            [
             0.3,
             "#f1b6da"
            ],
            [
             0.4,
             "#fde0ef"
            ],
            [
             0.5,
             "#f7f7f7"
            ],
            [
             0.6,
             "#e6f5d0"
            ],
            [
             0.7,
             "#b8e186"
            ],
            [
             0.8,
             "#7fbc41"
            ],
            [
             0.9,
             "#4d9221"
            ],
            [
             1,
             "#276419"
            ]
           ],
           "sequential": [
            [
             0,
             "#0d0887"
            ],
            [
             0.1111111111111111,
             "#46039f"
            ],
            [
             0.2222222222222222,
             "#7201a8"
            ],
            [
             0.3333333333333333,
             "#9c179e"
            ],
            [
             0.4444444444444444,
             "#bd3786"
            ],
            [
             0.5555555555555556,
             "#d8576b"
            ],
            [
             0.6666666666666666,
             "#ed7953"
            ],
            [
             0.7777777777777778,
             "#fb9f3a"
            ],
            [
             0.8888888888888888,
             "#fdca26"
            ],
            [
             1,
             "#f0f921"
            ]
           ],
           "sequentialminus": [
            [
             0,
             "#0d0887"
            ],
            [
             0.1111111111111111,
             "#46039f"
            ],
            [
             0.2222222222222222,
             "#7201a8"
            ],
            [
             0.3333333333333333,
             "#9c179e"
            ],
            [
             0.4444444444444444,
             "#bd3786"
            ],
            [
             0.5555555555555556,
             "#d8576b"
            ],
            [
             0.6666666666666666,
             "#ed7953"
            ],
            [
             0.7777777777777778,
             "#fb9f3a"
            ],
            [
             0.8888888888888888,
             "#fdca26"
            ],
            [
             1,
             "#f0f921"
            ]
           ]
          },
          "colorway": [
           "#636efa",
           "#EF553B",
           "#00cc96",
           "#ab63fa",
           "#FFA15A",
           "#19d3f3",
           "#FF6692",
           "#B6E880",
           "#FF97FF",
           "#FECB52"
          ],
          "font": {
           "color": "#2a3f5f"
          },
          "geo": {
           "bgcolor": "white",
           "lakecolor": "white",
           "landcolor": "#E5ECF6",
           "showlakes": true,
           "showland": true,
           "subunitcolor": "white"
          },
          "hoverlabel": {
           "align": "left"
          },
          "hovermode": "closest",
          "mapbox": {
           "style": "light"
          },
          "paper_bgcolor": "white",
          "plot_bgcolor": "#E5ECF6",
          "polar": {
           "angularaxis": {
            "gridcolor": "white",
            "linecolor": "white",
            "ticks": ""
           },
           "bgcolor": "#E5ECF6",
           "radialaxis": {
            "gridcolor": "white",
            "linecolor": "white",
            "ticks": ""
           }
          },
          "scene": {
           "xaxis": {
            "backgroundcolor": "#E5ECF6",
            "gridcolor": "white",
            "gridwidth": 2,
            "linecolor": "white",
            "showbackground": true,
            "ticks": "",
            "zerolinecolor": "white"
           },
           "yaxis": {
            "backgroundcolor": "#E5ECF6",
            "gridcolor": "white",
            "gridwidth": 2,
            "linecolor": "white",
            "showbackground": true,
            "ticks": "",
            "zerolinecolor": "white"
           },
           "zaxis": {
            "backgroundcolor": "#E5ECF6",
            "gridcolor": "white",
            "gridwidth": 2,
            "linecolor": "white",
            "showbackground": true,
            "ticks": "",
            "zerolinecolor": "white"
           }
          },
          "shapedefaults": {
           "line": {
            "color": "#2a3f5f"
           }
          },
          "ternary": {
           "aaxis": {
            "gridcolor": "white",
            "linecolor": "white",
            "ticks": ""
           },
           "baxis": {
            "gridcolor": "white",
            "linecolor": "white",
            "ticks": ""
           },
           "bgcolor": "#E5ECF6",
           "caxis": {
            "gridcolor": "white",
            "linecolor": "white",
            "ticks": ""
           }
          },
          "title": {
           "x": 0.05
          },
          "xaxis": {
           "automargin": true,
           "gridcolor": "white",
           "linecolor": "white",
           "ticks": "",
           "title": {
            "standoff": 15
           },
           "zerolinecolor": "white",
           "zerolinewidth": 2
          },
          "yaxis": {
           "automargin": true,
           "gridcolor": "white",
           "linecolor": "white",
           "ticks": "",
           "title": {
            "standoff": 15
           },
           "zerolinecolor": "white",
           "zerolinewidth": 2
          }
         }
        },
        "title": {
         "text": "Improvement of direct loohahead policy vs deterministic policy"
        },
        "xaxis": {
         "anchor": "y",
         "domain": [
          0,
          1
         ],
         "dtick": 1,
         "title": {
          "text": "House"
         }
        },
        "yaxis": {
         "anchor": "x",
         "domain": [
          0,
          1
         ],
         "title": {
          "text": "Improvement (%)"
         }
        }
       }
      }
     },
     "metadata": {},
     "output_type": "display_data"
    }
   ],
   "source": [
    "fig = px.bar(gaps[gaps.policy==\"gap_deterministic\"], x=\"instance\", y=\"value\", text_auto='.2s')\n",
    "fig.update_layout(title_text=\"Improvement of direct loohahead policy vs deterministic policy\", yaxis=dict(title=\"Improvement (%)\"), xaxis=dict(title='House', dtick= 1))\n",
    "fig.show()\n",
    "fig.write_image(\"../Soportes documento/Graficas ppt/gap_deterministic.png\", scale=2, height=800*0.7, width=1500*0.7)"
   ]
  },
  {
   "cell_type": "code",
   "execution_count": 12,
   "metadata": {},
   "outputs": [],
   "source": [
    "instances = pd.read_csv('Data/instances/instances.csv', index_col=0).to_numpy().reshape(14)\n",
    "instance_dict = {val: idx for idx, val in enumerate(instances)}\n",
    "\n",
    "for i in instances:\n",
    "    found_result = True\n",
    "    try:\n",
    "        df = pd.read_csv(\"Results/Lookahead/{i}/errors.csv\".format(i=i), index_col=0)\n",
    "    except:\n",
    "        found_result = False\n",
    "    \n",
    "    if found_result:\n",
    "        try:\n",
    "            df_errors = pd.concat([df_errors, df], ignore_index=True)\n",
    "        except:\n",
    "            df_errors = df.copy()\n",
    "\n",
    "df_errors['instance'] = df_errors['instance'].map(instance_dict)"
   ]
  },
  {
   "cell_type": "code",
   "execution_count": 13,
   "metadata": {},
   "outputs": [
    {
     "name": "stderr",
     "output_type": "stream",
     "text": [
      "/var/folders/zj/tfzbsc3d4pjfr_d6pw0fdtgr0000gn/T/ipykernel_8433/110866903.py:1: FutureWarning:\n",
      "\n",
      "The default value of numeric_only in DataFrameGroupBy.mean is deprecated. In a future version, numeric_only will default to False. Either specify numeric_only or select only columns which should be valid for the function.\n",
      "\n"
     ]
    }
   ],
   "source": [
    "df_errors = df_errors.groupby(['instance']).mean()\n",
    "gaps = gaps.merge(df_errors, how=\"left\", left_on=\"instance\", right_index=True)"
   ]
  },
  {
   "cell_type": "code",
   "execution_count": 32,
   "metadata": {},
   "outputs": [
    {
     "data": {
      "application/vnd.plotly.v1+json": {
       "config": {
        "plotlyServerURL": "https://plot.ly"
       },
       "data": [
        {
         "customdata": [
          [
           0
          ],
          [
           1
          ],
          [
           2
          ],
          [
           3
          ],
          [
           4
          ],
          [
           5
          ],
          [
           6
          ],
          [
           7
          ],
          [
           8
          ],
          [
           9
          ],
          [
           10
          ],
          [
           11
          ],
          [
           12
          ]
         ],
         "hovertemplate": "g_rmse=%{x}<br>l_mse=%{y}<br>instance=%{customdata[0]}<br>value2=%{marker.color}<extra></extra>",
         "legendgroup": "",
         "marker": {
          "color": [
           4.3367435292254255,
           3.5542750033439403,
           3.374511401974219,
           3.2232585660297306,
           3.870234568925926,
           3.7952778237400393,
           3.9763756710597162,
           4.2978294318519685,
           4.621502863027249,
           6.269627760166154,
           3.019521363962719,
           3.4833979608113,
           3.8248366708560693
          ],
          "coloraxis": "coloraxis",
          "symbol": "circle"
         },
         "mode": "markers+text",
         "name": "",
         "orientation": "v",
         "showlegend": false,
         "text": [
          0,
          1,
          2,
          3,
          4,
          5,
          6,
          7,
          8,
          9,
          10,
          11,
          12
         ],
         "textposition": "top center",
         "type": "scatter",
         "x": [
          0.0639447970346721,
          0.07556703839177649,
          0.19155815237160279,
          0.3800128297651561,
          0.0895130848146455,
          0.10210400199687547,
          0.053156559160558225,
          0.1120384668509827,
          0.04983143849567709,
          0.06690209855099331,
          0.20974705913649963,
          0.09823828858891917,
          0.15361762917945765
         ],
         "xaxis": "x",
         "y": [
          0.12157725062717223,
          0.05151669168401789,
          0.05615649143015301,
          0.32871936045284395,
          0.08570354461301079,
          0.059411465239585,
          0.054707560617463624,
          0.05709968998279059,
          0.10502840313125356,
          0.11371127784682007,
          0.05867358750790281,
          0.03527230236205182,
          0.10809559350123146
         ],
         "yaxis": "y"
        }
       ],
       "layout": {
        "coloraxis": {
         "colorbar": {
          "title": {
           "text": "value2"
          }
         },
         "colorscale": [
          [
           0,
           "#0d0887"
          ],
          [
           0.1111111111111111,
           "#46039f"
          ],
          [
           0.2222222222222222,
           "#7201a8"
          ],
          [
           0.3333333333333333,
           "#9c179e"
          ],
          [
           0.4444444444444444,
           "#bd3786"
          ],
          [
           0.5555555555555556,
           "#d8576b"
          ],
          [
           0.6666666666666666,
           "#ed7953"
          ],
          [
           0.7777777777777778,
           "#fb9f3a"
          ],
          [
           0.8888888888888888,
           "#fdca26"
          ],
          [
           1,
           "#f0f921"
          ]
         ]
        },
        "height": 500,
        "legend": {
         "tracegroupgap": 0
        },
        "margin": {
         "t": 60
        },
        "template": {
         "data": {
          "bar": [
           {
            "error_x": {
             "color": "#2a3f5f"
            },
            "error_y": {
             "color": "#2a3f5f"
            },
            "marker": {
             "line": {
              "color": "#E5ECF6",
              "width": 0.5
             },
             "pattern": {
              "fillmode": "overlay",
              "size": 10,
              "solidity": 0.2
             }
            },
            "type": "bar"
           }
          ],
          "barpolar": [
           {
            "marker": {
             "line": {
              "color": "#E5ECF6",
              "width": 0.5
             },
             "pattern": {
              "fillmode": "overlay",
              "size": 10,
              "solidity": 0.2
             }
            },
            "type": "barpolar"
           }
          ],
          "carpet": [
           {
            "aaxis": {
             "endlinecolor": "#2a3f5f",
             "gridcolor": "white",
             "linecolor": "white",
             "minorgridcolor": "white",
             "startlinecolor": "#2a3f5f"
            },
            "baxis": {
             "endlinecolor": "#2a3f5f",
             "gridcolor": "white",
             "linecolor": "white",
             "minorgridcolor": "white",
             "startlinecolor": "#2a3f5f"
            },
            "type": "carpet"
           }
          ],
          "choropleth": [
           {
            "colorbar": {
             "outlinewidth": 0,
             "ticks": ""
            },
            "type": "choropleth"
           }
          ],
          "contour": [
           {
            "colorbar": {
             "outlinewidth": 0,
             "ticks": ""
            },
            "colorscale": [
             [
              0,
              "#0d0887"
             ],
             [
              0.1111111111111111,
              "#46039f"
             ],
             [
              0.2222222222222222,
              "#7201a8"
             ],
             [
              0.3333333333333333,
              "#9c179e"
             ],
             [
              0.4444444444444444,
              "#bd3786"
             ],
             [
              0.5555555555555556,
              "#d8576b"
             ],
             [
              0.6666666666666666,
              "#ed7953"
             ],
             [
              0.7777777777777778,
              "#fb9f3a"
             ],
             [
              0.8888888888888888,
              "#fdca26"
             ],
             [
              1,
              "#f0f921"
             ]
            ],
            "type": "contour"
           }
          ],
          "contourcarpet": [
           {
            "colorbar": {
             "outlinewidth": 0,
             "ticks": ""
            },
            "type": "contourcarpet"
           }
          ],
          "heatmap": [
           {
            "colorbar": {
             "outlinewidth": 0,
             "ticks": ""
            },
            "colorscale": [
             [
              0,
              "#0d0887"
             ],
             [
              0.1111111111111111,
              "#46039f"
             ],
             [
              0.2222222222222222,
              "#7201a8"
             ],
             [
              0.3333333333333333,
              "#9c179e"
             ],
             [
              0.4444444444444444,
              "#bd3786"
             ],
             [
              0.5555555555555556,
              "#d8576b"
             ],
             [
              0.6666666666666666,
              "#ed7953"
             ],
             [
              0.7777777777777778,
              "#fb9f3a"
             ],
             [
              0.8888888888888888,
              "#fdca26"
             ],
             [
              1,
              "#f0f921"
             ]
            ],
            "type": "heatmap"
           }
          ],
          "heatmapgl": [
           {
            "colorbar": {
             "outlinewidth": 0,
             "ticks": ""
            },
            "colorscale": [
             [
              0,
              "#0d0887"
             ],
             [
              0.1111111111111111,
              "#46039f"
             ],
             [
              0.2222222222222222,
              "#7201a8"
             ],
             [
              0.3333333333333333,
              "#9c179e"
             ],
             [
              0.4444444444444444,
              "#bd3786"
             ],
             [
              0.5555555555555556,
              "#d8576b"
             ],
             [
              0.6666666666666666,
              "#ed7953"
             ],
             [
              0.7777777777777778,
              "#fb9f3a"
             ],
             [
              0.8888888888888888,
              "#fdca26"
             ],
             [
              1,
              "#f0f921"
             ]
            ],
            "type": "heatmapgl"
           }
          ],
          "histogram": [
           {
            "marker": {
             "pattern": {
              "fillmode": "overlay",
              "size": 10,
              "solidity": 0.2
             }
            },
            "type": "histogram"
           }
          ],
          "histogram2d": [
           {
            "colorbar": {
             "outlinewidth": 0,
             "ticks": ""
            },
            "colorscale": [
             [
              0,
              "#0d0887"
             ],
             [
              0.1111111111111111,
              "#46039f"
             ],
             [
              0.2222222222222222,
              "#7201a8"
             ],
             [
              0.3333333333333333,
              "#9c179e"
             ],
             [
              0.4444444444444444,
              "#bd3786"
             ],
             [
              0.5555555555555556,
              "#d8576b"
             ],
             [
              0.6666666666666666,
              "#ed7953"
             ],
             [
              0.7777777777777778,
              "#fb9f3a"
             ],
             [
              0.8888888888888888,
              "#fdca26"
             ],
             [
              1,
              "#f0f921"
             ]
            ],
            "type": "histogram2d"
           }
          ],
          "histogram2dcontour": [
           {
            "colorbar": {
             "outlinewidth": 0,
             "ticks": ""
            },
            "colorscale": [
             [
              0,
              "#0d0887"
             ],
             [
              0.1111111111111111,
              "#46039f"
             ],
             [
              0.2222222222222222,
              "#7201a8"
             ],
             [
              0.3333333333333333,
              "#9c179e"
             ],
             [
              0.4444444444444444,
              "#bd3786"
             ],
             [
              0.5555555555555556,
              "#d8576b"
             ],
             [
              0.6666666666666666,
              "#ed7953"
             ],
             [
              0.7777777777777778,
              "#fb9f3a"
             ],
             [
              0.8888888888888888,
              "#fdca26"
             ],
             [
              1,
              "#f0f921"
             ]
            ],
            "type": "histogram2dcontour"
           }
          ],
          "mesh3d": [
           {
            "colorbar": {
             "outlinewidth": 0,
             "ticks": ""
            },
            "type": "mesh3d"
           }
          ],
          "parcoords": [
           {
            "line": {
             "colorbar": {
              "outlinewidth": 0,
              "ticks": ""
             }
            },
            "type": "parcoords"
           }
          ],
          "pie": [
           {
            "automargin": true,
            "type": "pie"
           }
          ],
          "scatter": [
           {
            "fillpattern": {
             "fillmode": "overlay",
             "size": 10,
             "solidity": 0.2
            },
            "type": "scatter"
           }
          ],
          "scatter3d": [
           {
            "line": {
             "colorbar": {
              "outlinewidth": 0,
              "ticks": ""
             }
            },
            "marker": {
             "colorbar": {
              "outlinewidth": 0,
              "ticks": ""
             }
            },
            "type": "scatter3d"
           }
          ],
          "scattercarpet": [
           {
            "marker": {
             "colorbar": {
              "outlinewidth": 0,
              "ticks": ""
             }
            },
            "type": "scattercarpet"
           }
          ],
          "scattergeo": [
           {
            "marker": {
             "colorbar": {
              "outlinewidth": 0,
              "ticks": ""
             }
            },
            "type": "scattergeo"
           }
          ],
          "scattergl": [
           {
            "marker": {
             "colorbar": {
              "outlinewidth": 0,
              "ticks": ""
             }
            },
            "type": "scattergl"
           }
          ],
          "scattermapbox": [
           {
            "marker": {
             "colorbar": {
              "outlinewidth": 0,
              "ticks": ""
             }
            },
            "type": "scattermapbox"
           }
          ],
          "scatterpolar": [
           {
            "marker": {
             "colorbar": {
              "outlinewidth": 0,
              "ticks": ""
             }
            },
            "type": "scatterpolar"
           }
          ],
          "scatterpolargl": [
           {
            "marker": {
             "colorbar": {
              "outlinewidth": 0,
              "ticks": ""
             }
            },
            "type": "scatterpolargl"
           }
          ],
          "scatterternary": [
           {
            "marker": {
             "colorbar": {
              "outlinewidth": 0,
              "ticks": ""
             }
            },
            "type": "scatterternary"
           }
          ],
          "surface": [
           {
            "colorbar": {
             "outlinewidth": 0,
             "ticks": ""
            },
            "colorscale": [
             [
              0,
              "#0d0887"
             ],
             [
              0.1111111111111111,
              "#46039f"
             ],
             [
              0.2222222222222222,
              "#7201a8"
             ],
             [
              0.3333333333333333,
              "#9c179e"
             ],
             [
              0.4444444444444444,
              "#bd3786"
             ],
             [
              0.5555555555555556,
              "#d8576b"
             ],
             [
              0.6666666666666666,
              "#ed7953"
             ],
             [
              0.7777777777777778,
              "#fb9f3a"
             ],
             [
              0.8888888888888888,
              "#fdca26"
             ],
             [
              1,
              "#f0f921"
             ]
            ],
            "type": "surface"
           }
          ],
          "table": [
           {
            "cells": {
             "fill": {
              "color": "#EBF0F8"
             },
             "line": {
              "color": "white"
             }
            },
            "header": {
             "fill": {
              "color": "#C8D4E3"
             },
             "line": {
              "color": "white"
             }
            },
            "type": "table"
           }
          ]
         },
         "layout": {
          "annotationdefaults": {
           "arrowcolor": "#2a3f5f",
           "arrowhead": 0,
           "arrowwidth": 1
          },
          "autotypenumbers": "strict",
          "coloraxis": {
           "colorbar": {
            "outlinewidth": 0,
            "ticks": ""
           }
          },
          "colorscale": {
           "diverging": [
            [
             0,
             "#8e0152"
            ],
            [
             0.1,
             "#c51b7d"
            ],
            [
             0.2,
             "#de77ae"
            ],
            [
             0.3,
             "#f1b6da"
            ],
            [
             0.4,
             "#fde0ef"
            ],
            [
             0.5,
             "#f7f7f7"
            ],
            [
             0.6,
             "#e6f5d0"
            ],
            [
             0.7,
             "#b8e186"
            ],
            [
             0.8,
             "#7fbc41"
            ],
            [
             0.9,
             "#4d9221"
            ],
            [
             1,
             "#276419"
            ]
           ],
           "sequential": [
            [
             0,
             "#0d0887"
            ],
            [
             0.1111111111111111,
             "#46039f"
            ],
            [
             0.2222222222222222,
             "#7201a8"
            ],
            [
             0.3333333333333333,
             "#9c179e"
            ],
            [
             0.4444444444444444,
             "#bd3786"
            ],
            [
             0.5555555555555556,
             "#d8576b"
            ],
            [
             0.6666666666666666,
             "#ed7953"
            ],
            [
             0.7777777777777778,
             "#fb9f3a"
            ],
            [
             0.8888888888888888,
             "#fdca26"
            ],
            [
             1,
             "#f0f921"
            ]
           ],
           "sequentialminus": [
            [
             0,
             "#0d0887"
            ],
            [
             0.1111111111111111,
             "#46039f"
            ],
            [
             0.2222222222222222,
             "#7201a8"
            ],
            [
             0.3333333333333333,
             "#9c179e"
            ],
            [
             0.4444444444444444,
             "#bd3786"
            ],
            [
             0.5555555555555556,
             "#d8576b"
            ],
            [
             0.6666666666666666,
             "#ed7953"
            ],
            [
             0.7777777777777778,
             "#fb9f3a"
            ],
            [
             0.8888888888888888,
             "#fdca26"
            ],
            [
             1,
             "#f0f921"
            ]
           ]
          },
          "colorway": [
           "#636efa",
           "#EF553B",
           "#00cc96",
           "#ab63fa",
           "#FFA15A",
           "#19d3f3",
           "#FF6692",
           "#B6E880",
           "#FF97FF",
           "#FECB52"
          ],
          "font": {
           "color": "#2a3f5f"
          },
          "geo": {
           "bgcolor": "white",
           "lakecolor": "white",
           "landcolor": "#E5ECF6",
           "showlakes": true,
           "showland": true,
           "subunitcolor": "white"
          },
          "hoverlabel": {
           "align": "left"
          },
          "hovermode": "closest",
          "mapbox": {
           "style": "light"
          },
          "paper_bgcolor": "white",
          "plot_bgcolor": "#E5ECF6",
          "polar": {
           "angularaxis": {
            "gridcolor": "white",
            "linecolor": "white",
            "ticks": ""
           },
           "bgcolor": "#E5ECF6",
           "radialaxis": {
            "gridcolor": "white",
            "linecolor": "white",
            "ticks": ""
           }
          },
          "scene": {
           "xaxis": {
            "backgroundcolor": "#E5ECF6",
            "gridcolor": "white",
            "gridwidth": 2,
            "linecolor": "white",
            "showbackground": true,
            "ticks": "",
            "zerolinecolor": "white"
           },
           "yaxis": {
            "backgroundcolor": "#E5ECF6",
            "gridcolor": "white",
            "gridwidth": 2,
            "linecolor": "white",
            "showbackground": true,
            "ticks": "",
            "zerolinecolor": "white"
           },
           "zaxis": {
            "backgroundcolor": "#E5ECF6",
            "gridcolor": "white",
            "gridwidth": 2,
            "linecolor": "white",
            "showbackground": true,
            "ticks": "",
            "zerolinecolor": "white"
           }
          },
          "shapedefaults": {
           "line": {
            "color": "#2a3f5f"
           }
          },
          "ternary": {
           "aaxis": {
            "gridcolor": "white",
            "linecolor": "white",
            "ticks": ""
           },
           "baxis": {
            "gridcolor": "white",
            "linecolor": "white",
            "ticks": ""
           },
           "bgcolor": "#E5ECF6",
           "caxis": {
            "gridcolor": "white",
            "linecolor": "white",
            "ticks": ""
           }
          },
          "title": {
           "x": 0.05
          },
          "xaxis": {
           "automargin": true,
           "gridcolor": "white",
           "linecolor": "white",
           "ticks": "",
           "title": {
            "standoff": 15
           },
           "zerolinecolor": "white",
           "zerolinewidth": 2
          },
          "yaxis": {
           "automargin": true,
           "gridcolor": "white",
           "linecolor": "white",
           "ticks": "",
           "title": {
            "standoff": 15
           },
           "zerolinecolor": "white",
           "zerolinewidth": 2
          }
         }
        },
        "title": {
         "text": "Weighted objective for each policy"
        },
        "width": 600,
        "xaxis": {
         "anchor": "y",
         "domain": [
          0,
          1
         ],
         "title": {
          "text": "PV energy MSE"
         }
        },
        "yaxis": {
         "anchor": "x",
         "domain": [
          0,
          1
         ],
         "title": {
          "text": "Non-shiftable energy demand MSE"
         }
        }
       }
      }
     },
     "metadata": {},
     "output_type": "display_data"
    }
   ],
   "source": [
    "data = gaps[gaps['policy']=='gap_deterministic'].copy()\n",
    "data['value2'] = np.log(data['value'])\n",
    "#data['instance'] = data['instance'].astype(str)\n",
    "fig = px.scatter(data, x=\"g_rmse\", y=\"l_mse\", color=\"value2\", text='instance', hover_data='instance')\n",
    "fig.update_layout(title_text=\"Improvement over deterministic policy vs forecasting error\", yaxis=dict(title=\"Non-shiftable energy demand MSE\"), xaxis=dict(title=\"PV energy MSE\"))\n",
    "fig.update_traces(textposition='top center')\n",
    "#fig.write_image(\"../Soportes documento/Graficas ppt/improvement_vs_forecast.png\", scale=2, height = 500, width=1000)\n",
    "\n",
    "height = 500\n",
    "width = 600\n",
    "fig.update_layout(height=height, width=width, title_text=\"Weighted objective for each policy\", )\n",
    "#fig.write_image(\"../Soportes documento/Graficas documento/improvement_vs_forecast.png\", scale=2, height = height, width=width)\n",
    "fig.show()"
   ]
  },
  {
   "cell_type": "code",
   "execution_count": 33,
   "metadata": {},
   "outputs": [
    {
     "data": {
      "application/vnd.plotly.v1+json": {
       "config": {
        "plotlyServerURL": "https://plot.ly"
       },
       "data": [
        {
         "customdata": [
          [
           0
          ],
          [
           1
          ],
          [
           2
          ],
          [
           3
          ],
          [
           4
          ],
          [
           5
          ],
          [
           6
          ],
          [
           7
          ],
          [
           8
          ],
          [
           10
          ],
          [
           11
          ],
          [
           12
          ]
         ],
         "hovertemplate": "g_rmse=%{x}<br>value=%{y}<br>instance=%{customdata[0]}<extra></extra>",
         "legendgroup": "",
         "marker": {
          "color": "#636efa",
          "symbol": "circle"
         },
         "mode": "markers+text",
         "name": "",
         "orientation": "v",
         "showlegend": false,
         "text": [
          0,
          1,
          2,
          3,
          4,
          5,
          6,
          7,
          8,
          10,
          11,
          12
         ],
         "textposition": "top center",
         "type": "scatter",
         "x": [
          0.0639447970346721,
          0.07556703839177649,
          0.19155815237160279,
          0.3800128297651561,
          0.0895130848146455,
          0.10210400199687547,
          0.053156559160558225,
          0.1120384668509827,
          0.04983143849567709,
          0.20974705913649963,
          0.09823828858891917,
          0.15361762917945765
         ],
         "xaxis": "x",
         "y": [
          76.45814976357144,
          34.96246310814404,
          29.210008341634364,
          25.109808985447085,
          47.95363319388859,
          44.49059523222551,
          53.32342196075005,
          73.53999676268418,
          101.64667843243144,
          20.48148616036819,
          32.570206544064156,
          45.825315145579665
         ],
         "yaxis": "y"
        }
       ],
       "layout": {
        "height": 400,
        "legend": {
         "tracegroupgap": 0
        },
        "margin": {
         "t": 60
        },
        "template": {
         "data": {
          "bar": [
           {
            "error_x": {
             "color": "#2a3f5f"
            },
            "error_y": {
             "color": "#2a3f5f"
            },
            "marker": {
             "line": {
              "color": "#E5ECF6",
              "width": 0.5
             },
             "pattern": {
              "fillmode": "overlay",
              "size": 10,
              "solidity": 0.2
             }
            },
            "type": "bar"
           }
          ],
          "barpolar": [
           {
            "marker": {
             "line": {
              "color": "#E5ECF6",
              "width": 0.5
             },
             "pattern": {
              "fillmode": "overlay",
              "size": 10,
              "solidity": 0.2
             }
            },
            "type": "barpolar"
           }
          ],
          "carpet": [
           {
            "aaxis": {
             "endlinecolor": "#2a3f5f",
             "gridcolor": "white",
             "linecolor": "white",
             "minorgridcolor": "white",
             "startlinecolor": "#2a3f5f"
            },
            "baxis": {
             "endlinecolor": "#2a3f5f",
             "gridcolor": "white",
             "linecolor": "white",
             "minorgridcolor": "white",
             "startlinecolor": "#2a3f5f"
            },
            "type": "carpet"
           }
          ],
          "choropleth": [
           {
            "colorbar": {
             "outlinewidth": 0,
             "ticks": ""
            },
            "type": "choropleth"
           }
          ],
          "contour": [
           {
            "colorbar": {
             "outlinewidth": 0,
             "ticks": ""
            },
            "colorscale": [
             [
              0,
              "#0d0887"
             ],
             [
              0.1111111111111111,
              "#46039f"
             ],
             [
              0.2222222222222222,
              "#7201a8"
             ],
             [
              0.3333333333333333,
              "#9c179e"
             ],
             [
              0.4444444444444444,
              "#bd3786"
             ],
             [
              0.5555555555555556,
              "#d8576b"
             ],
             [
              0.6666666666666666,
              "#ed7953"
             ],
             [
              0.7777777777777778,
              "#fb9f3a"
             ],
             [
              0.8888888888888888,
              "#fdca26"
             ],
             [
              1,
              "#f0f921"
             ]
            ],
            "type": "contour"
           }
          ],
          "contourcarpet": [
           {
            "colorbar": {
             "outlinewidth": 0,
             "ticks": ""
            },
            "type": "contourcarpet"
           }
          ],
          "heatmap": [
           {
            "colorbar": {
             "outlinewidth": 0,
             "ticks": ""
            },
            "colorscale": [
             [
              0,
              "#0d0887"
             ],
             [
              0.1111111111111111,
              "#46039f"
             ],
             [
              0.2222222222222222,
              "#7201a8"
             ],
             [
              0.3333333333333333,
              "#9c179e"
             ],
             [
              0.4444444444444444,
              "#bd3786"
             ],
             [
              0.5555555555555556,
              "#d8576b"
             ],
             [
              0.6666666666666666,
              "#ed7953"
             ],
             [
              0.7777777777777778,
              "#fb9f3a"
             ],
             [
              0.8888888888888888,
              "#fdca26"
             ],
             [
              1,
              "#f0f921"
             ]
            ],
            "type": "heatmap"
           }
          ],
          "heatmapgl": [
           {
            "colorbar": {
             "outlinewidth": 0,
             "ticks": ""
            },
            "colorscale": [
             [
              0,
              "#0d0887"
             ],
             [
              0.1111111111111111,
              "#46039f"
             ],
             [
              0.2222222222222222,
              "#7201a8"
             ],
             [
              0.3333333333333333,
              "#9c179e"
             ],
             [
              0.4444444444444444,
              "#bd3786"
             ],
             [
              0.5555555555555556,
              "#d8576b"
             ],
             [
              0.6666666666666666,
              "#ed7953"
             ],
             [
              0.7777777777777778,
              "#fb9f3a"
             ],
             [
              0.8888888888888888,
              "#fdca26"
             ],
             [
              1,
              "#f0f921"
             ]
            ],
            "type": "heatmapgl"
           }
          ],
          "histogram": [
           {
            "marker": {
             "pattern": {
              "fillmode": "overlay",
              "size": 10,
              "solidity": 0.2
             }
            },
            "type": "histogram"
           }
          ],
          "histogram2d": [
           {
            "colorbar": {
             "outlinewidth": 0,
             "ticks": ""
            },
            "colorscale": [
             [
              0,
              "#0d0887"
             ],
             [
              0.1111111111111111,
              "#46039f"
             ],
             [
              0.2222222222222222,
              "#7201a8"
             ],
             [
              0.3333333333333333,
              "#9c179e"
             ],
             [
              0.4444444444444444,
              "#bd3786"
             ],
             [
              0.5555555555555556,
              "#d8576b"
             ],
             [
              0.6666666666666666,
              "#ed7953"
             ],
             [
              0.7777777777777778,
              "#fb9f3a"
             ],
             [
              0.8888888888888888,
              "#fdca26"
             ],
             [
              1,
              "#f0f921"
             ]
            ],
            "type": "histogram2d"
           }
          ],
          "histogram2dcontour": [
           {
            "colorbar": {
             "outlinewidth": 0,
             "ticks": ""
            },
            "colorscale": [
             [
              0,
              "#0d0887"
             ],
             [
              0.1111111111111111,
              "#46039f"
             ],
             [
              0.2222222222222222,
              "#7201a8"
             ],
             [
              0.3333333333333333,
              "#9c179e"
             ],
             [
              0.4444444444444444,
              "#bd3786"
             ],
             [
              0.5555555555555556,
              "#d8576b"
             ],
             [
              0.6666666666666666,
              "#ed7953"
             ],
             [
              0.7777777777777778,
              "#fb9f3a"
             ],
             [
              0.8888888888888888,
              "#fdca26"
             ],
             [
              1,
              "#f0f921"
             ]
            ],
            "type": "histogram2dcontour"
           }
          ],
          "mesh3d": [
           {
            "colorbar": {
             "outlinewidth": 0,
             "ticks": ""
            },
            "type": "mesh3d"
           }
          ],
          "parcoords": [
           {
            "line": {
             "colorbar": {
              "outlinewidth": 0,
              "ticks": ""
             }
            },
            "type": "parcoords"
           }
          ],
          "pie": [
           {
            "automargin": true,
            "type": "pie"
           }
          ],
          "scatter": [
           {
            "fillpattern": {
             "fillmode": "overlay",
             "size": 10,
             "solidity": 0.2
            },
            "type": "scatter"
           }
          ],
          "scatter3d": [
           {
            "line": {
             "colorbar": {
              "outlinewidth": 0,
              "ticks": ""
             }
            },
            "marker": {
             "colorbar": {
              "outlinewidth": 0,
              "ticks": ""
             }
            },
            "type": "scatter3d"
           }
          ],
          "scattercarpet": [
           {
            "marker": {
             "colorbar": {
              "outlinewidth": 0,
              "ticks": ""
             }
            },
            "type": "scattercarpet"
           }
          ],
          "scattergeo": [
           {
            "marker": {
             "colorbar": {
              "outlinewidth": 0,
              "ticks": ""
             }
            },
            "type": "scattergeo"
           }
          ],
          "scattergl": [
           {
            "marker": {
             "colorbar": {
              "outlinewidth": 0,
              "ticks": ""
             }
            },
            "type": "scattergl"
           }
          ],
          "scattermapbox": [
           {
            "marker": {
             "colorbar": {
              "outlinewidth": 0,
              "ticks": ""
             }
            },
            "type": "scattermapbox"
           }
          ],
          "scatterpolar": [
           {
            "marker": {
             "colorbar": {
              "outlinewidth": 0,
              "ticks": ""
             }
            },
            "type": "scatterpolar"
           }
          ],
          "scatterpolargl": [
           {
            "marker": {
             "colorbar": {
              "outlinewidth": 0,
              "ticks": ""
             }
            },
            "type": "scatterpolargl"
           }
          ],
          "scatterternary": [
           {
            "marker": {
             "colorbar": {
              "outlinewidth": 0,
              "ticks": ""
             }
            },
            "type": "scatterternary"
           }
          ],
          "surface": [
           {
            "colorbar": {
             "outlinewidth": 0,
             "ticks": ""
            },
            "colorscale": [
             [
              0,
              "#0d0887"
             ],
             [
              0.1111111111111111,
              "#46039f"
             ],
             [
              0.2222222222222222,
              "#7201a8"
             ],
             [
              0.3333333333333333,
              "#9c179e"
             ],
             [
              0.4444444444444444,
              "#bd3786"
             ],
             [
              0.5555555555555556,
              "#d8576b"
             ],
             [
              0.6666666666666666,
              "#ed7953"
             ],
             [
              0.7777777777777778,
              "#fb9f3a"
             ],
             [
              0.8888888888888888,
              "#fdca26"
             ],
             [
              1,
              "#f0f921"
             ]
            ],
            "type": "surface"
           }
          ],
          "table": [
           {
            "cells": {
             "fill": {
              "color": "#EBF0F8"
             },
             "line": {
              "color": "white"
             }
            },
            "header": {
             "fill": {
              "color": "#C8D4E3"
             },
             "line": {
              "color": "white"
             }
            },
            "type": "table"
           }
          ]
         },
         "layout": {
          "annotationdefaults": {
           "arrowcolor": "#2a3f5f",
           "arrowhead": 0,
           "arrowwidth": 1
          },
          "autotypenumbers": "strict",
          "coloraxis": {
           "colorbar": {
            "outlinewidth": 0,
            "ticks": ""
           }
          },
          "colorscale": {
           "diverging": [
            [
             0,
             "#8e0152"
            ],
            [
             0.1,
             "#c51b7d"
            ],
            [
             0.2,
             "#de77ae"
            ],
            [
             0.3,
             "#f1b6da"
            ],
            [
             0.4,
             "#fde0ef"
            ],
            [
             0.5,
             "#f7f7f7"
            ],
            [
             0.6,
             "#e6f5d0"
            ],
            [
             0.7,
             "#b8e186"
            ],
            [
             0.8,
             "#7fbc41"
            ],
            [
             0.9,
             "#4d9221"
            ],
            [
             1,
             "#276419"
            ]
           ],
           "sequential": [
            [
             0,
             "#0d0887"
            ],
            [
             0.1111111111111111,
             "#46039f"
            ],
            [
             0.2222222222222222,
             "#7201a8"
            ],
            [
             0.3333333333333333,
             "#9c179e"
            ],
            [
             0.4444444444444444,
             "#bd3786"
            ],
            [
             0.5555555555555556,
             "#d8576b"
            ],
            [
             0.6666666666666666,
             "#ed7953"
            ],
            [
             0.7777777777777778,
             "#fb9f3a"
            ],
            [
             0.8888888888888888,
             "#fdca26"
            ],
            [
             1,
             "#f0f921"
            ]
           ],
           "sequentialminus": [
            [
             0,
             "#0d0887"
            ],
            [
             0.1111111111111111,
             "#46039f"
            ],
            [
             0.2222222222222222,
             "#7201a8"
            ],
            [
             0.3333333333333333,
             "#9c179e"
            ],
            [
             0.4444444444444444,
             "#bd3786"
            ],
            [
             0.5555555555555556,
             "#d8576b"
            ],
            [
             0.6666666666666666,
             "#ed7953"
            ],
            [
             0.7777777777777778,
             "#fb9f3a"
            ],
            [
             0.8888888888888888,
             "#fdca26"
            ],
            [
             1,
             "#f0f921"
            ]
           ]
          },
          "colorway": [
           "#636efa",
           "#EF553B",
           "#00cc96",
           "#ab63fa",
           "#FFA15A",
           "#19d3f3",
           "#FF6692",
           "#B6E880",
           "#FF97FF",
           "#FECB52"
          ],
          "font": {
           "color": "#2a3f5f"
          },
          "geo": {
           "bgcolor": "white",
           "lakecolor": "white",
           "landcolor": "#E5ECF6",
           "showlakes": true,
           "showland": true,
           "subunitcolor": "white"
          },
          "hoverlabel": {
           "align": "left"
          },
          "hovermode": "closest",
          "mapbox": {
           "style": "light"
          },
          "paper_bgcolor": "white",
          "plot_bgcolor": "#E5ECF6",
          "polar": {
           "angularaxis": {
            "gridcolor": "white",
            "linecolor": "white",
            "ticks": ""
           },
           "bgcolor": "#E5ECF6",
           "radialaxis": {
            "gridcolor": "white",
            "linecolor": "white",
            "ticks": ""
           }
          },
          "scene": {
           "xaxis": {
            "backgroundcolor": "#E5ECF6",
            "gridcolor": "white",
            "gridwidth": 2,
            "linecolor": "white",
            "showbackground": true,
            "ticks": "",
            "zerolinecolor": "white"
           },
           "yaxis": {
            "backgroundcolor": "#E5ECF6",
            "gridcolor": "white",
            "gridwidth": 2,
            "linecolor": "white",
            "showbackground": true,
            "ticks": "",
            "zerolinecolor": "white"
           },
           "zaxis": {
            "backgroundcolor": "#E5ECF6",
            "gridcolor": "white",
            "gridwidth": 2,
            "linecolor": "white",
            "showbackground": true,
            "ticks": "",
            "zerolinecolor": "white"
           }
          },
          "shapedefaults": {
           "line": {
            "color": "#2a3f5f"
           }
          },
          "ternary": {
           "aaxis": {
            "gridcolor": "white",
            "linecolor": "white",
            "ticks": ""
           },
           "baxis": {
            "gridcolor": "white",
            "linecolor": "white",
            "ticks": ""
           },
           "bgcolor": "#E5ECF6",
           "caxis": {
            "gridcolor": "white",
            "linecolor": "white",
            "ticks": ""
           }
          },
          "title": {
           "x": 0.05
          },
          "xaxis": {
           "automargin": true,
           "gridcolor": "white",
           "linecolor": "white",
           "ticks": "",
           "title": {
            "standoff": 15
           },
           "zerolinecolor": "white",
           "zerolinewidth": 2
          },
          "yaxis": {
           "automargin": true,
           "gridcolor": "white",
           "linecolor": "white",
           "ticks": "",
           "title": {
            "standoff": 15
           },
           "zerolinecolor": "white",
           "zerolinewidth": 2
          }
         }
        },
        "width": 480,
        "xaxis": {
         "anchor": "y",
         "domain": [
          0,
          1
         ],
         "title": {
          "text": "PV energy MSE"
         }
        },
        "yaxis": {
         "anchor": "x",
         "domain": [
          0,
          1
         ],
         "title": {
          "text": "Improvement over deterministic policy (%)"
         }
        }
       }
      }
     },
     "metadata": {},
     "output_type": "display_data"
    }
   ],
   "source": [
    "fig = px.scatter(data[data['instance']!=9], x=\"g_rmse\", y=\"value\", text='instance', hover_data='instance')\n",
    "fig.update_traces(textposition='top center')\n",
    "height = 500*0.8\n",
    "width = 600*0.8\n",
    "fig.update_layout(height=height, width=width,\n",
    "                  yaxis=dict(title=\"Improvement over deterministic policy (%)\"), xaxis=dict(title=\"PV energy MSE\"))\n",
    "fig.write_image(\"../Soportes documento/Graficas documento/improvement_vs_pvmse.png\", scale=2, height = height, width=width)\n",
    "fig.show()"
   ]
  },
  {
   "cell_type": "code",
   "execution_count": 22,
   "metadata": {},
   "outputs": [
    {
     "data": {
      "application/vnd.plotly.v1+json": {
       "config": {
        "plotlyServerURL": "https://plot.ly"
       },
       "data": [
        {
         "customdata": [
          [
           0
          ],
          [
           1
          ],
          [
           2
          ],
          [
           3
          ],
          [
           4
          ],
          [
           5
          ],
          [
           6
          ],
          [
           7
          ],
          [
           8
          ],
          [
           10
          ],
          [
           11
          ],
          [
           12
          ]
         ],
         "hovertemplate": "l_mse=%{x}<br>value=%{y}<br>instance=%{customdata[0]}<extra></extra>",
         "legendgroup": "",
         "marker": {
          "color": "#636efa",
          "symbol": "circle"
         },
         "mode": "markers+text",
         "name": "",
         "orientation": "v",
         "showlegend": false,
         "text": [
          0,
          1,
          2,
          3,
          4,
          5,
          6,
          7,
          8,
          10,
          11,
          12
         ],
         "textposition": "top center",
         "type": "scatter",
         "x": [
          0.12157725062717223,
          0.05151669168401789,
          0.05615649143015301,
          0.32871936045284395,
          0.08570354461301079,
          0.059411465239585,
          0.054707560617463624,
          0.05709968998279059,
          0.10502840313125356,
          0.05867358750790281,
          0.03527230236205182,
          0.10809559350123146
         ],
         "xaxis": "x",
         "y": [
          76.45814976357144,
          34.96246310814404,
          29.210008341634364,
          25.109808985447085,
          47.95363319388859,
          44.49059523222551,
          53.32342196075005,
          73.53999676268418,
          101.64667843243144,
          20.48148616036819,
          32.570206544064156,
          45.825315145579665
         ],
         "yaxis": "y"
        }
       ],
       "layout": {
        "legend": {
         "tracegroupgap": 0
        },
        "margin": {
         "t": 60
        },
        "template": {
         "data": {
          "bar": [
           {
            "error_x": {
             "color": "#2a3f5f"
            },
            "error_y": {
             "color": "#2a3f5f"
            },
            "marker": {
             "line": {
              "color": "#E5ECF6",
              "width": 0.5
             },
             "pattern": {
              "fillmode": "overlay",
              "size": 10,
              "solidity": 0.2
             }
            },
            "type": "bar"
           }
          ],
          "barpolar": [
           {
            "marker": {
             "line": {
              "color": "#E5ECF6",
              "width": 0.5
             },
             "pattern": {
              "fillmode": "overlay",
              "size": 10,
              "solidity": 0.2
             }
            },
            "type": "barpolar"
           }
          ],
          "carpet": [
           {
            "aaxis": {
             "endlinecolor": "#2a3f5f",
             "gridcolor": "white",
             "linecolor": "white",
             "minorgridcolor": "white",
             "startlinecolor": "#2a3f5f"
            },
            "baxis": {
             "endlinecolor": "#2a3f5f",
             "gridcolor": "white",
             "linecolor": "white",
             "minorgridcolor": "white",
             "startlinecolor": "#2a3f5f"
            },
            "type": "carpet"
           }
          ],
          "choropleth": [
           {
            "colorbar": {
             "outlinewidth": 0,
             "ticks": ""
            },
            "type": "choropleth"
           }
          ],
          "contour": [
           {
            "colorbar": {
             "outlinewidth": 0,
             "ticks": ""
            },
            "colorscale": [
             [
              0,
              "#0d0887"
             ],
             [
              0.1111111111111111,
              "#46039f"
             ],
             [
              0.2222222222222222,
              "#7201a8"
             ],
             [
              0.3333333333333333,
              "#9c179e"
             ],
             [
              0.4444444444444444,
              "#bd3786"
             ],
             [
              0.5555555555555556,
              "#d8576b"
             ],
             [
              0.6666666666666666,
              "#ed7953"
             ],
             [
              0.7777777777777778,
              "#fb9f3a"
             ],
             [
              0.8888888888888888,
              "#fdca26"
             ],
             [
              1,
              "#f0f921"
             ]
            ],
            "type": "contour"
           }
          ],
          "contourcarpet": [
           {
            "colorbar": {
             "outlinewidth": 0,
             "ticks": ""
            },
            "type": "contourcarpet"
           }
          ],
          "heatmap": [
           {
            "colorbar": {
             "outlinewidth": 0,
             "ticks": ""
            },
            "colorscale": [
             [
              0,
              "#0d0887"
             ],
             [
              0.1111111111111111,
              "#46039f"
             ],
             [
              0.2222222222222222,
              "#7201a8"
             ],
             [
              0.3333333333333333,
              "#9c179e"
             ],
             [
              0.4444444444444444,
              "#bd3786"
             ],
             [
              0.5555555555555556,
              "#d8576b"
             ],
             [
              0.6666666666666666,
              "#ed7953"
             ],
             [
              0.7777777777777778,
              "#fb9f3a"
             ],
             [
              0.8888888888888888,
              "#fdca26"
             ],
             [
              1,
              "#f0f921"
             ]
            ],
            "type": "heatmap"
           }
          ],
          "heatmapgl": [
           {
            "colorbar": {
             "outlinewidth": 0,
             "ticks": ""
            },
            "colorscale": [
             [
              0,
              "#0d0887"
             ],
             [
              0.1111111111111111,
              "#46039f"
             ],
             [
              0.2222222222222222,
              "#7201a8"
             ],
             [
              0.3333333333333333,
              "#9c179e"
             ],
             [
              0.4444444444444444,
              "#bd3786"
             ],
             [
              0.5555555555555556,
              "#d8576b"
             ],
             [
              0.6666666666666666,
              "#ed7953"
             ],
             [
              0.7777777777777778,
              "#fb9f3a"
             ],
             [
              0.8888888888888888,
              "#fdca26"
             ],
             [
              1,
              "#f0f921"
             ]
            ],
            "type": "heatmapgl"
           }
          ],
          "histogram": [
           {
            "marker": {
             "pattern": {
              "fillmode": "overlay",
              "size": 10,
              "solidity": 0.2
             }
            },
            "type": "histogram"
           }
          ],
          "histogram2d": [
           {
            "colorbar": {
             "outlinewidth": 0,
             "ticks": ""
            },
            "colorscale": [
             [
              0,
              "#0d0887"
             ],
             [
              0.1111111111111111,
              "#46039f"
             ],
             [
              0.2222222222222222,
              "#7201a8"
             ],
             [
              0.3333333333333333,
              "#9c179e"
             ],
             [
              0.4444444444444444,
              "#bd3786"
             ],
             [
              0.5555555555555556,
              "#d8576b"
             ],
             [
              0.6666666666666666,
              "#ed7953"
             ],
             [
              0.7777777777777778,
              "#fb9f3a"
             ],
             [
              0.8888888888888888,
              "#fdca26"
             ],
             [
              1,
              "#f0f921"
             ]
            ],
            "type": "histogram2d"
           }
          ],
          "histogram2dcontour": [
           {
            "colorbar": {
             "outlinewidth": 0,
             "ticks": ""
            },
            "colorscale": [
             [
              0,
              "#0d0887"
             ],
             [
              0.1111111111111111,
              "#46039f"
             ],
             [
              0.2222222222222222,
              "#7201a8"
             ],
             [
              0.3333333333333333,
              "#9c179e"
             ],
             [
              0.4444444444444444,
              "#bd3786"
             ],
             [
              0.5555555555555556,
              "#d8576b"
             ],
             [
              0.6666666666666666,
              "#ed7953"
             ],
             [
              0.7777777777777778,
              "#fb9f3a"
             ],
             [
              0.8888888888888888,
              "#fdca26"
             ],
             [
              1,
              "#f0f921"
             ]
            ],
            "type": "histogram2dcontour"
           }
          ],
          "mesh3d": [
           {
            "colorbar": {
             "outlinewidth": 0,
             "ticks": ""
            },
            "type": "mesh3d"
           }
          ],
          "parcoords": [
           {
            "line": {
             "colorbar": {
              "outlinewidth": 0,
              "ticks": ""
             }
            },
            "type": "parcoords"
           }
          ],
          "pie": [
           {
            "automargin": true,
            "type": "pie"
           }
          ],
          "scatter": [
           {
            "fillpattern": {
             "fillmode": "overlay",
             "size": 10,
             "solidity": 0.2
            },
            "type": "scatter"
           }
          ],
          "scatter3d": [
           {
            "line": {
             "colorbar": {
              "outlinewidth": 0,
              "ticks": ""
             }
            },
            "marker": {
             "colorbar": {
              "outlinewidth": 0,
              "ticks": ""
             }
            },
            "type": "scatter3d"
           }
          ],
          "scattercarpet": [
           {
            "marker": {
             "colorbar": {
              "outlinewidth": 0,
              "ticks": ""
             }
            },
            "type": "scattercarpet"
           }
          ],
          "scattergeo": [
           {
            "marker": {
             "colorbar": {
              "outlinewidth": 0,
              "ticks": ""
             }
            },
            "type": "scattergeo"
           }
          ],
          "scattergl": [
           {
            "marker": {
             "colorbar": {
              "outlinewidth": 0,
              "ticks": ""
             }
            },
            "type": "scattergl"
           }
          ],
          "scattermapbox": [
           {
            "marker": {
             "colorbar": {
              "outlinewidth": 0,
              "ticks": ""
             }
            },
            "type": "scattermapbox"
           }
          ],
          "scatterpolar": [
           {
            "marker": {
             "colorbar": {
              "outlinewidth": 0,
              "ticks": ""
             }
            },
            "type": "scatterpolar"
           }
          ],
          "scatterpolargl": [
           {
            "marker": {
             "colorbar": {
              "outlinewidth": 0,
              "ticks": ""
             }
            },
            "type": "scatterpolargl"
           }
          ],
          "scatterternary": [
           {
            "marker": {
             "colorbar": {
              "outlinewidth": 0,
              "ticks": ""
             }
            },
            "type": "scatterternary"
           }
          ],
          "surface": [
           {
            "colorbar": {
             "outlinewidth": 0,
             "ticks": ""
            },
            "colorscale": [
             [
              0,
              "#0d0887"
             ],
             [
              0.1111111111111111,
              "#46039f"
             ],
             [
              0.2222222222222222,
              "#7201a8"
             ],
             [
              0.3333333333333333,
              "#9c179e"
             ],
             [
              0.4444444444444444,
              "#bd3786"
             ],
             [
              0.5555555555555556,
              "#d8576b"
             ],
             [
              0.6666666666666666,
              "#ed7953"
             ],
             [
              0.7777777777777778,
              "#fb9f3a"
             ],
             [
              0.8888888888888888,
              "#fdca26"
             ],
             [
              1,
              "#f0f921"
             ]
            ],
            "type": "surface"
           }
          ],
          "table": [
           {
            "cells": {
             "fill": {
              "color": "#EBF0F8"
             },
             "line": {
              "color": "white"
             }
            },
            "header": {
             "fill": {
              "color": "#C8D4E3"
             },
             "line": {
              "color": "white"
             }
            },
            "type": "table"
           }
          ]
         },
         "layout": {
          "annotationdefaults": {
           "arrowcolor": "#2a3f5f",
           "arrowhead": 0,
           "arrowwidth": 1
          },
          "autotypenumbers": "strict",
          "coloraxis": {
           "colorbar": {
            "outlinewidth": 0,
            "ticks": ""
           }
          },
          "colorscale": {
           "diverging": [
            [
             0,
             "#8e0152"
            ],
            [
             0.1,
             "#c51b7d"
            ],
            [
             0.2,
             "#de77ae"
            ],
            [
             0.3,
             "#f1b6da"
            ],
            [
             0.4,
             "#fde0ef"
            ],
            [
             0.5,
             "#f7f7f7"
            ],
            [
             0.6,
             "#e6f5d0"
            ],
            [
             0.7,
             "#b8e186"
            ],
            [
             0.8,
             "#7fbc41"
            ],
            [
             0.9,
             "#4d9221"
            ],
            [
             1,
             "#276419"
            ]
           ],
           "sequential": [
            [
             0,
             "#0d0887"
            ],
            [
             0.1111111111111111,
             "#46039f"
            ],
            [
             0.2222222222222222,
             "#7201a8"
            ],
            [
             0.3333333333333333,
             "#9c179e"
            ],
            [
             0.4444444444444444,
             "#bd3786"
            ],
            [
             0.5555555555555556,
             "#d8576b"
            ],
            [
             0.6666666666666666,
             "#ed7953"
            ],
            [
             0.7777777777777778,
             "#fb9f3a"
            ],
            [
             0.8888888888888888,
             "#fdca26"
            ],
            [
             1,
             "#f0f921"
            ]
           ],
           "sequentialminus": [
            [
             0,
             "#0d0887"
            ],
            [
             0.1111111111111111,
             "#46039f"
            ],
            [
             0.2222222222222222,
             "#7201a8"
            ],
            [
             0.3333333333333333,
             "#9c179e"
            ],
            [
             0.4444444444444444,
             "#bd3786"
            ],
            [
             0.5555555555555556,
             "#d8576b"
            ],
            [
             0.6666666666666666,
             "#ed7953"
            ],
            [
             0.7777777777777778,
             "#fb9f3a"
            ],
            [
             0.8888888888888888,
             "#fdca26"
            ],
            [
             1,
             "#f0f921"
            ]
           ]
          },
          "colorway": [
           "#636efa",
           "#EF553B",
           "#00cc96",
           "#ab63fa",
           "#FFA15A",
           "#19d3f3",
           "#FF6692",
           "#B6E880",
           "#FF97FF",
           "#FECB52"
          ],
          "font": {
           "color": "#2a3f5f"
          },
          "geo": {
           "bgcolor": "white",
           "lakecolor": "white",
           "landcolor": "#E5ECF6",
           "showlakes": true,
           "showland": true,
           "subunitcolor": "white"
          },
          "hoverlabel": {
           "align": "left"
          },
          "hovermode": "closest",
          "mapbox": {
           "style": "light"
          },
          "paper_bgcolor": "white",
          "plot_bgcolor": "#E5ECF6",
          "polar": {
           "angularaxis": {
            "gridcolor": "white",
            "linecolor": "white",
            "ticks": ""
           },
           "bgcolor": "#E5ECF6",
           "radialaxis": {
            "gridcolor": "white",
            "linecolor": "white",
            "ticks": ""
           }
          },
          "scene": {
           "xaxis": {
            "backgroundcolor": "#E5ECF6",
            "gridcolor": "white",
            "gridwidth": 2,
            "linecolor": "white",
            "showbackground": true,
            "ticks": "",
            "zerolinecolor": "white"
           },
           "yaxis": {
            "backgroundcolor": "#E5ECF6",
            "gridcolor": "white",
            "gridwidth": 2,
            "linecolor": "white",
            "showbackground": true,
            "ticks": "",
            "zerolinecolor": "white"
           },
           "zaxis": {
            "backgroundcolor": "#E5ECF6",
            "gridcolor": "white",
            "gridwidth": 2,
            "linecolor": "white",
            "showbackground": true,
            "ticks": "",
            "zerolinecolor": "white"
           }
          },
          "shapedefaults": {
           "line": {
            "color": "#2a3f5f"
           }
          },
          "ternary": {
           "aaxis": {
            "gridcolor": "white",
            "linecolor": "white",
            "ticks": ""
           },
           "baxis": {
            "gridcolor": "white",
            "linecolor": "white",
            "ticks": ""
           },
           "bgcolor": "#E5ECF6",
           "caxis": {
            "gridcolor": "white",
            "linecolor": "white",
            "ticks": ""
           }
          },
          "title": {
           "x": 0.05
          },
          "xaxis": {
           "automargin": true,
           "gridcolor": "white",
           "linecolor": "white",
           "ticks": "",
           "title": {
            "standoff": 15
           },
           "zerolinecolor": "white",
           "zerolinewidth": 2
          },
          "yaxis": {
           "automargin": true,
           "gridcolor": "white",
           "linecolor": "white",
           "ticks": "",
           "title": {
            "standoff": 15
           },
           "zerolinecolor": "white",
           "zerolinewidth": 2
          }
         }
        },
        "title": {
         "text": "Improvement over deterministic policy vs forecasting error"
        },
        "xaxis": {
         "anchor": "y",
         "domain": [
          0,
          1
         ],
         "title": {
          "text": "Non-shiftable energy MSE"
         }
        },
        "yaxis": {
         "anchor": "x",
         "domain": [
          0,
          1
         ],
         "title": {
          "text": "Improvement over deterministic policy (%)"
         }
        }
       }
      }
     },
     "metadata": {},
     "output_type": "display_data"
    }
   ],
   "source": [
    "fig = px.scatter(data[data['instance']!=9], x=\"l_mse\", y=\"value\", text='instance', hover_data='instance')\n",
    "fig.update_layout(title_text=\"Improvement over deterministic policy vs forecasting error\", yaxis=dict(title=\"Improvement over deterministic policy (%)\"), xaxis=dict(title=\"Non-shiftable energy MSE\"))\n",
    "fig.update_traces(textposition='top center')\n",
    "fig.show()"
   ]
  },
  {
   "cell_type": "code",
   "execution_count": 22,
   "metadata": {},
   "outputs": [
    {
     "data": {
      "application/vnd.plotly.v1+json": {
       "config": {
        "plotlyServerURL": "https://plot.ly"
       },
       "data": [
        {
         "alignmentgroup": "True",
         "hovertemplate": "instance=%{x}<br>value=%{y}<extra></extra>",
         "legendgroup": "",
         "marker": {
          "color": "#636efa",
          "pattern": {
           "shape": ""
          }
         },
         "name": "",
         "offsetgroup": "",
         "orientation": "v",
         "showlegend": false,
         "textposition": "auto",
         "texttemplate": "%{y:.2s}",
         "type": "bar",
         "x": [
          0,
          1,
          2,
          3,
          4,
          5,
          6,
          7,
          8,
          9,
          10,
          11,
          12
         ],
         "xaxis": "x",
         "y": [
          247.17533784345332,
          23.499125250492312,
          14.904701569404438,
          22.813481815123286,
          27.08019740491025,
          29.15560994429656,
          33.63472144956372,
          45.15504825336032,
          177.09589145217052,
          110.02428593440689,
          14.843454029641343,
          17.1905647325832,
          18.40440879045069
         ],
         "yaxis": "y"
        }
       ],
       "layout": {
        "barmode": "relative",
        "legend": {
         "tracegroupgap": 0
        },
        "margin": {
         "t": 60
        },
        "template": {
         "data": {
          "bar": [
           {
            "error_x": {
             "color": "#2a3f5f"
            },
            "error_y": {
             "color": "#2a3f5f"
            },
            "marker": {
             "line": {
              "color": "#E5ECF6",
              "width": 0.5
             },
             "pattern": {
              "fillmode": "overlay",
              "size": 10,
              "solidity": 0.2
             }
            },
            "type": "bar"
           }
          ],
          "barpolar": [
           {
            "marker": {
             "line": {
              "color": "#E5ECF6",
              "width": 0.5
             },
             "pattern": {
              "fillmode": "overlay",
              "size": 10,
              "solidity": 0.2
             }
            },
            "type": "barpolar"
           }
          ],
          "carpet": [
           {
            "aaxis": {
             "endlinecolor": "#2a3f5f",
             "gridcolor": "white",
             "linecolor": "white",
             "minorgridcolor": "white",
             "startlinecolor": "#2a3f5f"
            },
            "baxis": {
             "endlinecolor": "#2a3f5f",
             "gridcolor": "white",
             "linecolor": "white",
             "minorgridcolor": "white",
             "startlinecolor": "#2a3f5f"
            },
            "type": "carpet"
           }
          ],
          "choropleth": [
           {
            "colorbar": {
             "outlinewidth": 0,
             "ticks": ""
            },
            "type": "choropleth"
           }
          ],
          "contour": [
           {
            "colorbar": {
             "outlinewidth": 0,
             "ticks": ""
            },
            "colorscale": [
             [
              0,
              "#0d0887"
             ],
             [
              0.1111111111111111,
              "#46039f"
             ],
             [
              0.2222222222222222,
              "#7201a8"
             ],
             [
              0.3333333333333333,
              "#9c179e"
             ],
             [
              0.4444444444444444,
              "#bd3786"
             ],
             [
              0.5555555555555556,
              "#d8576b"
             ],
             [
              0.6666666666666666,
              "#ed7953"
             ],
             [
              0.7777777777777778,
              "#fb9f3a"
             ],
             [
              0.8888888888888888,
              "#fdca26"
             ],
             [
              1,
              "#f0f921"
             ]
            ],
            "type": "contour"
           }
          ],
          "contourcarpet": [
           {
            "colorbar": {
             "outlinewidth": 0,
             "ticks": ""
            },
            "type": "contourcarpet"
           }
          ],
          "heatmap": [
           {
            "colorbar": {
             "outlinewidth": 0,
             "ticks": ""
            },
            "colorscale": [
             [
              0,
              "#0d0887"
             ],
             [
              0.1111111111111111,
              "#46039f"
             ],
             [
              0.2222222222222222,
              "#7201a8"
             ],
             [
              0.3333333333333333,
              "#9c179e"
             ],
             [
              0.4444444444444444,
              "#bd3786"
             ],
             [
              0.5555555555555556,
              "#d8576b"
             ],
             [
              0.6666666666666666,
              "#ed7953"
             ],
             [
              0.7777777777777778,
              "#fb9f3a"
             ],
             [
              0.8888888888888888,
              "#fdca26"
             ],
             [
              1,
              "#f0f921"
             ]
            ],
            "type": "heatmap"
           }
          ],
          "heatmapgl": [
           {
            "colorbar": {
             "outlinewidth": 0,
             "ticks": ""
            },
            "colorscale": [
             [
              0,
              "#0d0887"
             ],
             [
              0.1111111111111111,
              "#46039f"
             ],
             [
              0.2222222222222222,
              "#7201a8"
             ],
             [
              0.3333333333333333,
              "#9c179e"
             ],
             [
              0.4444444444444444,
              "#bd3786"
             ],
             [
              0.5555555555555556,
              "#d8576b"
             ],
             [
              0.6666666666666666,
              "#ed7953"
             ],
             [
              0.7777777777777778,
              "#fb9f3a"
             ],
             [
              0.8888888888888888,
              "#fdca26"
             ],
             [
              1,
              "#f0f921"
             ]
            ],
            "type": "heatmapgl"
           }
          ],
          "histogram": [
           {
            "marker": {
             "pattern": {
              "fillmode": "overlay",
              "size": 10,
              "solidity": 0.2
             }
            },
            "type": "histogram"
           }
          ],
          "histogram2d": [
           {
            "colorbar": {
             "outlinewidth": 0,
             "ticks": ""
            },
            "colorscale": [
             [
              0,
              "#0d0887"
             ],
             [
              0.1111111111111111,
              "#46039f"
             ],
             [
              0.2222222222222222,
              "#7201a8"
             ],
             [
              0.3333333333333333,
              "#9c179e"
             ],
             [
              0.4444444444444444,
              "#bd3786"
             ],
             [
              0.5555555555555556,
              "#d8576b"
             ],
             [
              0.6666666666666666,
              "#ed7953"
             ],
             [
              0.7777777777777778,
              "#fb9f3a"
             ],
             [
              0.8888888888888888,
              "#fdca26"
             ],
             [
              1,
              "#f0f921"
             ]
            ],
            "type": "histogram2d"
           }
          ],
          "histogram2dcontour": [
           {
            "colorbar": {
             "outlinewidth": 0,
             "ticks": ""
            },
            "colorscale": [
             [
              0,
              "#0d0887"
             ],
             [
              0.1111111111111111,
              "#46039f"
             ],
             [
              0.2222222222222222,
              "#7201a8"
             ],
             [
              0.3333333333333333,
              "#9c179e"
             ],
             [
              0.4444444444444444,
              "#bd3786"
             ],
             [
              0.5555555555555556,
              "#d8576b"
             ],
             [
              0.6666666666666666,
              "#ed7953"
             ],
             [
              0.7777777777777778,
              "#fb9f3a"
             ],
             [
              0.8888888888888888,
              "#fdca26"
             ],
             [
              1,
              "#f0f921"
             ]
            ],
            "type": "histogram2dcontour"
           }
          ],
          "mesh3d": [
           {
            "colorbar": {
             "outlinewidth": 0,
             "ticks": ""
            },
            "type": "mesh3d"
           }
          ],
          "parcoords": [
           {
            "line": {
             "colorbar": {
              "outlinewidth": 0,
              "ticks": ""
             }
            },
            "type": "parcoords"
           }
          ],
          "pie": [
           {
            "automargin": true,
            "type": "pie"
           }
          ],
          "scatter": [
           {
            "fillpattern": {
             "fillmode": "overlay",
             "size": 10,
             "solidity": 0.2
            },
            "type": "scatter"
           }
          ],
          "scatter3d": [
           {
            "line": {
             "colorbar": {
              "outlinewidth": 0,
              "ticks": ""
             }
            },
            "marker": {
             "colorbar": {
              "outlinewidth": 0,
              "ticks": ""
             }
            },
            "type": "scatter3d"
           }
          ],
          "scattercarpet": [
           {
            "marker": {
             "colorbar": {
              "outlinewidth": 0,
              "ticks": ""
             }
            },
            "type": "scattercarpet"
           }
          ],
          "scattergeo": [
           {
            "marker": {
             "colorbar": {
              "outlinewidth": 0,
              "ticks": ""
             }
            },
            "type": "scattergeo"
           }
          ],
          "scattergl": [
           {
            "marker": {
             "colorbar": {
              "outlinewidth": 0,
              "ticks": ""
             }
            },
            "type": "scattergl"
           }
          ],
          "scattermapbox": [
           {
            "marker": {
             "colorbar": {
              "outlinewidth": 0,
              "ticks": ""
             }
            },
            "type": "scattermapbox"
           }
          ],
          "scatterpolar": [
           {
            "marker": {
             "colorbar": {
              "outlinewidth": 0,
              "ticks": ""
             }
            },
            "type": "scatterpolar"
           }
          ],
          "scatterpolargl": [
           {
            "marker": {
             "colorbar": {
              "outlinewidth": 0,
              "ticks": ""
             }
            },
            "type": "scatterpolargl"
           }
          ],
          "scatterternary": [
           {
            "marker": {
             "colorbar": {
              "outlinewidth": 0,
              "ticks": ""
             }
            },
            "type": "scatterternary"
           }
          ],
          "surface": [
           {
            "colorbar": {
             "outlinewidth": 0,
             "ticks": ""
            },
            "colorscale": [
             [
              0,
              "#0d0887"
             ],
             [
              0.1111111111111111,
              "#46039f"
             ],
             [
              0.2222222222222222,
              "#7201a8"
             ],
             [
              0.3333333333333333,
              "#9c179e"
             ],
             [
              0.4444444444444444,
              "#bd3786"
             ],
             [
              0.5555555555555556,
              "#d8576b"
             ],
             [
              0.6666666666666666,
              "#ed7953"
             ],
             [
              0.7777777777777778,
              "#fb9f3a"
             ],
             [
              0.8888888888888888,
              "#fdca26"
             ],
             [
              1,
              "#f0f921"
             ]
            ],
            "type": "surface"
           }
          ],
          "table": [
           {
            "cells": {
             "fill": {
              "color": "#EBF0F8"
             },
             "line": {
              "color": "white"
             }
            },
            "header": {
             "fill": {
              "color": "#C8D4E3"
             },
             "line": {
              "color": "white"
             }
            },
            "type": "table"
           }
          ]
         },
         "layout": {
          "annotationdefaults": {
           "arrowcolor": "#2a3f5f",
           "arrowhead": 0,
           "arrowwidth": 1
          },
          "autotypenumbers": "strict",
          "coloraxis": {
           "colorbar": {
            "outlinewidth": 0,
            "ticks": ""
           }
          },
          "colorscale": {
           "diverging": [
            [
             0,
             "#8e0152"
            ],
            [
             0.1,
             "#c51b7d"
            ],
            [
             0.2,
             "#de77ae"
            ],
            [
             0.3,
             "#f1b6da"
            ],
            [
             0.4,
             "#fde0ef"
            ],
            [
             0.5,
             "#f7f7f7"
            ],
            [
             0.6,
             "#e6f5d0"
            ],
            [
             0.7,
             "#b8e186"
            ],
            [
             0.8,
             "#7fbc41"
            ],
            [
             0.9,
             "#4d9221"
            ],
            [
             1,
             "#276419"
            ]
           ],
           "sequential": [
            [
             0,
             "#0d0887"
            ],
            [
             0.1111111111111111,
             "#46039f"
            ],
            [
             0.2222222222222222,
             "#7201a8"
            ],
            [
             0.3333333333333333,
             "#9c179e"
            ],
            [
             0.4444444444444444,
             "#bd3786"
            ],
            [
             0.5555555555555556,
             "#d8576b"
            ],
            [
             0.6666666666666666,
             "#ed7953"
            ],
            [
             0.7777777777777778,
             "#fb9f3a"
            ],
            [
             0.8888888888888888,
             "#fdca26"
            ],
            [
             1,
             "#f0f921"
            ]
           ],
           "sequentialminus": [
            [
             0,
             "#0d0887"
            ],
            [
             0.1111111111111111,
             "#46039f"
            ],
            [
             0.2222222222222222,
             "#7201a8"
            ],
            [
             0.3333333333333333,
             "#9c179e"
            ],
            [
             0.4444444444444444,
             "#bd3786"
            ],
            [
             0.5555555555555556,
             "#d8576b"
            ],
            [
             0.6666666666666666,
             "#ed7953"
            ],
            [
             0.7777777777777778,
             "#fb9f3a"
            ],
            [
             0.8888888888888888,
             "#fdca26"
            ],
            [
             1,
             "#f0f921"
            ]
           ]
          },
          "colorway": [
           "#636efa",
           "#EF553B",
           "#00cc96",
           "#ab63fa",
           "#FFA15A",
           "#19d3f3",
           "#FF6692",
           "#B6E880",
           "#FF97FF",
           "#FECB52"
          ],
          "font": {
           "color": "#2a3f5f"
          },
          "geo": {
           "bgcolor": "white",
           "lakecolor": "white",
           "landcolor": "#E5ECF6",
           "showlakes": true,
           "showland": true,
           "subunitcolor": "white"
          },
          "hoverlabel": {
           "align": "left"
          },
          "hovermode": "closest",
          "mapbox": {
           "style": "light"
          },
          "paper_bgcolor": "white",
          "plot_bgcolor": "#E5ECF6",
          "polar": {
           "angularaxis": {
            "gridcolor": "white",
            "linecolor": "white",
            "ticks": ""
           },
           "bgcolor": "#E5ECF6",
           "radialaxis": {
            "gridcolor": "white",
            "linecolor": "white",
            "ticks": ""
           }
          },
          "scene": {
           "xaxis": {
            "backgroundcolor": "#E5ECF6",
            "gridcolor": "white",
            "gridwidth": 2,
            "linecolor": "white",
            "showbackground": true,
            "ticks": "",
            "zerolinecolor": "white"
           },
           "yaxis": {
            "backgroundcolor": "#E5ECF6",
            "gridcolor": "white",
            "gridwidth": 2,
            "linecolor": "white",
            "showbackground": true,
            "ticks": "",
            "zerolinecolor": "white"
           },
           "zaxis": {
            "backgroundcolor": "#E5ECF6",
            "gridcolor": "white",
            "gridwidth": 2,
            "linecolor": "white",
            "showbackground": true,
            "ticks": "",
            "zerolinecolor": "white"
           }
          },
          "shapedefaults": {
           "line": {
            "color": "#2a3f5f"
           }
          },
          "ternary": {
           "aaxis": {
            "gridcolor": "white",
            "linecolor": "white",
            "ticks": ""
           },
           "baxis": {
            "gridcolor": "white",
            "linecolor": "white",
            "ticks": ""
           },
           "bgcolor": "#E5ECF6",
           "caxis": {
            "gridcolor": "white",
            "linecolor": "white",
            "ticks": ""
           }
          },
          "title": {
           "x": 0.05
          },
          "xaxis": {
           "automargin": true,
           "gridcolor": "white",
           "linecolor": "white",
           "ticks": "",
           "title": {
            "standoff": 15
           },
           "zerolinecolor": "white",
           "zerolinewidth": 2
          },
          "yaxis": {
           "automargin": true,
           "gridcolor": "white",
           "linecolor": "white",
           "ticks": "",
           "title": {
            "standoff": 15
           },
           "zerolinecolor": "white",
           "zerolinewidth": 2
          }
         }
        },
        "title": {
         "text": "Gap between loohahead and oracle"
        },
        "xaxis": {
         "anchor": "y",
         "domain": [
          0,
          1
         ],
         "dtick": 1,
         "title": {
          "text": "instance"
         }
        },
        "yaxis": {
         "anchor": "x",
         "domain": [
          0,
          1
         ],
         "title": {
          "text": "Gap (%)"
         }
        }
       }
      }
     },
     "metadata": {},
     "output_type": "display_data"
    }
   ],
   "source": [
    "fig = px.bar(gaps_mean[gaps_mean.policy==\"gap_oracle\"], x=\"instance\", y=\"value\", text_auto='.2s')\n",
    "fig.update_layout(title_text=\"Gap between loohahead and oracle\", yaxis=dict(title=\"Gap (%)\"), xaxis=dict(dtick= 1))\n",
    "fig.show()\n",
    "fig.write_image(\"../Soportes documento/Graficas ppt/gap_oracle.png\", scale=2, height = 500, width=1000)"
   ]
  },
  {
   "attachments": {},
   "cell_type": "markdown",
   "metadata": {},
   "source": [
    "# Duck plot"
   ]
  },
  {
   "cell_type": "code",
   "execution_count": 24,
   "metadata": {},
   "outputs": [],
   "source": [
    "# Cargar datos de consumo reales\n",
    "instances = pd.read_csv('Data/instances/instances.csv', index_col=0).to_numpy().reshape(14)\n",
    "df_real = pd.DataFrame(columns=[\"local_15min\", \"grid\", \"b\", \"s\", \"solar\", \"instance\"])\n",
    "\n",
    "for i in instances:\n",
    "    df = pd.read_csv(\"Data/instances/{}/real_{}.csv\".format(i,i), parse_dates=[0], sep=\",\", decimal=\".\")\n",
    "    df[\"instance\"] = i\n",
    "    df_real = pd.concat([df_real, df], ignore_index=True)\n",
    "\n",
    "df_real['time'] = df_real['local_15min'].dt.strftime('%H:%M')\n",
    "df_real = df_real[(df_real['local_15min']>=\"2019-08-01\")&(df_real['local_15min']<=\"2019-08-31\")]"
   ]
  },
  {
   "cell_type": "code",
   "execution_count": 27,
   "metadata": {},
   "outputs": [],
   "source": [
    "#df_real = df_real.groupby([\"local_15min\", \"time\"])[\"grid\"].sum().reset_index()\n",
    "df_real = df_real.groupby([\"time\"])[[\"grid\", \"b\", \"solar\"]].mean().reset_index()"
   ]
  },
  {
   "cell_type": "code",
   "execution_count": 29,
   "metadata": {},
   "outputs": [],
   "source": [
    "# Cargar datos de consumo\n",
    "df_dr = decisions[[\"time\", \"policy\", \"theta\", \"b_t\", \"s_t\", \"g_t\"]].copy()\n",
    "df_dr['date'] = pd.to_datetime(df_dr['time'])\n",
    "df_dr = df_dr[df_dr[\"theta\"]=='0.005']\n",
    "df_dr['time'] = df_dr['date'].dt.strftime('%H:%M')\n",
    "df_dr['grid'] = df_dr['b_t'] - df_dr['s_t']\n",
    "#df_dr = df_dr.groupby([\"policy\", \"date\", \"time\"])[\"grid\"].sum().reset_index()\n"
   ]
  },
  {
   "cell_type": "code",
   "execution_count": 30,
   "metadata": {},
   "outputs": [],
   "source": [
    "df_dr = df_dr.groupby([\"policy\", \"time\"])[[\"grid\", \"b_t\", \"g_t\"]].mean().reset_index()"
   ]
  },
  {
   "cell_type": "code",
   "execution_count": 57,
   "metadata": {},
   "outputs": [
    {
     "data": {
      "application/vnd.plotly.v1+json": {
       "config": {
        "plotlyServerURL": "https://plot.ly"
       },
       "data": [
        {
         "hovertemplate": "policy=Deterministic<br>time=%{x}<br>grid=%{y}<extra></extra>",
         "legendgroup": "Deterministic",
         "line": {
          "color": "#636efa",
          "dash": "solid"
         },
         "marker": {
          "symbol": "circle"
         },
         "mode": "lines",
         "name": "Deterministic",
         "orientation": "v",
         "showlegend": true,
         "type": "scatter",
         "x": [
          "00:00",
          "00:15",
          "00:30",
          "00:45",
          "01:00",
          "01:15",
          "01:30",
          "01:45",
          "02:00",
          "02:15",
          "02:30",
          "02:45",
          "03:00",
          "03:15",
          "03:30",
          "03:45",
          "04:00",
          "04:15",
          "04:30",
          "04:45",
          "05:00",
          "05:15",
          "05:30",
          "05:45",
          "06:00",
          "06:15",
          "06:30",
          "06:45",
          "07:00",
          "07:15",
          "07:30",
          "07:45",
          "08:00",
          "08:15",
          "08:30",
          "08:45",
          "09:00",
          "09:15",
          "09:30",
          "09:45",
          "10:00",
          "10:15",
          "10:30",
          "10:45",
          "11:00",
          "11:15",
          "11:30",
          "11:45",
          "12:00",
          "12:15",
          "12:30",
          "12:45",
          "13:00",
          "13:15",
          "13:30",
          "13:45",
          "14:00",
          "14:15",
          "14:30",
          "14:45",
          "15:00",
          "15:15",
          "15:30",
          "15:45",
          "16:00",
          "16:15",
          "16:30",
          "16:45",
          "17:00",
          "17:15",
          "17:30",
          "17:45",
          "18:00",
          "18:15",
          "18:30",
          "18:45",
          "19:00",
          "19:15",
          "19:30",
          "19:45",
          "20:00",
          "20:15",
          "20:30",
          "20:45",
          "21:00",
          "21:15",
          "21:30",
          "21:45",
          "22:00",
          "22:15",
          "22:30",
          "22:45",
          "23:00",
          "23:15",
          "23:30",
          "23:45"
         ],
         "xaxis": "x",
         "y": [
          0.15546837480537454,
          0.15630917145310252,
          0.1602836117518967,
          0.15976057075935382,
          0.30364195373707564,
          0.07946651402366971,
          0.07285289426472864,
          0.12983361030974017,
          0.291716758467923,
          0.2185963845980769,
          0.5265749479725612,
          0.813730278063072,
          1.1557588102325187,
          1.1241701961309507,
          1.1128888278178404,
          1.1097638664139529,
          1.2272643421693272,
          1.215344801436665,
          1.1999952205775273,
          1.2083570613050951,
          0.21278584978674608,
          0.1767010566178928,
          0.13498977119378675,
          0.22468856648573923,
          0.36428774763785715,
          0.35417475238070606,
          0.3435422656932571,
          0.33650585463596483,
          0.08262079824129355,
          0.05137955228516327,
          0.05555126760777101,
          0.04725983757509581,
          -0.1420932720969407,
          -0.2943333374778717,
          -0.09960385354754386,
          -0.12446168700545457,
          -0.560578912704088,
          -0.6657724693455711,
          -0.5081380878731836,
          -0.5236163744660449,
          -0.9614676341597206,
          -0.7787267934912068,
          -0.6816105096951942,
          -0.6405183903491695,
          -1.2472266771800207,
          -0.8192039759544361,
          -0.6329329261194784,
          -0.5470062492117211,
          -1.208785140601773,
          -0.8864548955137489,
          -0.7214642601055488,
          -0.6292802654546785,
          -1.0956753987932037,
          -0.8199363245088225,
          -0.7817877755514496,
          -0.665784984501689,
          -0.9872718044173321,
          -0.611392069989292,
          -0.5310856289230054,
          -0.4349213771524684,
          -0.794328138527824,
          -0.4654792591839938,
          -0.299830727253536,
          -0.2934861224565256,
          -1.364058916021033,
          -1.2395798439423225,
          -1.121924861715893,
          -1.1780811478028683,
          -1.250603857420125,
          -1.1870457813843207,
          -0.9265357913495527,
          -0.9070864964383697,
          -0.018704316053310695,
          -0.012816104963061015,
          -0.009489032450504895,
          -0.02367548682168031,
          0.1980467250783919,
          0.17161561283356344,
          0.10151795937701569,
          0.0973690497339865,
          0.2941381989277595,
          0.127324131687933,
          0.09124980609064677,
          0.08224351605544486,
          0.43087744587934784,
          0.13393954131420938,
          0.13667355405694143,
          0.1011289370775087,
          0.2763992985938876,
          0.15128237771421696,
          0.14813041622805756,
          0.13462175688683287,
          0.25385506094153326,
          0.15484992437130998,
          0.0825330691318671,
          0.15878164953667007
         ],
         "yaxis": "y"
        },
        {
         "hovertemplate": "policy=Lookahead<br>time=%{x}<br>grid=%{y}<extra></extra>",
         "legendgroup": "Lookahead",
         "line": {
          "color": "#EF553B",
          "dash": "solid"
         },
         "marker": {
          "symbol": "circle"
         },
         "mode": "lines",
         "name": "Lookahead",
         "orientation": "v",
         "showlegend": true,
         "type": "scatter",
         "x": [
          "00:00",
          "00:15",
          "00:30",
          "00:45",
          "01:00",
          "01:15",
          "01:30",
          "01:45",
          "02:00",
          "02:15",
          "02:30",
          "02:45",
          "03:00",
          "03:15",
          "03:30",
          "03:45",
          "04:00",
          "04:15",
          "04:30",
          "04:45",
          "05:00",
          "05:15",
          "05:30",
          "05:45",
          "06:00",
          "06:15",
          "06:30",
          "06:45",
          "07:00",
          "07:15",
          "07:30",
          "07:45",
          "08:00",
          "08:15",
          "08:30",
          "08:45",
          "09:00",
          "09:15",
          "09:30",
          "09:45",
          "10:00",
          "10:15",
          "10:30",
          "10:45",
          "11:00",
          "11:15",
          "11:30",
          "11:45",
          "12:00",
          "12:15",
          "12:30",
          "12:45",
          "13:00",
          "13:15",
          "13:30",
          "13:45",
          "14:00",
          "14:15",
          "14:30",
          "14:45",
          "15:00",
          "15:15",
          "15:30",
          "15:45",
          "16:00",
          "16:15",
          "16:30",
          "16:45",
          "17:00",
          "17:15",
          "17:30",
          "17:45",
          "18:00",
          "18:15",
          "18:30",
          "18:45",
          "19:00",
          "19:15",
          "19:30",
          "19:45",
          "20:00",
          "20:15",
          "20:30",
          "20:45",
          "21:00",
          "21:15",
          "21:30",
          "21:45",
          "22:00",
          "22:15",
          "22:30",
          "22:45",
          "23:00",
          "23:15",
          "23:30",
          "23:45"
         ],
         "xaxis": "x",
         "y": [
          0.7907682007788233,
          0.0858089734991721,
          0.11071493149632895,
          0.3071050169713785,
          0.2989015427068609,
          0.15146805645433378,
          0.3519544553529279,
          0.53905591136466,
          0.377140368307161,
          0.4167230244349226,
          0.4251742309839709,
          0.5297339782970438,
          0.5228575665963752,
          0.7359879598920106,
          0.9789527449365918,
          1.0028385665908748,
          0.8487218992114912,
          0.8278999947981973,
          0.9863879644633801,
          0.696537724543276,
          0.7812785761403639,
          0.28888644750022563,
          0.2378407744961472,
          0.3402446314533884,
          0.6088101740512357,
          0.2963984718451269,
          0.14617033265956655,
          0.15609491285866223,
          0.5385969986914912,
          0.05702279040564921,
          -0.07215024552157209,
          -0.150333845878611,
          0.11182499631064124,
          -0.23232509610741753,
          -0.4999494094056504,
          -0.3835933965087451,
          -0.5164491626614522,
          -0.5749755076763297,
          -0.509902405045624,
          -0.614442154150803,
          -0.9234800305747328,
          -0.7098869412033636,
          -0.7591650038178477,
          -0.7121472390140667,
          -0.7907053261680005,
          -0.7464454449630865,
          -0.5387254670216103,
          -0.6989087140731016,
          -0.6875413733051065,
          -0.6682526303224564,
          -0.8189087831257948,
          -0.6508465029115892,
          -0.7135851022392933,
          -0.7485764844548434,
          -0.8040987791250365,
          -1.0975790252450168,
          -0.8366015466796338,
          -0.5798003240586693,
          -0.7822779195366427,
          -0.6138789892093004,
          -0.4856803793869141,
          -0.21522507845945754,
          -0.16905727325941056,
          -0.41371688371864707,
          -0.2046638781439369,
          -0.5445178881566581,
          -0.9092165299219775,
          -0.8886648155038953,
          -0.566993337514809,
          -0.9228696505946877,
          -0.845872057639853,
          -0.8669209820104167,
          -0.57141443240585,
          -0.41220912366751966,
          -0.07747836010536585,
          -0.212746125057106,
          0.04113988738466254,
          0.46047505899292357,
          0.43499259014898917,
          0.2826993399691312,
          0.05032795544753919,
          0.1023289164029602,
          0.25915520436085754,
          0.2865329843490152,
          0.17954273547541516,
          0.23562152397087666,
          0.1217033479979604,
          -0.009640531046316847,
          0.26325860688777947,
          0.17582712671759781,
          0.26673989628925554,
          0.20950629893375952,
          0.04011803386991021,
          0.005637835904279536,
          -0.05013087996854857,
          -0.2529310300124571
         ],
         "yaxis": "y"
        },
        {
         "hovertemplate": "policy=Oracle<br>time=%{x}<br>grid=%{y}<extra></extra>",
         "legendgroup": "Oracle",
         "line": {
          "color": "#00cc96",
          "dash": "solid"
         },
         "marker": {
          "symbol": "circle"
         },
         "mode": "lines",
         "name": "Oracle",
         "orientation": "v",
         "showlegend": true,
         "type": "scatter",
         "x": [
          "00:00",
          "00:15",
          "00:30",
          "00:45",
          "01:00",
          "01:15",
          "01:30",
          "01:45",
          "02:00",
          "02:15",
          "02:30",
          "02:45",
          "03:00",
          "03:15",
          "03:30",
          "03:45",
          "04:00",
          "04:15",
          "04:30",
          "04:45",
          "05:00",
          "05:15",
          "05:30",
          "05:45",
          "06:00",
          "06:15",
          "06:30",
          "06:45",
          "07:00",
          "07:15",
          "07:30",
          "07:45",
          "08:00",
          "08:15",
          "08:30",
          "08:45",
          "09:00",
          "09:15",
          "09:30",
          "09:45",
          "10:00",
          "10:15",
          "10:30",
          "10:45",
          "11:00",
          "11:15",
          "11:30",
          "11:45",
          "12:00",
          "12:15",
          "12:30",
          "12:45",
          "13:00",
          "13:15",
          "13:30",
          "13:45",
          "14:00",
          "14:15",
          "14:30",
          "14:45",
          "15:00",
          "15:15",
          "15:30",
          "15:45",
          "16:00",
          "16:15",
          "16:30",
          "16:45",
          "17:00",
          "17:15",
          "17:30",
          "17:45",
          "18:00",
          "18:15",
          "18:30",
          "18:45",
          "19:00",
          "19:15",
          "19:30",
          "19:45",
          "20:00",
          "20:15",
          "20:30",
          "20:45",
          "21:00",
          "21:15",
          "21:30",
          "21:45",
          "22:00",
          "22:15",
          "22:30",
          "22:45",
          "23:00",
          "23:15",
          "23:30",
          "23:45"
         ],
         "xaxis": "x",
         "y": [
          0.40730719209106303,
          0.25978259285517363,
          0.13767369247878802,
          0.5689018383147991,
          0.11085825074908788,
          0.19630471126537993,
          0.46947538377665116,
          0.6917474351072167,
          0.11287784388173043,
          0.41709252968631977,
          0.4873849869340309,
          0.5954244817396119,
          0.3398653793705635,
          0.5723200046358099,
          0.652238035072399,
          0.932765922440568,
          0.7131675598222339,
          0.6971282138698098,
          0.7862125122779616,
          0.4553348009609277,
          0.7587107107584214,
          0.2767769119598281,
          0.17286332161668239,
          0.22383177303766089,
          0.5587217040856522,
          0.3473525986668126,
          0.192131999977598,
          -0.1799753925022152,
          0.867099002516996,
          0.12562231152088027,
          0.0038382425589738273,
          -0.27390808807156636,
          0.2776009329034343,
          -0.1033789870286922,
          -0.3558036892536364,
          -0.45913397810320006,
          -0.2285113833738556,
          -0.48247882130438463,
          -0.43676008098404207,
          -0.3764457053976542,
          -0.855430944665339,
          -0.9098382715439668,
          -0.9008426536881893,
          -0.9008338887839328,
          -0.9766723925873367,
          -0.8766264410739304,
          -0.7789729050543241,
          -1.2691679327534249,
          -0.6528472498988697,
          -0.4948758774251191,
          -0.7115841448220841,
          -0.9804333817731714,
          -0.36829122346689686,
          -0.9443799465168268,
          -0.6329090664872734,
          -1.2680068951977048,
          -0.5607227146411877,
          -0.44386060627090745,
          -0.7648821247483476,
          -0.8235407749836866,
          -0.5560743517458807,
          -0.4437085785280902,
          -0.08486314762249589,
          -0.5710148605384398,
          -0.06713123483595637,
          -0.26325509068074404,
          -0.49602557389526625,
          -0.56326999933733,
          -0.250419060679072,
          -0.5759295366595248,
          -0.4159447161768614,
          -0.13231282716767104,
          -0.21963168278361617,
          -0.27260013884026396,
          -0.08421311738179263,
          -0.066975935556277,
          -0.12095821129978342,
          0.15248624139426709,
          0.30340799179225725,
          0.2661594415127971,
          -0.28478257622620073,
          -0.3487610047692937,
          0.04079824565986429,
          0.38049108206530124,
          -0.1663373647643855,
          0.13137569314897551,
          0.16932600139727833,
          0.02598472856707961,
          0.15332413568749997,
          0.06930142836356828,
          0.3108631945254452,
          0.5926612396512013,
          -0.14121905964781803,
          0.13354509965070882,
          -0.0018516539963016271,
          -0.3305514888337469
         ],
         "yaxis": "y"
        },
        {
         "legendgroup": "Real",
         "name": "Real",
         "type": "scatter",
         "x": [
          "00:00",
          "00:15",
          "00:30",
          "00:45",
          "01:00",
          "01:15",
          "01:30",
          "01:45",
          "02:00",
          "02:15",
          "02:30",
          "02:45",
          "03:00",
          "03:15",
          "03:30",
          "03:45",
          "04:00",
          "04:15",
          "04:30",
          "04:45",
          "05:00",
          "05:15",
          "05:30",
          "05:45",
          "06:00",
          "06:15",
          "06:30",
          "06:45",
          "07:00",
          "07:15",
          "07:30",
          "07:45",
          "08:00",
          "08:15",
          "08:30",
          "08:45",
          "09:00",
          "09:15",
          "09:30",
          "09:45",
          "10:00",
          "10:15",
          "10:30",
          "10:45",
          "11:00",
          "11:15",
          "11:30",
          "11:45",
          "12:00",
          "12:15",
          "12:30",
          "12:45",
          "13:00",
          "13:15",
          "13:30",
          "13:45",
          "14:00",
          "14:15",
          "14:30",
          "14:45",
          "15:00",
          "15:15",
          "15:30",
          "15:45",
          "16:00",
          "16:15",
          "16:30",
          "16:45",
          "17:00",
          "17:15",
          "17:30",
          "17:45",
          "18:00",
          "18:15",
          "18:30",
          "18:45",
          "19:00",
          "19:15",
          "19:30",
          "19:45",
          "20:00",
          "20:15",
          "20:30",
          "20:45",
          "21:00",
          "21:15",
          "21:30",
          "21:45",
          "22:00",
          "22:15",
          "22:30",
          "22:45",
          "23:00",
          "23:15",
          "23:30",
          "23:45"
         ],
         "y": [
          0.16858582949308756,
          0.17512499999999998,
          0.1540267857142857,
          0.14770357142857143,
          0.14841071428571428,
          0.14377142857142858,
          0.13596309523809524,
          0.1369470238095238,
          0.15102738095238094,
          0.13810952380952382,
          0.13239880952380953,
          0.1568315476190476,
          0.16901785714285714,
          0.17008392857142857,
          0.17011964285714284,
          0.18766964285714288,
          0.19637916666666666,
          0.19637976190476192,
          0.19036964285714286,
          0.1707886904761905,
          0.16970416666666668,
          0.18296309523809523,
          0.1759488095238095,
          0.16036904761904763,
          0.1619017857142857,
          0.14920892857142856,
          0.11930654761904762,
          0.06791011904761905,
          0.03154047619047619,
          -0.007434523809523808,
          -0.07471369047619048,
          -0.12838690476190476,
          -0.1965827380952381,
          -0.2700255952380953,
          -0.3295517857142857,
          -0.39896130952380954,
          -0.4207779761904762,
          -0.5050625,
          -0.5626214285714285,
          -0.5764601190476191,
          -0.5947303571428572,
          -0.6641875,
          -0.7047970238095238,
          -0.6829928571428572,
          -0.6676767857142857,
          -0.6845636904761905,
          -0.717144642857143,
          -0.7145232142857143,
          -0.7245875,
          -0.7214482142857143,
          -0.7127005952380953,
          -0.6944577380952381,
          -0.6185815476190477,
          -0.5790779761904762,
          -0.6097309523809523,
          -0.6110517857142858,
          -0.5943011904761905,
          -0.5586077380952381,
          -0.5068547619047619,
          -0.4219154761904762,
          -0.3906928571428572,
          -0.34953690476190474,
          -0.28931071428571425,
          -0.2565732142857143,
          -0.20152380952380952,
          -0.15052738095238094,
          -0.10308571428571428,
          -0.04295714285714285,
          0.04211130952380952,
          0.05237440476190477,
          0.10771904761904762,
          0.17402083333333335,
          0.20705654761904763,
          0.24422202380952382,
          0.27895059523809523,
          0.30843988095238095,
          0.30167559523809523,
          0.31034047619047617,
          0.31653690476190477,
          0.29117857142857145,
          0.2958065476190476,
          0.2904327380952381,
          0.2827517857142857,
          0.2821779761904762,
          0.2635702380952381,
          0.2562244047619048,
          0.2477386904761905,
          0.2394595238095238,
          0.22330416666666666,
          0.21029642857142858,
          0.19533988095238095,
          0.19133988095238097,
          0.18854404761904764,
          0.18327142857142859,
          0.16706904761904762,
          0.1632517857142857
         ]
        }
       ],
       "layout": {
        "height": 400,
        "legend": {
         "orientation": "h",
         "title": {
          "text": "policy"
         },
         "tracegroupgap": 0,
         "x": 1,
         "xanchor": "right",
         "y": 1.05,
         "yanchor": "bottom"
        },
        "margin": {
         "t": 60
        },
        "template": {
         "data": {
          "bar": [
           {
            "error_x": {
             "color": "#2a3f5f"
            },
            "error_y": {
             "color": "#2a3f5f"
            },
            "marker": {
             "line": {
              "color": "#E5ECF6",
              "width": 0.5
             },
             "pattern": {
              "fillmode": "overlay",
              "size": 10,
              "solidity": 0.2
             }
            },
            "type": "bar"
           }
          ],
          "barpolar": [
           {
            "marker": {
             "line": {
              "color": "#E5ECF6",
              "width": 0.5
             },
             "pattern": {
              "fillmode": "overlay",
              "size": 10,
              "solidity": 0.2
             }
            },
            "type": "barpolar"
           }
          ],
          "carpet": [
           {
            "aaxis": {
             "endlinecolor": "#2a3f5f",
             "gridcolor": "white",
             "linecolor": "white",
             "minorgridcolor": "white",
             "startlinecolor": "#2a3f5f"
            },
            "baxis": {
             "endlinecolor": "#2a3f5f",
             "gridcolor": "white",
             "linecolor": "white",
             "minorgridcolor": "white",
             "startlinecolor": "#2a3f5f"
            },
            "type": "carpet"
           }
          ],
          "choropleth": [
           {
            "colorbar": {
             "outlinewidth": 0,
             "ticks": ""
            },
            "type": "choropleth"
           }
          ],
          "contour": [
           {
            "colorbar": {
             "outlinewidth": 0,
             "ticks": ""
            },
            "colorscale": [
             [
              0,
              "#0d0887"
             ],
             [
              0.1111111111111111,
              "#46039f"
             ],
             [
              0.2222222222222222,
              "#7201a8"
             ],
             [
              0.3333333333333333,
              "#9c179e"
             ],
             [
              0.4444444444444444,
              "#bd3786"
             ],
             [
              0.5555555555555556,
              "#d8576b"
             ],
             [
              0.6666666666666666,
              "#ed7953"
             ],
             [
              0.7777777777777778,
              "#fb9f3a"
             ],
             [
              0.8888888888888888,
              "#fdca26"
             ],
             [
              1,
              "#f0f921"
             ]
            ],
            "type": "contour"
           }
          ],
          "contourcarpet": [
           {
            "colorbar": {
             "outlinewidth": 0,
             "ticks": ""
            },
            "type": "contourcarpet"
           }
          ],
          "heatmap": [
           {
            "colorbar": {
             "outlinewidth": 0,
             "ticks": ""
            },
            "colorscale": [
             [
              0,
              "#0d0887"
             ],
             [
              0.1111111111111111,
              "#46039f"
             ],
             [
              0.2222222222222222,
              "#7201a8"
             ],
             [
              0.3333333333333333,
              "#9c179e"
             ],
             [
              0.4444444444444444,
              "#bd3786"
             ],
             [
              0.5555555555555556,
              "#d8576b"
             ],
             [
              0.6666666666666666,
              "#ed7953"
             ],
             [
              0.7777777777777778,
              "#fb9f3a"
             ],
             [
              0.8888888888888888,
              "#fdca26"
             ],
             [
              1,
              "#f0f921"
             ]
            ],
            "type": "heatmap"
           }
          ],
          "heatmapgl": [
           {
            "colorbar": {
             "outlinewidth": 0,
             "ticks": ""
            },
            "colorscale": [
             [
              0,
              "#0d0887"
             ],
             [
              0.1111111111111111,
              "#46039f"
             ],
             [
              0.2222222222222222,
              "#7201a8"
             ],
             [
              0.3333333333333333,
              "#9c179e"
             ],
             [
              0.4444444444444444,
              "#bd3786"
             ],
             [
              0.5555555555555556,
              "#d8576b"
             ],
             [
              0.6666666666666666,
              "#ed7953"
             ],
             [
              0.7777777777777778,
              "#fb9f3a"
             ],
             [
              0.8888888888888888,
              "#fdca26"
             ],
             [
              1,
              "#f0f921"
             ]
            ],
            "type": "heatmapgl"
           }
          ],
          "histogram": [
           {
            "marker": {
             "pattern": {
              "fillmode": "overlay",
              "size": 10,
              "solidity": 0.2
             }
            },
            "type": "histogram"
           }
          ],
          "histogram2d": [
           {
            "colorbar": {
             "outlinewidth": 0,
             "ticks": ""
            },
            "colorscale": [
             [
              0,
              "#0d0887"
             ],
             [
              0.1111111111111111,
              "#46039f"
             ],
             [
              0.2222222222222222,
              "#7201a8"
             ],
             [
              0.3333333333333333,
              "#9c179e"
             ],
             [
              0.4444444444444444,
              "#bd3786"
             ],
             [
              0.5555555555555556,
              "#d8576b"
             ],
             [
              0.6666666666666666,
              "#ed7953"
             ],
             [
              0.7777777777777778,
              "#fb9f3a"
             ],
             [
              0.8888888888888888,
              "#fdca26"
             ],
             [
              1,
              "#f0f921"
             ]
            ],
            "type": "histogram2d"
           }
          ],
          "histogram2dcontour": [
           {
            "colorbar": {
             "outlinewidth": 0,
             "ticks": ""
            },
            "colorscale": [
             [
              0,
              "#0d0887"
             ],
             [
              0.1111111111111111,
              "#46039f"
             ],
             [
              0.2222222222222222,
              "#7201a8"
             ],
             [
              0.3333333333333333,
              "#9c179e"
             ],
             [
              0.4444444444444444,
              "#bd3786"
             ],
             [
              0.5555555555555556,
              "#d8576b"
             ],
             [
              0.6666666666666666,
              "#ed7953"
             ],
             [
              0.7777777777777778,
              "#fb9f3a"
             ],
             [
              0.8888888888888888,
              "#fdca26"
             ],
             [
              1,
              "#f0f921"
             ]
            ],
            "type": "histogram2dcontour"
           }
          ],
          "mesh3d": [
           {
            "colorbar": {
             "outlinewidth": 0,
             "ticks": ""
            },
            "type": "mesh3d"
           }
          ],
          "parcoords": [
           {
            "line": {
             "colorbar": {
              "outlinewidth": 0,
              "ticks": ""
             }
            },
            "type": "parcoords"
           }
          ],
          "pie": [
           {
            "automargin": true,
            "type": "pie"
           }
          ],
          "scatter": [
           {
            "fillpattern": {
             "fillmode": "overlay",
             "size": 10,
             "solidity": 0.2
            },
            "type": "scatter"
           }
          ],
          "scatter3d": [
           {
            "line": {
             "colorbar": {
              "outlinewidth": 0,
              "ticks": ""
             }
            },
            "marker": {
             "colorbar": {
              "outlinewidth": 0,
              "ticks": ""
             }
            },
            "type": "scatter3d"
           }
          ],
          "scattercarpet": [
           {
            "marker": {
             "colorbar": {
              "outlinewidth": 0,
              "ticks": ""
             }
            },
            "type": "scattercarpet"
           }
          ],
          "scattergeo": [
           {
            "marker": {
             "colorbar": {
              "outlinewidth": 0,
              "ticks": ""
             }
            },
            "type": "scattergeo"
           }
          ],
          "scattergl": [
           {
            "marker": {
             "colorbar": {
              "outlinewidth": 0,
              "ticks": ""
             }
            },
            "type": "scattergl"
           }
          ],
          "scattermapbox": [
           {
            "marker": {
             "colorbar": {
              "outlinewidth": 0,
              "ticks": ""
             }
            },
            "type": "scattermapbox"
           }
          ],
          "scatterpolar": [
           {
            "marker": {
             "colorbar": {
              "outlinewidth": 0,
              "ticks": ""
             }
            },
            "type": "scatterpolar"
           }
          ],
          "scatterpolargl": [
           {
            "marker": {
             "colorbar": {
              "outlinewidth": 0,
              "ticks": ""
             }
            },
            "type": "scatterpolargl"
           }
          ],
          "scatterternary": [
           {
            "marker": {
             "colorbar": {
              "outlinewidth": 0,
              "ticks": ""
             }
            },
            "type": "scatterternary"
           }
          ],
          "surface": [
           {
            "colorbar": {
             "outlinewidth": 0,
             "ticks": ""
            },
            "colorscale": [
             [
              0,
              "#0d0887"
             ],
             [
              0.1111111111111111,
              "#46039f"
             ],
             [
              0.2222222222222222,
              "#7201a8"
             ],
             [
              0.3333333333333333,
              "#9c179e"
             ],
             [
              0.4444444444444444,
              "#bd3786"
             ],
             [
              0.5555555555555556,
              "#d8576b"
             ],
             [
              0.6666666666666666,
              "#ed7953"
             ],
             [
              0.7777777777777778,
              "#fb9f3a"
             ],
             [
              0.8888888888888888,
              "#fdca26"
             ],
             [
              1,
              "#f0f921"
             ]
            ],
            "type": "surface"
           }
          ],
          "table": [
           {
            "cells": {
             "fill": {
              "color": "#EBF0F8"
             },
             "line": {
              "color": "white"
             }
            },
            "header": {
             "fill": {
              "color": "#C8D4E3"
             },
             "line": {
              "color": "white"
             }
            },
            "type": "table"
           }
          ]
         },
         "layout": {
          "annotationdefaults": {
           "arrowcolor": "#2a3f5f",
           "arrowhead": 0,
           "arrowwidth": 1
          },
          "autotypenumbers": "strict",
          "coloraxis": {
           "colorbar": {
            "outlinewidth": 0,
            "ticks": ""
           }
          },
          "colorscale": {
           "diverging": [
            [
             0,
             "#8e0152"
            ],
            [
             0.1,
             "#c51b7d"
            ],
            [
             0.2,
             "#de77ae"
            ],
            [
             0.3,
             "#f1b6da"
            ],
            [
             0.4,
             "#fde0ef"
            ],
            [
             0.5,
             "#f7f7f7"
            ],
            [
             0.6,
             "#e6f5d0"
            ],
            [
             0.7,
             "#b8e186"
            ],
            [
             0.8,
             "#7fbc41"
            ],
            [
             0.9,
             "#4d9221"
            ],
            [
             1,
             "#276419"
            ]
           ],
           "sequential": [
            [
             0,
             "#0d0887"
            ],
            [
             0.1111111111111111,
             "#46039f"
            ],
            [
             0.2222222222222222,
             "#7201a8"
            ],
            [
             0.3333333333333333,
             "#9c179e"
            ],
            [
             0.4444444444444444,
             "#bd3786"
            ],
            [
             0.5555555555555556,
             "#d8576b"
            ],
            [
             0.6666666666666666,
             "#ed7953"
            ],
            [
             0.7777777777777778,
             "#fb9f3a"
            ],
            [
             0.8888888888888888,
             "#fdca26"
            ],
            [
             1,
             "#f0f921"
            ]
           ],
           "sequentialminus": [
            [
             0,
             "#0d0887"
            ],
            [
             0.1111111111111111,
             "#46039f"
            ],
            [
             0.2222222222222222,
             "#7201a8"
            ],
            [
             0.3333333333333333,
             "#9c179e"
            ],
            [
             0.4444444444444444,
             "#bd3786"
            ],
            [
             0.5555555555555556,
             "#d8576b"
            ],
            [
             0.6666666666666666,
             "#ed7953"
            ],
            [
             0.7777777777777778,
             "#fb9f3a"
            ],
            [
             0.8888888888888888,
             "#fdca26"
            ],
            [
             1,
             "#f0f921"
            ]
           ]
          },
          "colorway": [
           "#636efa",
           "#EF553B",
           "#00cc96",
           "#ab63fa",
           "#FFA15A",
           "#19d3f3",
           "#FF6692",
           "#B6E880",
           "#FF97FF",
           "#FECB52"
          ],
          "font": {
           "color": "#2a3f5f"
          },
          "geo": {
           "bgcolor": "white",
           "lakecolor": "white",
           "landcolor": "#E5ECF6",
           "showlakes": true,
           "showland": true,
           "subunitcolor": "white"
          },
          "hoverlabel": {
           "align": "left"
          },
          "hovermode": "closest",
          "mapbox": {
           "style": "light"
          },
          "paper_bgcolor": "white",
          "plot_bgcolor": "#E5ECF6",
          "polar": {
           "angularaxis": {
            "gridcolor": "white",
            "linecolor": "white",
            "ticks": ""
           },
           "bgcolor": "#E5ECF6",
           "radialaxis": {
            "gridcolor": "white",
            "linecolor": "white",
            "ticks": ""
           }
          },
          "scene": {
           "xaxis": {
            "backgroundcolor": "#E5ECF6",
            "gridcolor": "white",
            "gridwidth": 2,
            "linecolor": "white",
            "showbackground": true,
            "ticks": "",
            "zerolinecolor": "white"
           },
           "yaxis": {
            "backgroundcolor": "#E5ECF6",
            "gridcolor": "white",
            "gridwidth": 2,
            "linecolor": "white",
            "showbackground": true,
            "ticks": "",
            "zerolinecolor": "white"
           },
           "zaxis": {
            "backgroundcolor": "#E5ECF6",
            "gridcolor": "white",
            "gridwidth": 2,
            "linecolor": "white",
            "showbackground": true,
            "ticks": "",
            "zerolinecolor": "white"
           }
          },
          "shapedefaults": {
           "line": {
            "color": "#2a3f5f"
           }
          },
          "ternary": {
           "aaxis": {
            "gridcolor": "white",
            "linecolor": "white",
            "ticks": ""
           },
           "baxis": {
            "gridcolor": "white",
            "linecolor": "white",
            "ticks": ""
           },
           "bgcolor": "#E5ECF6",
           "caxis": {
            "gridcolor": "white",
            "linecolor": "white",
            "ticks": ""
           }
          },
          "title": {
           "x": 0.05
          },
          "xaxis": {
           "automargin": true,
           "gridcolor": "white",
           "linecolor": "white",
           "ticks": "",
           "title": {
            "standoff": 15
           },
           "zerolinecolor": "white",
           "zerolinewidth": 2
          },
          "yaxis": {
           "automargin": true,
           "gridcolor": "white",
           "linecolor": "white",
           "ticks": "",
           "title": {
            "standoff": 15
           },
           "zerolinecolor": "white",
           "zerolinewidth": 2
          }
         }
        },
        "width": 640,
        "xaxis": {
         "anchor": "y",
         "domain": [
          0,
          1
         ],
         "title": {
          "text": "Hour"
         }
        },
        "yaxis": {
         "anchor": "x",
         "domain": [
          0,
          1
         ],
         "title": {
          "text": "Energy consumption (kWh)"
         }
        }
       }
      }
     },
     "metadata": {},
     "output_type": "display_data"
    }
   ],
   "source": [
    "# Gráfica\n",
    "fig = px.line(df_dr, x='time', y='grid', color='policy')\n",
    "fig.add_trace(go.Scatter(x=df_real['time'], y=df_real['grid'], legendgroup=\"Real\", name=\"Real\"))\n",
    "height = 500*0.8\n",
    "width = 800*0.8\n",
    "fig.update_layout(height=height, width=width,\n",
    "                  yaxis=dict(title=\"Energy consumption (kWh)\"), xaxis=dict(title=\"Hour\"))\n",
    "fig.update_layout(legend=dict(\n",
    "        orientation=\"h\",\n",
    "        yanchor=\"bottom\",\n",
    "        y=1.05,\n",
    "        xanchor=\"right\",\n",
    "        x=1\n",
    "    ))\n",
    "fig.write_image(\"../Soportes documento/Graficas documento/duck_plot.png\", scale=2, height = height, width=width)\n",
    "fig.show()"
   ]
  },
  {
   "cell_type": "code",
   "execution_count": 32,
   "metadata": {},
   "outputs": [
    {
     "name": "stdout",
     "output_type": "stream",
     "text": [
      "PAR real: -4.182759462838979\n",
      "PAR Lookahead: -10.58873661616763\n"
     ]
    }
   ],
   "source": [
    "PAR_real = np.max(df_real['grid'])/np.mean(df_real['grid'])\n",
    "PAR_look = np.max(df_dr[df_dr['policy']=='Lookahead']['grid'])/np.mean(df_dr[df_dr['policy']=='Lookahead']['grid'])\n",
    "print(\"PAR real: \"+str(PAR_real))\n",
    "print(\"PAR Lookahead: \"+str(PAR_look))"
   ]
  },
  {
   "cell_type": "code",
   "execution_count": 51,
   "metadata": {},
   "outputs": [
    {
     "data": {
      "text/html": [
       "<div>\n",
       "<style scoped>\n",
       "    .dataframe tbody tr th:only-of-type {\n",
       "        vertical-align: middle;\n",
       "    }\n",
       "\n",
       "    .dataframe tbody tr th {\n",
       "        vertical-align: top;\n",
       "    }\n",
       "\n",
       "    .dataframe thead th {\n",
       "        text-align: right;\n",
       "    }\n",
       "</style>\n",
       "<table border=\"1\" class=\"dataframe\">\n",
       "  <thead>\n",
       "    <tr style=\"text-align: right;\">\n",
       "      <th></th>\n",
       "      <th>grid</th>\n",
       "      <th>b</th>\n",
       "      <th>solar</th>\n",
       "    </tr>\n",
       "  </thead>\n",
       "  <tbody>\n",
       "    <tr>\n",
       "      <th>count</th>\n",
       "      <td>96.000000</td>\n",
       "      <td>96.000000</td>\n",
       "      <td>96.000000</td>\n",
       "    </tr>\n",
       "    <tr>\n",
       "      <th>mean</th>\n",
       "      <td>-0.075677</td>\n",
       "      <td>0.135546</td>\n",
       "      <td>0.325893</td>\n",
       "    </tr>\n",
       "    <tr>\n",
       "      <th>std</th>\n",
       "      <td>0.355722</td>\n",
       "      <td>0.088184</td>\n",
       "      <td>0.393291</td>\n",
       "    </tr>\n",
       "    <tr>\n",
       "      <th>min</th>\n",
       "      <td>-0.724588</td>\n",
       "      <td>0.015642</td>\n",
       "      <td>0.000112</td>\n",
       "    </tr>\n",
       "    <tr>\n",
       "      <th>25%</th>\n",
       "      <td>-0.404415</td>\n",
       "      <td>0.042506</td>\n",
       "      <td>0.000128</td>\n",
       "    </tr>\n",
       "    <tr>\n",
       "      <th>50%</th>\n",
       "      <td>0.137528</td>\n",
       "      <td>0.144416</td>\n",
       "      <td>0.065233</td>\n",
       "    </tr>\n",
       "    <tr>\n",
       "      <th>75%</th>\n",
       "      <td>0.187888</td>\n",
       "      <td>0.189000</td>\n",
       "      <td>0.712453</td>\n",
       "    </tr>\n",
       "    <tr>\n",
       "      <th>max</th>\n",
       "      <td>0.316537</td>\n",
       "      <td>0.316537</td>\n",
       "      <td>1.029530</td>\n",
       "    </tr>\n",
       "  </tbody>\n",
       "</table>\n",
       "</div>"
      ],
      "text/plain": [
       "            grid          b      solar\n",
       "count  96.000000  96.000000  96.000000\n",
       "mean   -0.075677   0.135546   0.325893\n",
       "std     0.355722   0.088184   0.393291\n",
       "min    -0.724588   0.015642   0.000112\n",
       "25%    -0.404415   0.042506   0.000128\n",
       "50%     0.137528   0.144416   0.065233\n",
       "75%     0.187888   0.189000   0.712453\n",
       "max     0.316537   0.316537   1.029530"
      ]
     },
     "execution_count": 51,
     "metadata": {},
     "output_type": "execute_result"
    }
   ],
   "source": [
    "df_real.describe()"
   ]
  },
  {
   "cell_type": "code",
   "execution_count": 37,
   "metadata": {},
   "outputs": [
    {
     "data": {
      "text/plain": [
       "0.29374563339486487"
      ]
     },
     "execution_count": 37,
     "metadata": {},
     "output_type": "execute_result"
    }
   ],
   "source": [
    "sum_real = df_real.sum()\n",
    "dep_real = sum_real['b']/(sum_real['b']+sum_real['solar'])\n",
    "dep_real"
   ]
  },
  {
   "cell_type": "code",
   "execution_count": 53,
   "metadata": {},
   "outputs": [
    {
     "data": {
      "text/html": [
       "<div>\n",
       "<style scoped>\n",
       "    .dataframe tbody tr th:only-of-type {\n",
       "        vertical-align: middle;\n",
       "    }\n",
       "\n",
       "    .dataframe tbody tr th {\n",
       "        vertical-align: top;\n",
       "    }\n",
       "\n",
       "    .dataframe thead th {\n",
       "        text-align: right;\n",
       "    }\n",
       "</style>\n",
       "<table border=\"1\" class=\"dataframe\">\n",
       "  <thead>\n",
       "    <tr style=\"text-align: right;\">\n",
       "      <th></th>\n",
       "      <th>grid</th>\n",
       "      <th>b_t</th>\n",
       "      <th>g_t</th>\n",
       "    </tr>\n",
       "  </thead>\n",
       "  <tbody>\n",
       "    <tr>\n",
       "      <th>count</th>\n",
       "      <td>96.000000</td>\n",
       "      <td>96.000000</td>\n",
       "      <td>96.000000</td>\n",
       "    </tr>\n",
       "    <tr>\n",
       "      <th>mean</th>\n",
       "      <td>-0.094708</td>\n",
       "      <td>0.260111</td>\n",
       "      <td>0.315509</td>\n",
       "    </tr>\n",
       "    <tr>\n",
       "      <th>std</th>\n",
       "      <td>0.545136</td>\n",
       "      <td>0.242598</td>\n",
       "      <td>0.380047</td>\n",
       "    </tr>\n",
       "    <tr>\n",
       "      <th>min</th>\n",
       "      <td>-1.097579</td>\n",
       "      <td>0.004693</td>\n",
       "      <td>0.000122</td>\n",
       "    </tr>\n",
       "    <tr>\n",
       "      <th>25%</th>\n",
       "      <td>-0.588320</td>\n",
       "      <td>0.070329</td>\n",
       "      <td>0.000138</td>\n",
       "    </tr>\n",
       "    <tr>\n",
       "      <th>50%</th>\n",
       "      <td>-0.002001</td>\n",
       "      <td>0.195506</td>\n",
       "      <td>0.064204</td>\n",
       "    </tr>\n",
       "    <tr>\n",
       "      <th>75%</th>\n",
       "      <td>0.290764</td>\n",
       "      <td>0.344903</td>\n",
       "      <td>0.686324</td>\n",
       "    </tr>\n",
       "    <tr>\n",
       "      <th>max</th>\n",
       "      <td>1.002839</td>\n",
       "      <td>1.002839</td>\n",
       "      <td>0.997264</td>\n",
       "    </tr>\n",
       "  </tbody>\n",
       "</table>\n",
       "</div>"
      ],
      "text/plain": [
       "            grid        b_t        g_t\n",
       "count  96.000000  96.000000  96.000000\n",
       "mean   -0.094708   0.260111   0.315509\n",
       "std     0.545136   0.242598   0.380047\n",
       "min    -1.097579   0.004693   0.000122\n",
       "25%    -0.588320   0.070329   0.000138\n",
       "50%    -0.002001   0.195506   0.064204\n",
       "75%     0.290764   0.344903   0.686324\n",
       "max     1.002839   1.002839   0.997264"
      ]
     },
     "execution_count": 53,
     "metadata": {},
     "output_type": "execute_result"
    }
   ],
   "source": [
    "df_dr[df_dr['policy']=='Lookahead'].describe()"
   ]
  },
  {
   "cell_type": "code",
   "execution_count": 41,
   "metadata": {},
   "outputs": [
    {
     "data": {
      "text/plain": [
       "0.4518802598182404"
      ]
     },
     "execution_count": 41,
     "metadata": {},
     "output_type": "execute_result"
    }
   ],
   "source": [
    "sum_look = df_dr[df_dr['policy']=='Lookahead'].sum()\n",
    "dep_look = sum_look['b_t']/(sum_look['b_t']+sum_look['g_t'])\n",
    "dep_look"
   ]
  },
  {
   "cell_type": "code",
   "execution_count": 43,
   "metadata": {},
   "outputs": [
    {
     "data": {
      "text/plain": [
       "time     00:0000:1500:3000:4501:0001:1501:3001:4502:000...\n",
       "grid                                             -7.264951\n",
       "b                                                13.012383\n",
       "solar                                            31.285751\n",
       "dtype: object"
      ]
     },
     "execution_count": 43,
     "metadata": {},
     "output_type": "execute_result"
    }
   ],
   "source": [
    "sum_real"
   ]
  },
  {
   "cell_type": "code",
   "execution_count": 44,
   "metadata": {},
   "outputs": [
    {
     "data": {
      "text/plain": [
       "policy    LookaheadLookaheadLookaheadLookaheadLookaheadL...\n",
       "time      00:0000:1500:3000:4501:0001:1501:3001:4502:000...\n",
       "grid                                              -9.091973\n",
       "b_t                                               24.970699\n",
       "g_t                                               30.288849\n",
       "dtype: object"
      ]
     },
     "execution_count": 44,
     "metadata": {},
     "output_type": "execute_result"
    }
   ],
   "source": [
    "sum_look"
   ]
  },
  {
   "cell_type": "code",
   "execution_count": null,
   "metadata": {},
   "outputs": [],
   "source": []
  }
 ],
 "metadata": {
  "kernelspec": {
   "display_name": "base",
   "language": "python",
   "name": "python3"
  },
  "language_info": {
   "codemirror_mode": {
    "name": "ipython",
    "version": 3
   },
   "file_extension": ".py",
   "mimetype": "text/x-python",
   "name": "python",
   "nbconvert_exporter": "python",
   "pygments_lexer": "ipython3",
   "version": "3.8.8"
  },
  "orig_nbformat": 4
 },
 "nbformat": 4,
 "nbformat_minor": 2
}
