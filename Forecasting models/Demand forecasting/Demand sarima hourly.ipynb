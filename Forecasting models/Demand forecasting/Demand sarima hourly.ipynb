{
 "cells": [
  {
   "cell_type": "code",
   "execution_count": 1,
   "metadata": {},
   "outputs": [],
   "source": [
    "import numpy as np\n",
    "import pandas as pd\n",
    "import statsmodels.api as sm\n",
    "from pandas.tseries.offsets import DateOffset\n",
    "import openpyxl as op\n",
    "from tqdm.auto import tqdm\n",
    "import plotly.graph_objs as go\n",
    "import time\n",
    "import plotly.express as px\n",
    "import warnings\n",
    "warnings.filterwarnings(\"ignore\", message=\"No frequency information was\")\n",
    "warnings.filterwarnings(\"ignore\", message=\"Maximum Likelihood optimization failed to \")\n",
    "\n",
    "instances = pd.read_csv(\"../instances/instances.csv\", index_col=0).to_numpy().reshape(14)"
   ]
  },
  {
   "cell_type": "code",
   "execution_count": 2,
   "metadata": {
    "tags": []
   },
   "outputs": [],
   "source": [
    "INSTANCE = 0"
   ]
  },
  {
   "cell_type": "code",
   "execution_count": 3,
   "metadata": {},
   "outputs": [],
   "source": [
    "data_series = pd.read_csv(\"../instances/{n}/series_{n}.csv\".format(n=instances[INSTANCE]))\n",
    "data_series['local_15min'] = pd.to_datetime(data_series['local_15min'])\n",
    "data_series.index = data_series['local_15min']\n",
    "data_series.drop(columns=['local_15min'], inplace=True)\n",
    "data_demand = data_series[['nonshiftable']]"
   ]
  },
  {
   "cell_type": "code",
   "execution_count": 4,
   "metadata": {},
   "outputs": [
    {
     "data": {
      "text/html": [
       "<div>\n",
       "<style scoped>\n",
       "    .dataframe tbody tr th:only-of-type {\n",
       "        vertical-align: middle;\n",
       "    }\n",
       "\n",
       "    .dataframe tbody tr th {\n",
       "        vertical-align: top;\n",
       "    }\n",
       "\n",
       "    .dataframe thead th {\n",
       "        text-align: right;\n",
       "    }\n",
       "</style>\n",
       "<table border=\"1\" class=\"dataframe\">\n",
       "  <thead>\n",
       "    <tr style=\"text-align: right;\">\n",
       "      <th></th>\n",
       "      <th>nonshiftable</th>\n",
       "    </tr>\n",
       "    <tr>\n",
       "      <th>local_15min</th>\n",
       "      <th></th>\n",
       "    </tr>\n",
       "  </thead>\n",
       "  <tbody>\n",
       "    <tr>\n",
       "      <th>2019-05-01 00:00:00</th>\n",
       "      <td>0.065125</td>\n",
       "    </tr>\n",
       "    <tr>\n",
       "      <th>2019-05-01 01:00:00</th>\n",
       "      <td>0.043813</td>\n",
       "    </tr>\n",
       "    <tr>\n",
       "      <th>2019-05-01 02:00:00</th>\n",
       "      <td>0.067750</td>\n",
       "    </tr>\n",
       "    <tr>\n",
       "      <th>2019-05-01 03:00:00</th>\n",
       "      <td>0.099062</td>\n",
       "    </tr>\n",
       "    <tr>\n",
       "      <th>2019-05-01 04:00:00</th>\n",
       "      <td>0.177687</td>\n",
       "    </tr>\n",
       "  </tbody>\n",
       "</table>\n",
       "</div>"
      ],
      "text/plain": [
       "                     nonshiftable\n",
       "local_15min                      \n",
       "2019-05-01 00:00:00      0.065125\n",
       "2019-05-01 01:00:00      0.043813\n",
       "2019-05-01 02:00:00      0.067750\n",
       "2019-05-01 03:00:00      0.099062\n",
       "2019-05-01 04:00:00      0.177687"
      ]
     },
     "execution_count": 4,
     "metadata": {},
     "output_type": "execute_result"
    }
   ],
   "source": [
    "data_demand_hourly = data_demand.resample(\"H\").mean()\n",
    "data_demand_hourly.head()"
   ]
  },
  {
   "cell_type": "code",
   "execution_count": 19,
   "metadata": {},
   "outputs": [],
   "source": [
    "start_date = \"2019-05-01\"\n",
    "end_date = \"2019-07-01\"\n",
    "training_data = data_demand_hourly[(data_demand_hourly.index >= start_date) & (data_demand_hourly.index<end_date)]"
   ]
  },
  {
   "cell_type": "code",
   "execution_count": 8,
   "metadata": {},
   "outputs": [],
   "source": [
    "def sarima_model(training_data, order, seasonal_order, timesteps, days):\n",
    "    \n",
    "    k = timesteps*days\n",
    "\n",
    "    # Inicializar df con la información\n",
    "    df = pd.DataFrame()\n",
    "\n",
    "    # Calcular cantidad de días a pronósticar\n",
    "    days_forecast = training_data.index[-1]-training_data.index[k-1]\n",
    "    days_forecast = days_forecast.days\n",
    "\n",
    "    for i in range(days_forecast):\n",
    "        \n",
    "        # Training set\n",
    "        train = training_data[timesteps*i:k+timesteps*i]\n",
    "        model = sm.tsa.SARIMAX(train['nonshiftable'].asfreq(\"60min\"), order = order,seasonal_order=seasonal_order, freq=train.index.inferred_freq).fit(disp=False)\n",
    "\n",
    "        for j in range(timesteps):\n",
    "\n",
    "            # Prediction\n",
    "            forecast_dates=[train.index[-1]+ DateOffset(minutes=60*j) + DateOffset(minutes=60*x)for x in range(1,timesteps+1-j)]\n",
    "            df_forecast = training_data.loc[forecast_dates].copy()\n",
    "            forecast = model.get_prediction(start = forecast_dates[0], end = forecast_dates[-1])\n",
    "            forecast_mean = forecast.predicted_mean\n",
    "            forecast_mean.index = forecast_dates\n",
    "            forecast_U = forecast.predicted_mean + forecast.se_mean\n",
    "            forecast_L = forecast.predicted_mean - forecast.se_mean\n",
    "            forecast_U.index = forecast_dates\n",
    "            forecast_L.index = forecast_dates\n",
    "\n",
    "            # MSE\n",
    "            df_forecast['forecast'] = forecast_mean\n",
    "            #df_forecast['MSE'] = (df_forecast['forecast']-df_forecast['p'])**2\n",
    "            df_forecast['Upper bound'] = forecast_U\n",
    "            df_forecast['Lower bound'] = forecast_L\n",
    "\n",
    "            # Update model with new data\n",
    "            new_data = train.index[-1]+DateOffset(minutes=60*(j+1))\n",
    "            model = model.extend(training_data['nonshiftable'][new_data:new_data].asfreq(\"60min\"))\n",
    "\n",
    "            # Update dataframe\n",
    "            df_forecast['From'] = train.index[-1] + DateOffset(minutes=60*j)\n",
    "            df_forecast['Day'] = train.index[-1] + DateOffset(minutes=60)\n",
    "            df = pd.concat([df, df_forecast.reset_index(names='local_15min')])\n",
    "\n",
    "\n",
    "        #print(str(i)+\"|\"+str(days_forecast-1),'train:', train.index[0], '->', train.index[-1], '|forecast:', forecast_dates[0], '->', forecast_dates[-1], '|mse:', df_forecast['MSE'].mean())\n",
    "\n",
    "    return df"
   ]
  },
  {
   "cell_type": "code",
   "execution_count": 7,
   "metadata": {},
   "outputs": [],
   "source": [
    "def auto_sarima(training_data, order_limits, timesteps, days, ruta):\n",
    "\n",
    "    # Crear libro de excel\n",
    "    book = op.Workbook()\n",
    "    sheet = book.active\n",
    "    sheet.title = 'Resultados'\n",
    "    sheet.cell(3,1).value = 'p'\n",
    "    sheet.cell(3,2).value = 'd'\n",
    "    sheet.cell(3,3).value = 'q'\n",
    "    sheet.cell(3,4).value = 'sp'\n",
    "    sheet.cell(3,5).value = 'sd'\n",
    "    sheet.cell(3,6).value = 'sq'\n",
    "    sheet.cell(3,7).value = 's'\n",
    "    sheet.cell(3,8).value = 'mse_mean'\n",
    "    sheet.cell(3,9).value = 'mse_sd'\n",
    "\n",
    "    # Inicializar lista con el mse de cada modelo y el contador\n",
    "    mse_models = {}\n",
    "    c = 3\n",
    "    for p in order_limits['p']:\n",
    "        for d in order_limits['d']:\n",
    "            for q in order_limits['q']:\n",
    "                for s in order_limits['s']:\n",
    "                    for sp in order_limits['sp']:\n",
    "                        for sd in order_limits['sd']:\n",
    "                            for sq in order_limits['sq']:\n",
    "\n",
    "                                if(s == 0 and sp+sd+sq!=0):\n",
    "                                    continue\n",
    "                          \n",
    "                            \n",
    "                                #print(\" Model:\", \"({}, {}, {}), s({}, {}, {}, {})\".format(p,d,q,sp,sd,sq,s))\n",
    "                                time.sleep(0.1)\n",
    "                                df = sarima_model(training_data=training_data, order=(p,d,q), seasonal_order=(sp,sd,sq,s), timesteps=timesteps, days=days)\n",
    "                                df['mse'] = (df['nonshiftable']-df['forecast'])**2\n",
    "                                mse_mean = df['mse'].mean()\n",
    "                                #print(mse_mean)\n",
    "                                mse_sd = df['mse'].var()**(1/2)\n",
    "                                mse_models[\"({}, {}, {}), s({}, {}, {}, {})\".format(p,d,q,sp,sd,sq,s)] = mse_mean\n",
    "                                c = c+1\n",
    "                                sheet.cell(c,1).value = p\n",
    "                                sheet.cell(c,2).value = d\n",
    "                                sheet.cell(c,3).value = q\n",
    "                                sheet.cell(c,4).value = sp\n",
    "                                sheet.cell(c,5).value = sd\n",
    "                                sheet.cell(c,6).value = sq\n",
    "                                sheet.cell(c,7).value = s\n",
    "                                sheet.cell(c,8).value = mse_mean\n",
    "                                sheet.cell(c,9).value = mse_sd\n",
    "\n",
    "                                book.save(ruta)\n",
    "\n",
    "    # best model\n",
    "    sheet.cell(1,1).value = 'Mejor modelo:'\n",
    "    sheet.cell(1,2).value = min(mse_models, key=mse_models.get)\n",
    "    sheet.cell(1,3).value = min(mse_models.values())\n",
    "\n",
    "    book.save(ruta)"
   ]
  },
  {
   "cell_type": "code",
   "execution_count": null,
   "metadata": {},
   "outputs": [],
   "source": [
    "# Parámetros\n",
    "timesteps = 24\n",
    "days = 31 # 5 dias de observación\n",
    "ruta = 'resultados/60min/sarima/sarima2_i{}.xlsx'.format(INSTANCE)\n",
    "\n",
    "order_limits = {\n",
    "    'p' : range(1,1+ 2),\n",
    "    'd' : range(1,1+ 1),\n",
    "    'q' : range(1,1+ 2),\n",
    "    'sp' : range(1,1+ 1),\n",
    "    'sd' : range(0,1+ 0),\n",
    "    'sq' : range(1,1+ 1),\n",
    "    's': [24]\n",
    "}\n",
    "\n",
    "auto_sarima(training_data=training_data, order_limits=order_limits, timesteps=timesteps, days=days, ruta=ruta)\n",
    "    "
   ]
  },
  {
   "cell_type": "code",
   "execution_count": null,
   "metadata": {},
   "outputs": [],
   "source": [
    "for i in tqdm(range(len(instances))):\n",
    "\n",
    "    if i<2:\n",
    "        continue\n",
    "\n",
    "    data_series = pd.read_csv(\"../instances/{n}/series_{n}.csv\".format(n=instances[i]))\n",
    "    data_series['local_15min'] = pd.to_datetime(data_series['local_15min'])\n",
    "    data_series.index = data_series['local_15min']\n",
    "    data_series.drop(columns=['local_15min'], inplace=True)\n",
    "    data_demand = data_series[['nonshiftable']]\n",
    "    data_demand_hourly = data_demand.resample(\"H\").mean()\n",
    "\n",
    "    start_date = \"2019-05-17\"\n",
    "    end_date = \"2019-08-01\"\n",
    "    training_data = data_demand_hourly[(data_demand_hourly.index >= start_date) & (data_demand_hourly.index<end_date)]\n",
    "\n",
    "    timesteps = 24\n",
    "    days = 15 # 5 dias de observación\n",
    "    ruta = 'resultados/60min/sarima_15/sarima_i{}.xlsx'.format(i)\n",
    "    order_limits = {\n",
    "        'p' : range(1,1+ 2),\n",
    "        'd' : range(0,1+ 1),\n",
    "        'q' : range(1,1+ 2),\n",
    "        'sp' : range(1,1+ 1),\n",
    "        'sd' : range(0,1+ 0),\n",
    "        'sq' : range(1,1+ 1),\n",
    "        's': [24]\n",
    "    }\n",
    "   \n",
    "    auto_sarima(training_data=training_data, order_limits=order_limits, timesteps=timesteps, days=days, ruta=ruta)"
   ]
  },
  {
   "cell_type": "code",
   "execution_count": null,
   "metadata": {},
   "outputs": [],
   "source": [
    "# Mejor modelo\n",
    "\n",
    "# Parámetros\n",
    "timesteps = 24\n",
    "days = 31\n",
    "df = sarima_model(training_data=training_data, order=(1,1,2), seasonal_order=(1,0,1,24), timesteps=timesteps, days=days)\n",
    "df['mse'] = (df['nonshiftable']-df['forecast'])**2\n",
    "df['mae'] = abs(df['nonshiftable']-df['forecast'])\n",
    "df['mape'] = abs(df['nonshiftable']-df['forecast'])/df['nonshiftable']\n",
    "mse_mean = df['mse'].mean()\n",
    "mse_sd = df['mse'].var()**(1/2)\n",
    "mae = df['mae'].mean()\n",
    "mape = df['mape'].mean()\n",
    "print('mse:', mse_mean)\n",
    "print('mse_sd:',mse_sd)\n",
    "print('mae',np.round(mae,2))\n",
    "print('mape',np.round(mape,4))\n",
    "\n"
   ]
  },
  {
   "cell_type": "code",
   "execution_count": 21,
   "metadata": {},
   "outputs": [
    {
     "data": {
      "text/html": [
       "<div>\n",
       "<style scoped>\n",
       "    .dataframe tbody tr th:only-of-type {\n",
       "        vertical-align: middle;\n",
       "    }\n",
       "\n",
       "    .dataframe tbody tr th {\n",
       "        vertical-align: top;\n",
       "    }\n",
       "\n",
       "    .dataframe thead th {\n",
       "        text-align: right;\n",
       "    }\n",
       "</style>\n",
       "<table border=\"1\" class=\"dataframe\">\n",
       "  <thead>\n",
       "    <tr style=\"text-align: right;\">\n",
       "      <th></th>\n",
       "      <th>local_15min</th>\n",
       "      <th>nonshiftable</th>\n",
       "      <th>forecast</th>\n",
       "      <th>Upper bound</th>\n",
       "      <th>Lower bound</th>\n",
       "      <th>From</th>\n",
       "      <th>Day</th>\n",
       "      <th>mse</th>\n",
       "      <th>mae</th>\n",
       "      <th>mape</th>\n",
       "    </tr>\n",
       "  </thead>\n",
       "  <tbody>\n",
       "    <tr>\n",
       "      <th>0</th>\n",
       "      <td>2019-06-01 00:00:00</td>\n",
       "      <td>0.055313</td>\n",
       "      <td>0.086360</td>\n",
       "      <td>0.213500</td>\n",
       "      <td>-0.040781</td>\n",
       "      <td>2019-05-31 23:00:00</td>\n",
       "      <td>2019-06-01</td>\n",
       "      <td>0.000964</td>\n",
       "      <td>0.031047</td>\n",
       "      <td>0.561304</td>\n",
       "    </tr>\n",
       "    <tr>\n",
       "      <th>1</th>\n",
       "      <td>2019-06-01 01:00:00</td>\n",
       "      <td>0.074063</td>\n",
       "      <td>0.093332</td>\n",
       "      <td>0.236297</td>\n",
       "      <td>-0.049633</td>\n",
       "      <td>2019-05-31 23:00:00</td>\n",
       "      <td>2019-06-01</td>\n",
       "      <td>0.000371</td>\n",
       "      <td>0.019270</td>\n",
       "      <td>0.260183</td>\n",
       "    </tr>\n",
       "    <tr>\n",
       "      <th>2</th>\n",
       "      <td>2019-06-01 02:00:00</td>\n",
       "      <td>0.049875</td>\n",
       "      <td>0.110693</td>\n",
       "      <td>0.257478</td>\n",
       "      <td>-0.036092</td>\n",
       "      <td>2019-05-31 23:00:00</td>\n",
       "      <td>2019-06-01</td>\n",
       "      <td>0.003699</td>\n",
       "      <td>0.060818</td>\n",
       "      <td>1.219408</td>\n",
       "    </tr>\n",
       "    <tr>\n",
       "      <th>3</th>\n",
       "      <td>2019-06-01 03:00:00</td>\n",
       "      <td>0.112375</td>\n",
       "      <td>0.125111</td>\n",
       "      <td>0.272876</td>\n",
       "      <td>-0.022653</td>\n",
       "      <td>2019-05-31 23:00:00</td>\n",
       "      <td>2019-06-01</td>\n",
       "      <td>0.000162</td>\n",
       "      <td>0.012736</td>\n",
       "      <td>0.113339</td>\n",
       "    </tr>\n",
       "    <tr>\n",
       "      <th>4</th>\n",
       "      <td>2019-06-01 04:00:00</td>\n",
       "      <td>0.137750</td>\n",
       "      <td>0.201356</td>\n",
       "      <td>0.349379</td>\n",
       "      <td>0.053333</td>\n",
       "      <td>2019-05-31 23:00:00</td>\n",
       "      <td>2019-06-01</td>\n",
       "      <td>0.004046</td>\n",
       "      <td>0.063606</td>\n",
       "      <td>0.461748</td>\n",
       "    </tr>\n",
       "  </tbody>\n",
       "</table>\n",
       "</div>"
      ],
      "text/plain": [
       "          local_15min  nonshiftable  forecast  Upper bound  Lower bound  \\\n",
       "0 2019-06-01 00:00:00      0.055313  0.086360     0.213500    -0.040781   \n",
       "1 2019-06-01 01:00:00      0.074063  0.093332     0.236297    -0.049633   \n",
       "2 2019-06-01 02:00:00      0.049875  0.110693     0.257478    -0.036092   \n",
       "3 2019-06-01 03:00:00      0.112375  0.125111     0.272876    -0.022653   \n",
       "4 2019-06-01 04:00:00      0.137750  0.201356     0.349379     0.053333   \n",
       "\n",
       "                  From        Day       mse       mae      mape  \n",
       "0  2019-05-31 23:00:00 2019-06-01  0.000964  0.031047  0.561304  \n",
       "1  2019-05-31 23:00:00 2019-06-01  0.000371  0.019270  0.260183  \n",
       "2  2019-05-31 23:00:00 2019-06-01  0.003699  0.060818  1.219408  \n",
       "3  2019-05-31 23:00:00 2019-06-01  0.000162  0.012736  0.113339  \n",
       "4  2019-05-31 23:00:00 2019-06-01  0.004046  0.063606  0.461748  "
      ]
     },
     "execution_count": 21,
     "metadata": {},
     "output_type": "execute_result"
    }
   ],
   "source": [
    "dias = df['Day'].unique()\n",
    "df['From'] = df['From'].astype(str)\n",
    "df = df.reset_index(drop=True)\n",
    "df.head()"
   ]
  },
  {
   "cell_type": "code",
   "execution_count": 23,
   "metadata": {},
   "outputs": [],
   "source": [
    "df_real= df[['local_15min', 'nonshiftable']].drop_duplicates()"
   ]
  },
  {
   "cell_type": "code",
   "execution_count": 39,
   "metadata": {},
   "outputs": [
    {
     "data": {
      "application/vnd.plotly.v1+json": {
       "config": {
        "plotlyServerURL": "https://plot.ly"
       },
       "data": [
        {
         "hovertemplate": "=Forecast at 23:00<br>local_15min=%{x}<br>forecast=%{y}<extra></extra>",
         "legendgroup": "Forecast at 23:00",
         "line": {
          "color": "rgba(41.0, 24.0, 107.0, 0.5)",
          "dash": "solid"
         },
         "marker": {
          "symbol": "circle"
         },
         "mode": "lines",
         "name": "Forecast at 23:00",
         "orientation": "v",
         "showlegend": false,
         "type": "scatter",
         "x": [
          "2019-06-04T00:00:00",
          "2019-06-04T01:00:00",
          "2019-06-04T02:00:00",
          "2019-06-04T03:00:00",
          "2019-06-04T04:00:00",
          "2019-06-04T05:00:00",
          "2019-06-04T06:00:00",
          "2019-06-04T07:00:00",
          "2019-06-04T08:00:00",
          "2019-06-04T09:00:00",
          "2019-06-04T10:00:00",
          "2019-06-04T11:00:00",
          "2019-06-04T12:00:00",
          "2019-06-04T13:00:00",
          "2019-06-04T14:00:00",
          "2019-06-04T15:00:00",
          "2019-06-04T16:00:00",
          "2019-06-04T17:00:00",
          "2019-06-04T18:00:00",
          "2019-06-04T19:00:00",
          "2019-06-04T20:00:00",
          "2019-06-04T21:00:00",
          "2019-06-04T22:00:00",
          "2019-06-04T23:00:00"
         ],
         "xaxis": "x",
         "y": [
          0.07637197773304463,
          0.08854193568813394,
          0.10422301694089858,
          0.12058719590834367,
          0.17884139416122935,
          0.282179469408144,
          0.25069526204055836,
          0.22022394407269508,
          0.1710120022909927,
          0.16731738508686692,
          0.16617967895217722,
          0.15464177225444625,
          0.14745255930044587,
          0.13854489407739803,
          0.16618746434644144,
          0.17852330240113345,
          0.19378128706156503,
          0.16964565696869274,
          0.1672325452024945,
          0.14703838519767407,
          0.13886915243554374,
          0.12573303990964133,
          0.10772798961040235,
          0.10132178622421081
         ],
         "yaxis": "y"
        },
        {
         "hovertemplate": "=Forecast at 00:00<br>local_15min=%{x}<br>forecast=%{y}<extra></extra>",
         "legendgroup": "Forecast at 00:00",
         "line": {
          "color": "rgba(41.5, 29.5, 133.5, 0.5)",
          "dash": "solid"
         },
         "marker": {
          "symbol": "circle"
         },
         "mode": "lines",
         "name": "Forecast at 00:00",
         "orientation": "v",
         "showlegend": true,
         "type": "scatter",
         "x": [
          "2019-06-04T01:00:00",
          "2019-06-04T02:00:00",
          "2019-06-04T03:00:00",
          "2019-06-04T04:00:00",
          "2019-06-04T05:00:00",
          "2019-06-04T06:00:00",
          "2019-06-04T07:00:00",
          "2019-06-04T08:00:00",
          "2019-06-04T09:00:00",
          "2019-06-04T10:00:00",
          "2019-06-04T11:00:00",
          "2019-06-04T12:00:00",
          "2019-06-04T13:00:00",
          "2019-06-04T14:00:00",
          "2019-06-04T15:00:00",
          "2019-06-04T16:00:00",
          "2019-06-04T17:00:00",
          "2019-06-04T18:00:00",
          "2019-06-04T19:00:00",
          "2019-06-04T20:00:00",
          "2019-06-04T21:00:00",
          "2019-06-04T22:00:00",
          "2019-06-04T23:00:00"
         ],
         "xaxis": "x",
         "y": [
          0.09142552978238395,
          0.10573241159012362,
          0.12137872595833497,
          0.17925792072465854,
          0.2824000988408787,
          0.2508135572618181,
          0.22028878118007383,
          0.1710489135446227,
          0.16733970821655403,
          0.16619438141445175,
          0.15465249374867432,
          0.147461201135611,
          0.1385524494267557,
          0.16619445194174,
          0.17852999304995157,
          0.19378782190229,
          0.16965210910216694,
          0.16723895161334706,
          0.1470447629045946,
          0.13887550592292358,
          0.12573936308579653,
          0.1077342631474857,
          0.10132796911821852
         ],
         "yaxis": "y"
        },
        {
         "hovertemplate": "=Forecast at 01:00<br>local_15min=%{x}<br>forecast=%{y}<extra></extra>",
         "legendgroup": "Forecast at 01:00",
         "line": {
          "color": "rgba(42.0, 35.0, 160.0, 0.5)",
          "dash": "solid"
         },
         "marker": {
          "symbol": "circle"
         },
         "mode": "lines",
         "name": "Forecast at 01:00",
         "orientation": "v",
         "showlegend": false,
         "type": "scatter",
         "x": [
          "2019-06-04T02:00:00",
          "2019-06-04T03:00:00",
          "2019-06-04T04:00:00",
          "2019-06-04T05:00:00",
          "2019-06-04T06:00:00",
          "2019-06-04T07:00:00",
          "2019-06-04T08:00:00",
          "2019-06-04T09:00:00",
          "2019-06-04T10:00:00",
          "2019-06-04T11:00:00",
          "2019-06-04T12:00:00",
          "2019-06-04T13:00:00",
          "2019-06-04T14:00:00",
          "2019-06-04T15:00:00",
          "2019-06-04T16:00:00",
          "2019-06-04T17:00:00",
          "2019-06-04T18:00:00",
          "2019-06-04T19:00:00",
          "2019-06-04T20:00:00",
          "2019-06-04T21:00:00",
          "2019-06-04T22:00:00",
          "2019-06-04T23:00:00"
         ],
         "xaxis": "x",
         "y": [
          0.0934488377112498,
          0.11494894465019012,
          0.17588608742566667,
          0.2806256993277175,
          0.2498736371752275,
          0.21978478270763394,
          0.17077263507184062,
          0.1671823878261674,
          0.16609920324450533,
          0.15458977790943937,
          0.1474154432350867,
          0.138515550185773,
          0.16616218043886927,
          0.17850013918265414,
          0.19375923128974773,
          0.16962417899570204,
          0.16721136769096737,
          0.1470173620143459,
          0.13884820483846227,
          0.12571212216350186,
          0.10770706901507024,
          0.10130082883538051
         ],
         "yaxis": "y"
        },
        {
         "hovertemplate": "=Forecast at 02:00<br>local_15min=%{x}<br>forecast=%{y}<extra></extra>",
         "legendgroup": "Forecast at 02:00",
         "line": {
          "color": "rgba(42.0, 35.0, 160.0, 0.5)",
          "dash": "solid"
         },
         "marker": {
          "symbol": "circle"
         },
         "mode": "lines",
         "name": "Forecast at 02:00",
         "orientation": "v",
         "showlegend": true,
         "type": "scatter",
         "x": [
          "2019-06-04T03:00:00",
          "2019-06-04T04:00:00",
          "2019-06-04T05:00:00",
          "2019-06-04T06:00:00",
          "2019-06-04T07:00:00",
          "2019-06-04T08:00:00",
          "2019-06-04T09:00:00",
          "2019-06-04T10:00:00",
          "2019-06-04T11:00:00",
          "2019-06-04T12:00:00",
          "2019-06-04T13:00:00",
          "2019-06-04T14:00:00",
          "2019-06-04T15:00:00",
          "2019-06-04T16:00:00",
          "2019-06-04T17:00:00",
          "2019-06-04T18:00:00",
          "2019-06-04T19:00:00",
          "2019-06-04T20:00:00",
          "2019-06-04T21:00:00",
          "2019-06-04T22:00:00",
          "2019-06-04T23:00:00"
         ],
         "xaxis": "x",
         "y": [
          0.11683114301879163,
          0.17687131479911528,
          0.281142360274209,
          0.25014552488188446,
          0.21992880393572545,
          0.1708498604508364,
          0.16722471988866272,
          0.16612330747394136,
          0.15460436014494253,
          0.14742505129630692,
          0.13852255979335498,
          0.16616783263295754,
          0.17850508225445982,
          0.19376380387430223,
          0.16962855794540807,
          0.16721564530267347,
          0.1470215863330997,
          0.1388524006375957,
          0.12571630176253307,
          0.10771123765933276,
          0.10130498698653083
         ],
         "yaxis": "y"
        },
        {
         "hovertemplate": "=Forecast at 03:00<br>local_15min=%{x}<br>forecast=%{y}<extra></extra>",
         "legendgroup": "Forecast at 03:00",
         "line": {
          "color": "rgba(28.5, 53.0, 156.5, 0.5)",
          "dash": "solid"
         },
         "marker": {
          "symbol": "circle"
         },
         "mode": "lines",
         "name": "Forecast at 03:00",
         "orientation": "v",
         "showlegend": false,
         "type": "scatter",
         "x": [
          "2019-06-04T04:00:00",
          "2019-06-04T05:00:00",
          "2019-06-04T06:00:00",
          "2019-06-04T07:00:00",
          "2019-06-04T08:00:00",
          "2019-06-04T09:00:00",
          "2019-06-04T10:00:00",
          "2019-06-04T11:00:00",
          "2019-06-04T12:00:00",
          "2019-06-04T13:00:00",
          "2019-06-04T14:00:00",
          "2019-06-04T15:00:00",
          "2019-06-04T16:00:00",
          "2019-06-04T17:00:00",
          "2019-06-04T18:00:00",
          "2019-06-04T19:00:00",
          "2019-06-04T20:00:00",
          "2019-06-04T21:00:00",
          "2019-06-04T22:00:00",
          "2019-06-04T23:00:00"
         ],
         "xaxis": "x",
         "y": [
          0.1592712964956999,
          0.27192972587210473,
          0.24531435490583042,
          0.21738645616585273,
          0.1695031647713269,
          0.16650261790877904,
          0.16572748543879484,
          0.15437898268962225,
          0.14728871199248317,
          0.13843273297345948,
          0.166102303481902,
          0.178452246148782,
          0.19371759892983284,
          0.1695858179422342,
          0.167174717075135,
          0.14698160787319253,
          0.13881292467737508,
          0.12567710046325353,
          0.10767220311989775,
          0.1012660841257497
         ],
         "yaxis": "y"
        },
        {
         "hovertemplate": "=Forecast at 04:00<br>local_15min=%{x}<br>forecast=%{y}<extra></extra>",
         "legendgroup": "Forecast at 04:00",
         "line": {
          "color": "rgba(15.0, 71.0, 153.0, 0.5)",
          "dash": "solid"
         },
         "marker": {
          "symbol": "circle"
         },
         "mode": "lines",
         "name": "Forecast at 04:00",
         "orientation": "v",
         "showlegend": true,
         "type": "scatter",
         "x": [
          "2019-06-04T05:00:00",
          "2019-06-04T06:00:00",
          "2019-06-04T07:00:00",
          "2019-06-04T08:00:00",
          "2019-06-04T09:00:00",
          "2019-06-04T10:00:00",
          "2019-06-04T11:00:00",
          "2019-06-04T12:00:00",
          "2019-06-04T13:00:00",
          "2019-06-04T14:00:00",
          "2019-06-04T15:00:00",
          "2019-06-04T16:00:00",
          "2019-06-04T17:00:00",
          "2019-06-04T18:00:00",
          "2019-06-04T19:00:00",
          "2019-06-04T20:00:00",
          "2019-06-04T21:00:00",
          "2019-06-04T22:00:00",
          "2019-06-04T23:00:00"
         ],
         "xaxis": "x",
         "y": [
          0.23551250167377255,
          0.2262519716198529,
          0.20739002466928858,
          0.16424267308149754,
          0.16371612193858737,
          0.16423337390316295,
          0.15355999665315392,
          0.14682240314392675,
          0.13815065841540253,
          0.16591647087944367,
          0.17831668965104178,
          0.19360830701861856,
          0.16949024819533665,
          0.1670863192004531,
          0.14689696335802047,
          0.13873025400836936,
          0.12559548605692544,
          0.10759118863657618,
          0.10118547519732173
         ],
         "yaxis": "y"
        },
        {
         "hovertemplate": "=Forecast at 05:00<br>local_15min=%{x}<br>forecast=%{y}<extra></extra>",
         "legendgroup": "Forecast at 05:00",
         "line": {
          "color": "rgba(15.0, 71.0, 153.0, 0.5)",
          "dash": "solid"
         },
         "marker": {
          "symbol": "circle"
         },
         "mode": "lines",
         "name": "Forecast at 05:00",
         "orientation": "v",
         "showlegend": false,
         "type": "scatter",
         "x": [
          "2019-06-04T06:00:00",
          "2019-06-04T07:00:00",
          "2019-06-04T08:00:00",
          "2019-06-04T09:00:00",
          "2019-06-04T10:00:00",
          "2019-06-04T11:00:00",
          "2019-06-04T12:00:00",
          "2019-06-04T13:00:00",
          "2019-06-04T14:00:00",
          "2019-06-04T15:00:00",
          "2019-06-04T16:00:00",
          "2019-06-04T17:00:00",
          "2019-06-04T18:00:00",
          "2019-06-04T19:00:00",
          "2019-06-04T20:00:00",
          "2019-06-04T21:00:00",
          "2019-06-04T22:00:00",
          "2019-06-04T23:00:00"
         ],
         "xaxis": "x",
         "y": [
          0.1649946195573267,
          0.1753252480670317,
          0.14742773271477524,
          0.15486750526597026,
          0.15954626510444278,
          0.15104680757199548,
          0.14544484265034283,
          0.13736633632391815,
          0.16544204955675218,
          0.17800415747239143,
          0.1933803453484301,
          0.16930646824947462,
          0.16692562526214,
          0.14674834079956284,
          0.13858795947539818,
          0.12545653948745342,
          0.10745407194156138,
          0.10104946934869175
         ],
         "yaxis": "y"
        },
        {
         "hovertemplate": "=Forecast at 06:00<br>local_15min=%{x}<br>forecast=%{y}<extra></extra>",
         "legendgroup": "Forecast at 06:00",
         "line": {
          "color": "rgba(16.5, 83.0, 147.5, 0.5)",
          "dash": "solid"
         },
         "marker": {
          "symbol": "circle"
         },
         "mode": "lines",
         "name": "Forecast at 06:00",
         "orientation": "v",
         "showlegend": true,
         "type": "scatter",
         "x": [
          "2019-06-04T07:00:00",
          "2019-06-04T08:00:00",
          "2019-06-04T09:00:00",
          "2019-06-04T10:00:00",
          "2019-06-04T11:00:00",
          "2019-06-04T12:00:00",
          "2019-06-04T13:00:00",
          "2019-06-04T14:00:00",
          "2019-06-04T15:00:00",
          "2019-06-04T16:00:00",
          "2019-06-04T17:00:00",
          "2019-06-04T18:00:00",
          "2019-06-04T19:00:00",
          "2019-06-04T20:00:00",
          "2019-06-04T21:00:00",
          "2019-06-04T22:00:00",
          "2019-06-04T23:00:00"
         ],
         "xaxis": "x",
         "y": [
          0.1596593162116337,
          0.13922750575026968,
          0.15056726914626298,
          0.15728333542239478,
          0.14984814130298527,
          0.1448021343058597,
          0.13701405350420215,
          0.165241481512729,
          0.177882843548888,
          0.1933004332064554,
          0.16924818468505728,
          0.1668786417367204,
          0.14670726322240668,
          0.1385499727374525,
          0.12542017817278048,
          0.107418580416407,
          0.1010144717948953
         ],
         "yaxis": "y"
        },
        {
         "hovertemplate": "=Forecast at 07:00<br>local_15min=%{x}<br>forecast=%{y}<extra></extra>",
         "legendgroup": "Forecast at 07:00",
         "line": {
          "color": "rgba(18.0, 95.0, 142.0, 0.5)",
          "dash": "solid"
         },
         "marker": {
          "symbol": "circle"
         },
         "mode": "lines",
         "name": "Forecast at 07:00",
         "orientation": "v",
         "showlegend": false,
         "type": "scatter",
         "x": [
          "2019-06-04T08:00:00",
          "2019-06-04T09:00:00",
          "2019-06-04T10:00:00",
          "2019-06-04T11:00:00",
          "2019-06-04T12:00:00",
          "2019-06-04T13:00:00",
          "2019-06-04T14:00:00",
          "2019-06-04T15:00:00",
          "2019-06-04T16:00:00",
          "2019-06-04T17:00:00",
          "2019-06-04T18:00:00",
          "2019-06-04T19:00:00",
          "2019-06-04T20:00:00",
          "2019-06-04T21:00:00",
          "2019-06-04T22:00:00",
          "2019-06-04T23:00:00"
         ],
         "xaxis": "x",
         "y": [
          0.2572054764893218,
          0.21232199570857552,
          0.18966774250545404,
          0.1668898607845638,
          0.15382902548312608,
          0.14185409818829306,
          0.16789436910194053,
          0.17939318597956078,
          0.19421392117476838,
          0.16984987729084355,
          0.16731744474897933,
          0.14706095254938722,
          0.13885915724406028,
          0.1257060325684967,
          0.10769209172772243,
          0.10128123712830736
         ],
         "yaxis": "y"
        },
        {
         "hovertemplate": "=Forecast at 08:00<br>local_15min=%{x}<br>forecast=%{y}<extra></extra>",
         "legendgroup": "Forecast at 08:00",
         "line": {
          "color": "rgba(18.0, 95.0, 142.0, 0.5)",
          "dash": "solid"
         },
         "marker": {
          "symbol": "circle"
         },
         "mode": "lines",
         "name": "Forecast at 08:00",
         "orientation": "v",
         "showlegend": true,
         "type": "scatter",
         "x": [
          "2019-06-04T09:00:00",
          "2019-06-04T10:00:00",
          "2019-06-04T11:00:00",
          "2019-06-04T12:00:00",
          "2019-06-04T13:00:00",
          "2019-06-04T14:00:00",
          "2019-06-04T15:00:00",
          "2019-06-04T16:00:00",
          "2019-06-04T17:00:00",
          "2019-06-04T18:00:00",
          "2019-06-04T19:00:00",
          "2019-06-04T20:00:00",
          "2019-06-04T21:00:00",
          "2019-06-04T22:00:00",
          "2019-06-04T23:00:00"
         ],
         "xaxis": "x",
         "y": [
          0.220196542400623,
          0.19378961435442613,
          0.16905138223260832,
          0.1549664843896461,
          0.14245659960386825,
          0.16821741535885737,
          0.17957024824723955,
          0.19431472302157501,
          0.16991084124362937,
          0.16735759711061068,
          0.1470902317150956,
          0.1388827535530772,
          0.12572665479695028,
          0.10771114994424287,
          0.10129945843615704
         ],
         "yaxis": "y"
        },
        {
         "hovertemplate": "=Forecast at 09:00<br>local_15min=%{x}<br>forecast=%{y}<extra></extra>",
         "legendgroup": "Forecast at 09:00",
         "line": {
          "color": "rgba(28.0, 105.5, 139.5, 0.5)",
          "dash": "solid"
         },
         "marker": {
          "symbol": "circle"
         },
         "mode": "lines",
         "name": "Forecast at 09:00",
         "orientation": "v",
         "showlegend": false,
         "type": "scatter",
         "x": [
          "2019-06-04T10:00:00",
          "2019-06-04T11:00:00",
          "2019-06-04T12:00:00",
          "2019-06-04T13:00:00",
          "2019-06-04T14:00:00",
          "2019-06-04T15:00:00",
          "2019-06-04T16:00:00",
          "2019-06-04T17:00:00",
          "2019-06-04T18:00:00",
          "2019-06-04T19:00:00",
          "2019-06-04T20:00:00",
          "2019-06-04T21:00:00",
          "2019-06-04T22:00:00",
          "2019-06-04T23:00:00"
         ],
         "xaxis": "x",
         "y": [
          0.11696481661675073,
          0.12883805668932224,
          0.13387853407090958,
          0.13135950634085009,
          0.16233942139975766,
          0.17641864755011336,
          0.19258735811687222,
          0.16892748324161622,
          0.16676290655266607,
          0.14669859061203977,
          0.13859721059563995,
          0.12549658911453618,
          0.10751016622150925,
          0.10111386073099154
         ],
         "yaxis": "y"
        },
        {
         "hovertemplate": "=Forecast at 10:00<br>local_15min=%{x}<br>forecast=%{y}<extra></extra>",
         "legendgroup": "Forecast at 10:00",
         "line": {
          "color": "rgba(38.0, 116.0, 137.0, 0.5)",
          "dash": "solid"
         },
         "marker": {
          "symbol": "circle"
         },
         "mode": "lines",
         "name": "Forecast at 10:00",
         "orientation": "v",
         "showlegend": true,
         "type": "scatter",
         "x": [
          "2019-06-04T11:00:00",
          "2019-06-04T12:00:00",
          "2019-06-04T13:00:00",
          "2019-06-04T14:00:00",
          "2019-06-04T15:00:00",
          "2019-06-04T16:00:00",
          "2019-06-04T17:00:00",
          "2019-06-04T18:00:00",
          "2019-06-04T19:00:00",
          "2019-06-04T20:00:00",
          "2019-06-04T21:00:00",
          "2019-06-04T22:00:00",
          "2019-06-04T23:00:00"
         ],
         "xaxis": "x",
         "y": [
          0.13720454118668085,
          0.13825789980152856,
          0.13365605107392364,
          0.16354792643825847,
          0.1770587741462349,
          0.19293057070080522,
          0.16911559123073086,
          0.16686998902017788,
          0.14676334478789918,
          0.13863984999070084,
          0.1255276702612999,
          0.10753519845103172,
          0.10113571196162807
         ],
         "yaxis": "y"
        },
        {
         "hovertemplate": "=Forecast at 11:00<br>local_15min=%{x}<br>forecast=%{y}<extra></extra>",
         "legendgroup": "Forecast at 11:00",
         "line": {
          "color": "rgba(38.0, 116.0, 137.0, 0.5)",
          "dash": "solid"
         },
         "marker": {
          "symbol": "circle"
         },
         "mode": "lines",
         "name": "Forecast at 11:00",
         "orientation": "v",
         "showlegend": false,
         "type": "scatter",
         "x": [
          "2019-06-04T12:00:00",
          "2019-06-04T13:00:00",
          "2019-06-04T14:00:00",
          "2019-06-04T15:00:00",
          "2019-06-04T16:00:00",
          "2019-06-04T17:00:00",
          "2019-06-04T18:00:00",
          "2019-06-04T19:00:00",
          "2019-06-04T20:00:00",
          "2019-06-04T21:00:00",
          "2019-06-04T22:00:00",
          "2019-06-04T23:00:00"
         ],
         "xaxis": "x",
         "y": [
          0.10879956800424948,
          0.11823634861255779,
          0.15546182853663798,
          0.17280365993698016,
          0.1906767152370902,
          0.1679071698117854,
          0.1662076921614673,
          0.14638634210642218,
          0.13841189202146312,
          0.12537759168247303,
          0.10742584194630002,
          0.10104770253825524
         ],
         "yaxis": "y"
        },
        {
         "hovertemplate": "=Forecast at 12:00<br>local_15min=%{x}<br>forecast=%{y}<extra></extra>",
         "legendgroup": "Forecast at 12:00",
         "line": {
          "color": "rgba(45.5, 126.0, 136.5, 0.5)",
          "dash": "solid"
         },
         "marker": {
          "symbol": "circle"
         },
         "mode": "lines",
         "name": "Forecast at 12:00",
         "orientation": "v",
         "showlegend": true,
         "type": "scatter",
         "x": [
          "2019-06-04T13:00:00",
          "2019-06-04T14:00:00",
          "2019-06-04T15:00:00",
          "2019-06-04T16:00:00",
          "2019-06-04T17:00:00",
          "2019-06-04T18:00:00",
          "2019-06-04T19:00:00",
          "2019-06-04T20:00:00",
          "2019-06-04T21:00:00",
          "2019-06-04T22:00:00",
          "2019-06-04T23:00:00"
         ],
         "xaxis": "x",
         "y": [
          0.11002787872051614,
          0.1511651813885945,
          0.17055050016921794,
          0.18949104793332974,
          0.16727914763862758,
          0.1658709776354669,
          0.14620180459587023,
          0.1383068528372304,
          0.1253140870902497,
          0.1073840453418499,
          0.10101726665923177
         ],
         "yaxis": "y"
        },
        {
         "hovertemplate": "=Forecast at 13:00<br>local_15min=%{x}<br>forecast=%{y}<extra></extra>",
         "legendgroup": "Forecast at 13:00",
         "line": {
          "color": "rgba(53.0, 136.0, 136.0, 0.5)",
          "dash": "solid"
         },
         "marker": {
          "symbol": "circle"
         },
         "mode": "lines",
         "name": "Forecast at 13:00",
         "orientation": "v",
         "showlegend": false,
         "type": "scatter",
         "x": [
          "2019-06-04T14:00:00",
          "2019-06-04T15:00:00",
          "2019-06-04T16:00:00",
          "2019-06-04T17:00:00",
          "2019-06-04T18:00:00",
          "2019-06-04T19:00:00",
          "2019-06-04T20:00:00",
          "2019-06-04T21:00:00",
          "2019-06-04T22:00:00",
          "2019-06-04T23:00:00"
         ],
         "xaxis": "x",
         "y": [
          0.14121251735727303,
          0.1653408752839292,
          0.1867591276309368,
          0.16584154972695186,
          0.16510951852957703,
          0.14579355382093898,
          0.1380831172693091,
          0.12518674683719602,
          0.1073070739637409,
          0.10096663255929414
         ],
         "yaxis": "y"
        },
        {
         "hovertemplate": "=Forecast at 14:00<br>local_15min=%{x}<br>forecast=%{y}<extra></extra>",
         "legendgroup": "Forecast at 14:00",
         "line": {
          "color": "rgba(53.0, 136.0, 136.0, 0.5)",
          "dash": "solid"
         },
         "marker": {
          "symbol": "circle"
         },
         "mode": "lines",
         "name": "Forecast at 14:00",
         "orientation": "v",
         "showlegend": true,
         "type": "scatter",
         "x": [
          "2019-06-04T15:00:00",
          "2019-06-04T16:00:00",
          "2019-06-04T17:00:00",
          "2019-06-04T18:00:00",
          "2019-06-04T19:00:00",
          "2019-06-04T20:00:00",
          "2019-06-04T21:00:00",
          "2019-06-04T22:00:00",
          "2019-06-04T23:00:00"
         ],
         "xaxis": "x",
         "y": [
          0.12385351598586394,
          0.1650429933778909,
          0.15445365824835897,
          0.1591169759789685,
          0.14261948191765825,
          0.1363813942241765,
          0.1242541892278411,
          0.10677637390866979,
          0.10064596344167201
         ],
         "yaxis": "y"
        },
        {
         "hovertemplate": "=Forecast at 15:00<br>local_15min=%{x}<br>forecast=%{y}<extra></extra>",
         "legendgroup": "Forecast at 15:00",
         "line": {
          "color": "rgba(59.0, 146.5, 134.5, 0.5)",
          "dash": "solid"
         },
         "marker": {
          "symbol": "circle"
         },
         "mode": "lines",
         "name": "Forecast at 15:00",
         "orientation": "v",
         "showlegend": false,
         "type": "scatter",
         "x": [
          "2019-06-04T16:00:00",
          "2019-06-04T17:00:00",
          "2019-06-04T18:00:00",
          "2019-06-04T19:00:00",
          "2019-06-04T20:00:00",
          "2019-06-04T21:00:00",
          "2019-06-04T22:00:00",
          "2019-06-04T23:00:00"
         ],
         "xaxis": "x",
         "y": [
          0.17525726908557238,
          0.15980021143204828,
          0.16192069078963564,
          0.14409484781852583,
          0.13716284353108157,
          0.1246731380256825,
          0.10700594326688503,
          0.1007765771076967
         ],
         "yaxis": "y"
        },
        {
         "hovertemplate": "=Forecast at 16:00<br>local_15min=%{x}<br>forecast=%{y}<extra></extra>",
         "legendgroup": "Forecast at 16:00",
         "line": {
          "color": "rgba(65.0, 157.0, 133.0, 0.5)",
          "dash": "solid"
         },
         "marker": {
          "symbol": "circle"
         },
         "mode": "lines",
         "name": "Forecast at 16:00",
         "orientation": "v",
         "showlegend": true,
         "type": "scatter",
         "x": [
          "2019-06-04T17:00:00",
          "2019-06-04T18:00:00",
          "2019-06-04T19:00:00",
          "2019-06-04T20:00:00",
          "2019-06-04T21:00:00",
          "2019-06-04T22:00:00",
          "2019-06-04T23:00:00"
         ],
         "xaxis": "x",
         "y": [
          0.14273634228220616,
          0.15298880082664107,
          0.13941100537854872,
          0.1346981343406619,
          0.1233676884699634,
          0.10630609976990506,
          0.1003931392957233
         ],
         "yaxis": "y"
        },
        {
         "hovertemplate": "=Forecast at 17:00<br>local_15min=%{x}<br>forecast=%{y}<extra></extra>",
         "legendgroup": "Forecast at 17:00",
         "line": {
          "color": "rgba(65.0, 157.0, 133.0, 0.5)",
          "dash": "solid"
         },
         "marker": {
          "symbol": "circle"
         },
         "mode": "lines",
         "name": "Forecast at 17:00",
         "orientation": "v",
         "showlegend": false,
         "type": "scatter",
         "x": [
          "2019-06-04T18:00:00",
          "2019-06-04T19:00:00",
          "2019-06-04T20:00:00",
          "2019-06-04T21:00:00",
          "2019-06-04T22:00:00",
          "2019-06-04T23:00:00"
         ],
         "xaxis": "x",
         "y": [
          0.13116585670840278,
          0.12798804626728474,
          0.12870800572517072,
          0.12021561867939214,
          0.10463662729803552,
          0.09949821625264334
         ],
         "yaxis": "y"
        },
        {
         "hovertemplate": "=Forecast at 18:00<br>local_15min=%{x}<br>forecast=%{y}<extra></extra>",
         "legendgroup": "Forecast at 18:00",
         "line": {
          "color": "rgba(73.0, 167.5, 128.5, 0.5)",
          "dash": "solid"
         },
         "marker": {
          "symbol": "circle"
         },
         "mode": "lines",
         "name": "Forecast at 18:00",
         "orientation": "v",
         "showlegend": true,
         "type": "scatter",
         "x": [
          "2019-06-04T19:00:00",
          "2019-06-04T20:00:00",
          "2019-06-04T21:00:00",
          "2019-06-04T22:00:00",
          "2019-06-04T23:00:00"
         ],
         "xaxis": "x",
         "y": [
          0.22356860815474972,
          0.17873841565739623,
          0.1464511237055529,
          0.11844182743151101,
          0.10680970449450436
         ],
         "yaxis": "y"
        },
        {
         "hovertemplate": "=Forecast at 19:00<br>local_15min=%{x}<br>forecast=%{y}<extra></extra>",
         "legendgroup": "Forecast at 19:00",
         "line": {
          "color": "rgba(81.0, 178.0, 124.0, 0.5)",
          "dash": "solid"
         },
         "marker": {
          "symbol": "circle"
         },
         "mode": "lines",
         "name": "Forecast at 19:00",
         "orientation": "v",
         "showlegend": false,
         "type": "scatter",
         "x": [
          "2019-06-04T20:00:00",
          "2019-06-04T21:00:00",
          "2019-06-04T22:00:00",
          "2019-06-04T23:00:00"
         ],
         "xaxis": "x",
         "y": [
          0.13702933766488112,
          0.1246191124515181,
          0.10699341761965053,
          0.1007856930149728
         ],
         "yaxis": "y"
        },
        {
         "hovertemplate": "=Forecast at 20:00<br>local_15min=%{x}<br>forecast=%{y}<extra></extra>",
         "legendgroup": "Forecast at 20:00",
         "line": {
          "color": "rgba(81.0, 178.0, 124.0, 0.5)",
          "dash": "solid"
         },
         "marker": {
          "symbol": "circle"
         },
         "mode": "lines",
         "name": "Forecast at 20:00",
         "orientation": "v",
         "showlegend": true,
         "type": "scatter",
         "x": [
          "2019-06-04T21:00:00",
          "2019-06-04T22:00:00",
          "2019-06-04T23:00:00"
         ],
         "xaxis": "x",
         "y": [
          0.10111716038761044,
          0.09469173707272775,
          0.09433498567502731
         ],
         "yaxis": "y"
        },
        {
         "hovertemplate": "=Forecast at 21:00<br>local_15min=%{x}<br>forecast=%{y}<extra></extra>",
         "legendgroup": "Forecast at 21:00",
         "line": {
          "color": "rgba(96.0, 188.0, 115.5, 0.5)",
          "dash": "solid"
         },
         "marker": {
          "symbol": "circle"
         },
         "mode": "lines",
         "name": "Forecast at 21:00",
         "orientation": "v",
         "showlegend": false,
         "type": "scatter",
         "x": [
          "2019-06-04T22:00:00",
          "2019-06-04T23:00:00"
         ],
         "xaxis": "x",
         "y": [
          0.09078703037806786,
          0.09229116595931881
         ],
         "yaxis": "y"
        },
        {
         "hovertemplate": "=Forecast at 22:00<br>local_15min=%{x}<br>forecast=%{y}<extra></extra>",
         "legendgroup": "Forecast at 22:00",
         "line": {
          "color": "rgba(111.0, 198.0, 107.0, 0.5)",
          "dash": "solid"
         },
         "marker": {
          "symbol": "circle"
         },
         "mode": "lines",
         "name": "Forecast at 22:00",
         "orientation": "v",
         "showlegend": true,
         "type": "scatter",
         "x": [
          "2019-06-04T23:00:00"
         ],
         "xaxis": "x",
         "y": [
          0.08452016009764343
         ],
         "yaxis": "y"
        },
        {
         "line": {
          "color": "black"
         },
         "name": "Real energy demand",
         "type": "scatter",
         "x": [
          "2019-06-04T00:00:00",
          "2019-06-04T01:00:00",
          "2019-06-04T02:00:00",
          "2019-06-04T03:00:00",
          "2019-06-04T04:00:00",
          "2019-06-04T05:00:00",
          "2019-06-04T06:00:00",
          "2019-06-04T07:00:00",
          "2019-06-04T08:00:00",
          "2019-06-04T09:00:00",
          "2019-06-04T10:00:00",
          "2019-06-04T11:00:00",
          "2019-06-04T12:00:00",
          "2019-06-04T13:00:00",
          "2019-06-04T14:00:00",
          "2019-06-04T15:00:00",
          "2019-06-04T16:00:00",
          "2019-06-04T17:00:00",
          "2019-06-04T18:00:00",
          "2019-06-04T19:00:00",
          "2019-06-04T20:00:00",
          "2019-06-04T21:00:00",
          "2019-06-04T22:00:00",
          "2019-06-04T23:00:00"
         ],
         "y": [
          0.0818125,
          0.06825,
          0.097,
          0.083625,
          0.0905625,
          0.11993749999999997,
          0.1354375,
          0.38225,
          0.27206250000000004,
          0.07524999999999996,
          0.13274999999999992,
          0.08162499999999992,
          0.09331249999999998,
          0.09124999999999994,
          0.06293750000000001,
          0.14312499999999997,
          0.1430625,
          0.10156249999999997,
          0.31149999999999994,
          0.144875,
          0.09268749999999999,
          0.09375,
          0.076125,
          0.068125
         ]
        }
       ],
       "layout": {
        "legend": {
         "title": {
          "text": ""
         },
         "tracegroupgap": 0
        },
        "margin": {
         "t": 60
        },
        "template": {
         "data": {
          "bar": [
           {
            "error_x": {
             "color": "#2a3f5f"
            },
            "error_y": {
             "color": "#2a3f5f"
            },
            "marker": {
             "line": {
              "color": "#E5ECF6",
              "width": 0.5
             },
             "pattern": {
              "fillmode": "overlay",
              "size": 10,
              "solidity": 0.2
             }
            },
            "type": "bar"
           }
          ],
          "barpolar": [
           {
            "marker": {
             "line": {
              "color": "#E5ECF6",
              "width": 0.5
             },
             "pattern": {
              "fillmode": "overlay",
              "size": 10,
              "solidity": 0.2
             }
            },
            "type": "barpolar"
           }
          ],
          "carpet": [
           {
            "aaxis": {
             "endlinecolor": "#2a3f5f",
             "gridcolor": "white",
             "linecolor": "white",
             "minorgridcolor": "white",
             "startlinecolor": "#2a3f5f"
            },
            "baxis": {
             "endlinecolor": "#2a3f5f",
             "gridcolor": "white",
             "linecolor": "white",
             "minorgridcolor": "white",
             "startlinecolor": "#2a3f5f"
            },
            "type": "carpet"
           }
          ],
          "choropleth": [
           {
            "colorbar": {
             "outlinewidth": 0,
             "ticks": ""
            },
            "type": "choropleth"
           }
          ],
          "contour": [
           {
            "colorbar": {
             "outlinewidth": 0,
             "ticks": ""
            },
            "colorscale": [
             [
              0,
              "#0d0887"
             ],
             [
              0.1111111111111111,
              "#46039f"
             ],
             [
              0.2222222222222222,
              "#7201a8"
             ],
             [
              0.3333333333333333,
              "#9c179e"
             ],
             [
              0.4444444444444444,
              "#bd3786"
             ],
             [
              0.5555555555555556,
              "#d8576b"
             ],
             [
              0.6666666666666666,
              "#ed7953"
             ],
             [
              0.7777777777777778,
              "#fb9f3a"
             ],
             [
              0.8888888888888888,
              "#fdca26"
             ],
             [
              1,
              "#f0f921"
             ]
            ],
            "type": "contour"
           }
          ],
          "contourcarpet": [
           {
            "colorbar": {
             "outlinewidth": 0,
             "ticks": ""
            },
            "type": "contourcarpet"
           }
          ],
          "heatmap": [
           {
            "colorbar": {
             "outlinewidth": 0,
             "ticks": ""
            },
            "colorscale": [
             [
              0,
              "#0d0887"
             ],
             [
              0.1111111111111111,
              "#46039f"
             ],
             [
              0.2222222222222222,
              "#7201a8"
             ],
             [
              0.3333333333333333,
              "#9c179e"
             ],
             [
              0.4444444444444444,
              "#bd3786"
             ],
             [
              0.5555555555555556,
              "#d8576b"
             ],
             [
              0.6666666666666666,
              "#ed7953"
             ],
             [
              0.7777777777777778,
              "#fb9f3a"
             ],
             [
              0.8888888888888888,
              "#fdca26"
             ],
             [
              1,
              "#f0f921"
             ]
            ],
            "type": "heatmap"
           }
          ],
          "heatmapgl": [
           {
            "colorbar": {
             "outlinewidth": 0,
             "ticks": ""
            },
            "colorscale": [
             [
              0,
              "#0d0887"
             ],
             [
              0.1111111111111111,
              "#46039f"
             ],
             [
              0.2222222222222222,
              "#7201a8"
             ],
             [
              0.3333333333333333,
              "#9c179e"
             ],
             [
              0.4444444444444444,
              "#bd3786"
             ],
             [
              0.5555555555555556,
              "#d8576b"
             ],
             [
              0.6666666666666666,
              "#ed7953"
             ],
             [
              0.7777777777777778,
              "#fb9f3a"
             ],
             [
              0.8888888888888888,
              "#fdca26"
             ],
             [
              1,
              "#f0f921"
             ]
            ],
            "type": "heatmapgl"
           }
          ],
          "histogram": [
           {
            "marker": {
             "pattern": {
              "fillmode": "overlay",
              "size": 10,
              "solidity": 0.2
             }
            },
            "type": "histogram"
           }
          ],
          "histogram2d": [
           {
            "colorbar": {
             "outlinewidth": 0,
             "ticks": ""
            },
            "colorscale": [
             [
              0,
              "#0d0887"
             ],
             [
              0.1111111111111111,
              "#46039f"
             ],
             [
              0.2222222222222222,
              "#7201a8"
             ],
             [
              0.3333333333333333,
              "#9c179e"
             ],
             [
              0.4444444444444444,
              "#bd3786"
             ],
             [
              0.5555555555555556,
              "#d8576b"
             ],
             [
              0.6666666666666666,
              "#ed7953"
             ],
             [
              0.7777777777777778,
              "#fb9f3a"
             ],
             [
              0.8888888888888888,
              "#fdca26"
             ],
             [
              1,
              "#f0f921"
             ]
            ],
            "type": "histogram2d"
           }
          ],
          "histogram2dcontour": [
           {
            "colorbar": {
             "outlinewidth": 0,
             "ticks": ""
            },
            "colorscale": [
             [
              0,
              "#0d0887"
             ],
             [
              0.1111111111111111,
              "#46039f"
             ],
             [
              0.2222222222222222,
              "#7201a8"
             ],
             [
              0.3333333333333333,
              "#9c179e"
             ],
             [
              0.4444444444444444,
              "#bd3786"
             ],
             [
              0.5555555555555556,
              "#d8576b"
             ],
             [
              0.6666666666666666,
              "#ed7953"
             ],
             [
              0.7777777777777778,
              "#fb9f3a"
             ],
             [
              0.8888888888888888,
              "#fdca26"
             ],
             [
              1,
              "#f0f921"
             ]
            ],
            "type": "histogram2dcontour"
           }
          ],
          "mesh3d": [
           {
            "colorbar": {
             "outlinewidth": 0,
             "ticks": ""
            },
            "type": "mesh3d"
           }
          ],
          "parcoords": [
           {
            "line": {
             "colorbar": {
              "outlinewidth": 0,
              "ticks": ""
             }
            },
            "type": "parcoords"
           }
          ],
          "pie": [
           {
            "automargin": true,
            "type": "pie"
           }
          ],
          "scatter": [
           {
            "fillpattern": {
             "fillmode": "overlay",
             "size": 10,
             "solidity": 0.2
            },
            "type": "scatter"
           }
          ],
          "scatter3d": [
           {
            "line": {
             "colorbar": {
              "outlinewidth": 0,
              "ticks": ""
             }
            },
            "marker": {
             "colorbar": {
              "outlinewidth": 0,
              "ticks": ""
             }
            },
            "type": "scatter3d"
           }
          ],
          "scattercarpet": [
           {
            "marker": {
             "colorbar": {
              "outlinewidth": 0,
              "ticks": ""
             }
            },
            "type": "scattercarpet"
           }
          ],
          "scattergeo": [
           {
            "marker": {
             "colorbar": {
              "outlinewidth": 0,
              "ticks": ""
             }
            },
            "type": "scattergeo"
           }
          ],
          "scattergl": [
           {
            "marker": {
             "colorbar": {
              "outlinewidth": 0,
              "ticks": ""
             }
            },
            "type": "scattergl"
           }
          ],
          "scattermapbox": [
           {
            "marker": {
             "colorbar": {
              "outlinewidth": 0,
              "ticks": ""
             }
            },
            "type": "scattermapbox"
           }
          ],
          "scatterpolar": [
           {
            "marker": {
             "colorbar": {
              "outlinewidth": 0,
              "ticks": ""
             }
            },
            "type": "scatterpolar"
           }
          ],
          "scatterpolargl": [
           {
            "marker": {
             "colorbar": {
              "outlinewidth": 0,
              "ticks": ""
             }
            },
            "type": "scatterpolargl"
           }
          ],
          "scatterternary": [
           {
            "marker": {
             "colorbar": {
              "outlinewidth": 0,
              "ticks": ""
             }
            },
            "type": "scatterternary"
           }
          ],
          "surface": [
           {
            "colorbar": {
             "outlinewidth": 0,
             "ticks": ""
            },
            "colorscale": [
             [
              0,
              "#0d0887"
             ],
             [
              0.1111111111111111,
              "#46039f"
             ],
             [
              0.2222222222222222,
              "#7201a8"
             ],
             [
              0.3333333333333333,
              "#9c179e"
             ],
             [
              0.4444444444444444,
              "#bd3786"
             ],
             [
              0.5555555555555556,
              "#d8576b"
             ],
             [
              0.6666666666666666,
              "#ed7953"
             ],
             [
              0.7777777777777778,
              "#fb9f3a"
             ],
             [
              0.8888888888888888,
              "#fdca26"
             ],
             [
              1,
              "#f0f921"
             ]
            ],
            "type": "surface"
           }
          ],
          "table": [
           {
            "cells": {
             "fill": {
              "color": "#EBF0F8"
             },
             "line": {
              "color": "white"
             }
            },
            "header": {
             "fill": {
              "color": "#C8D4E3"
             },
             "line": {
              "color": "white"
             }
            },
            "type": "table"
           }
          ]
         },
         "layout": {
          "annotationdefaults": {
           "arrowcolor": "#2a3f5f",
           "arrowhead": 0,
           "arrowwidth": 1
          },
          "autotypenumbers": "strict",
          "coloraxis": {
           "colorbar": {
            "outlinewidth": 0,
            "ticks": ""
           }
          },
          "colorscale": {
           "diverging": [
            [
             0,
             "#8e0152"
            ],
            [
             0.1,
             "#c51b7d"
            ],
            [
             0.2,
             "#de77ae"
            ],
            [
             0.3,
             "#f1b6da"
            ],
            [
             0.4,
             "#fde0ef"
            ],
            [
             0.5,
             "#f7f7f7"
            ],
            [
             0.6,
             "#e6f5d0"
            ],
            [
             0.7,
             "#b8e186"
            ],
            [
             0.8,
             "#7fbc41"
            ],
            [
             0.9,
             "#4d9221"
            ],
            [
             1,
             "#276419"
            ]
           ],
           "sequential": [
            [
             0,
             "#0d0887"
            ],
            [
             0.1111111111111111,
             "#46039f"
            ],
            [
             0.2222222222222222,
             "#7201a8"
            ],
            [
             0.3333333333333333,
             "#9c179e"
            ],
            [
             0.4444444444444444,
             "#bd3786"
            ],
            [
             0.5555555555555556,
             "#d8576b"
            ],
            [
             0.6666666666666666,
             "#ed7953"
            ],
            [
             0.7777777777777778,
             "#fb9f3a"
            ],
            [
             0.8888888888888888,
             "#fdca26"
            ],
            [
             1,
             "#f0f921"
            ]
           ],
           "sequentialminus": [
            [
             0,
             "#0d0887"
            ],
            [
             0.1111111111111111,
             "#46039f"
            ],
            [
             0.2222222222222222,
             "#7201a8"
            ],
            [
             0.3333333333333333,
             "#9c179e"
            ],
            [
             0.4444444444444444,
             "#bd3786"
            ],
            [
             0.5555555555555556,
             "#d8576b"
            ],
            [
             0.6666666666666666,
             "#ed7953"
            ],
            [
             0.7777777777777778,
             "#fb9f3a"
            ],
            [
             0.8888888888888888,
             "#fdca26"
            ],
            [
             1,
             "#f0f921"
            ]
           ]
          },
          "colorway": [
           "#636efa",
           "#EF553B",
           "#00cc96",
           "#ab63fa",
           "#FFA15A",
           "#19d3f3",
           "#FF6692",
           "#B6E880",
           "#FF97FF",
           "#FECB52"
          ],
          "font": {
           "color": "#2a3f5f"
          },
          "geo": {
           "bgcolor": "white",
           "lakecolor": "white",
           "landcolor": "#E5ECF6",
           "showlakes": true,
           "showland": true,
           "subunitcolor": "white"
          },
          "hoverlabel": {
           "align": "left"
          },
          "hovermode": "closest",
          "mapbox": {
           "style": "light"
          },
          "paper_bgcolor": "white",
          "plot_bgcolor": "#E5ECF6",
          "polar": {
           "angularaxis": {
            "gridcolor": "white",
            "linecolor": "white",
            "ticks": ""
           },
           "bgcolor": "#E5ECF6",
           "radialaxis": {
            "gridcolor": "white",
            "linecolor": "white",
            "ticks": ""
           }
          },
          "scene": {
           "xaxis": {
            "backgroundcolor": "#E5ECF6",
            "gridcolor": "white",
            "gridwidth": 2,
            "linecolor": "white",
            "showbackground": true,
            "ticks": "",
            "zerolinecolor": "white"
           },
           "yaxis": {
            "backgroundcolor": "#E5ECF6",
            "gridcolor": "white",
            "gridwidth": 2,
            "linecolor": "white",
            "showbackground": true,
            "ticks": "",
            "zerolinecolor": "white"
           },
           "zaxis": {
            "backgroundcolor": "#E5ECF6",
            "gridcolor": "white",
            "gridwidth": 2,
            "linecolor": "white",
            "showbackground": true,
            "ticks": "",
            "zerolinecolor": "white"
           }
          },
          "shapedefaults": {
           "line": {
            "color": "#2a3f5f"
           }
          },
          "ternary": {
           "aaxis": {
            "gridcolor": "white",
            "linecolor": "white",
            "ticks": ""
           },
           "baxis": {
            "gridcolor": "white",
            "linecolor": "white",
            "ticks": ""
           },
           "bgcolor": "#E5ECF6",
           "caxis": {
            "gridcolor": "white",
            "linecolor": "white",
            "ticks": ""
           }
          },
          "title": {
           "x": 0.05
          },
          "xaxis": {
           "automargin": true,
           "gridcolor": "white",
           "linecolor": "white",
           "ticks": "",
           "title": {
            "standoff": 15
           },
           "zerolinecolor": "white",
           "zerolinewidth": 2
          },
          "yaxis": {
           "automargin": true,
           "gridcolor": "white",
           "linecolor": "white",
           "ticks": "",
           "title": {
            "standoff": 15
           },
           "zerolinecolor": "white",
           "zerolinewidth": 2
          }
         }
        },
        "title": {
         "text": "Rolling forecast of non-shiftable energy demand"
        },
        "xaxis": {
         "anchor": "y",
         "domain": [
          0,
          1
         ],
         "title": {
          "text": "Time"
         }
        },
        "yaxis": {
         "anchor": "x",
         "domain": [
          0,
          1
         ],
         "title": {
          "text": "Energy [kWh]"
         }
        }
       }
      }
     },
     "metadata": {},
     "output_type": "display_data"
    }
   ],
   "source": [
    "df[\"From2\"] = \"Forecast at \" + df[\"From\"].str.slice(start=-8, stop=-3)\n",
    "\n",
    "DIAS = dias[3:4]\n",
    "\n",
    "colorscale = []\n",
    "rgb = px.colors.convert_colors_to_same_type(px.colors.sequential.haline)[0]\n",
    "n_steps = int(np.round(28/(len(rgb)-1)))  # Control the number of colors in the final colorscale\n",
    "for i in range(len(rgb) - 1):\n",
    "    for step in np.linspace(0, 1, n_steps):\n",
    "        colorscale.append(px.colors.find_intermediate_color(rgb[i], rgb[i + 1], step, colortype='rgb'))\n",
    "\n",
    "for i in range(len(colorscale)):\n",
    "    colorscale[i] = colorscale[i][:-1]+', 0.5)'\n",
    "    colorscale[i] = 'rgba'+colorscale[i][3:]\n",
    "\n",
    "fig = px.line(df[df['Day'].isin(DIAS)], x=\"local_15min\", y=\"forecast\", color='From2',color_discrete_sequence=colorscale, labels={\"From2\": \"\"})\n",
    "\n",
    "labels_to_show_in_legend = [\"Forecast at 0{}:00\".format(i) for i in range(0, 10, 2)]+[\"Forecast at {}:00\".format(i) for i in range(10, 24, 2)]\n",
    "\n",
    "for trace in fig['data']: \n",
    "    if (not trace['name'] in labels_to_show_in_legend):\n",
    "        trace['showlegend'] = False\n",
    "\n",
    "fig.add_trace(go.Scatter(x=df_real[df_real['local_15min'].dt.date.isin(pd.to_datetime(DIAS).date)][\"local_15min\"], \n",
    "                         y=df_real[df_real['local_15min'].dt.date.isin(pd.to_datetime(DIAS).date)][\"nonshiftable\"], \n",
    "                         name=\"Real energy demand\",\n",
    "                         line=dict(color='black'),))\n",
    "\n",
    "fig.update_layout(title_text=\"Rolling forecast of non-shiftable energy demand\",\n",
    "                  yaxis=dict(title=\"Energy [kWh]\"),\n",
    "                  xaxis=dict(title= \"Time\"))\n",
    "\n",
    "fig.write_image(\"../../Soportes documento/Graficas documento/demand_forecast.png\", scale=2, height = 450, width=700)\n",
    "fig.show()"
   ]
  }
 ],
 "metadata": {
  "kernelspec": {
   "display_name": "base",
   "language": "python",
   "name": "python3"
  },
  "language_info": {
   "codemirror_mode": {
    "name": "ipython",
    "version": 3
   },
   "file_extension": ".py",
   "mimetype": "text/x-python",
   "name": "python",
   "nbconvert_exporter": "python",
   "pygments_lexer": "ipython3",
   "version": "3.8.8"
  },
  "orig_nbformat": 4,
  "vscode": {
   "interpreter": {
    "hash": "60c44fe3fe06e59038b8ba257976ab92ee503687eb42d70d890aa9534d61bbf5"
   }
  }
 },
 "nbformat": 4,
 "nbformat_minor": 2
}
